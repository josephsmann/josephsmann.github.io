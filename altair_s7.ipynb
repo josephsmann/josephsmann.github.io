{
 "cells": [
  {
   "cell_type": "code",
   "execution_count": 1,
   "metadata": {},
   "outputs": [],
   "source": [
    "import pandas as pd\n",
    "import numpy as np\n",
    "import sys"
   ]
  },
  {
   "cell_type": "code",
   "execution_count": 2,
   "metadata": {},
   "outputs": [],
   "source": [
    "sys.path.insert(0, \"/Users/josephmann/Documents/GitHub/altair/\")"
   ]
  },
  {
   "cell_type": "code",
   "execution_count": 3,
   "metadata": {},
   "outputs": [],
   "source": [
    "import altair as alt"
   ]
  },
  {
   "cell_type": "code",
   "execution_count": 4,
   "metadata": {},
   "outputs": [
    {
     "data": {
      "text/plain": [
       "'2.2.0dev0'"
      ]
     },
     "execution_count": 4,
     "metadata": {},
     "output_type": "execute_result"
    }
   ],
   "source": [
    "alt.__version__"
   ]
  },
  {
   "cell_type": "code",
   "execution_count": 5,
   "metadata": {},
   "outputs": [
    {
     "data": {
      "text/plain": [
       "['TA1', 'TA2', 'TA3', 'TA4', 'TA5', 'TA6', 'TA7']"
      ]
     },
     "execution_count": 5,
     "metadata": {},
     "output_type": "execute_result"
    }
   ],
   "source": [
    "leg_times = [f\"TA{c+1}\" for c in range(7)]# + ['TotalTime']\n",
    "leg_times"
   ]
  },
  {
   "cell_type": "code",
   "execution_count": 6,
   "metadata": {},
   "outputs": [],
   "source": [
    "# need to manually fetch data from Zone 4\n",
    "o_df = pd.read_csv(\"over_all_s7_2018.csv\", skiprows=271)"
   ]
  },
  {
   "cell_type": "code",
   "execution_count": 7,
   "metadata": {},
   "outputs": [],
   "source": [
    "oc_df = o_df.rename({\"Unnamed: 6\":\"Bib\", \"Unnamed: 4\":\"TeamName\", \"Finish\":\"TA7\",\"Unnamed: 2\":\"TotalTime\"}, axis=1)\n",
    "cum_df =  o_df.rename({\"Unnamed: 6\":\"Bib\", \"Unnamed: 4\":\"TeamName\", \"Finish\":\"TA7\",\"Unnamed: 2\":\"TotalTime\"}, axis=1)\n",
    "oc_df = oc_df.drop('Team', axis=1)\n",
    "\n",
    "\n",
    "oc_df.loc[:,leg_times] =oc_df.loc[:,leg_times].apply(pd.to_timedelta, errors='coerce' )"
   ]
  },
  {
   "cell_type": "code",
   "execution_count": 8,
   "metadata": {},
   "outputs": [],
   "source": [
    "cum_df[leg_times] = cum_df[leg_times].apply(pd.to_timedelta, errors='coerce' ) +  pd.Timestamp('July 7, 2018')"
   ]
  },
  {
   "cell_type": "code",
   "execution_count": 9,
   "metadata": {},
   "outputs": [],
   "source": [
    "t_a = oc_df.loc[:,leg_times].values\n",
    "\n",
    "diff_a = t_a[:,1:] - t_a[:,:-1]\n",
    "\n",
    "c_a = np.concatenate((t_a[:,[0]], diff_a),axis=1)\n",
    "oc_df.loc[:,leg_times] = c_a \n"
   ]
  },
  {
   "cell_type": "code",
   "execution_count": 10,
   "metadata": {},
   "outputs": [],
   "source": [
    "oc_df.loc[:,leg_times] = oc_df.loc[:, leg_times].applymap(lambda t: pd.to_timedelta(t,'ns'))\n",
    "oc_df.loc[:, leg_times] = oc_df.loc[:, leg_times]+ pd.Timestamp('July 7, 2018') "
   ]
  },
  {
   "cell_type": "code",
   "execution_count": 12,
   "metadata": {},
   "outputs": [],
   "source": [
    "# single = alt.selection_multi(on='mouseover',   fields=['Bib'], empty='none') # on='mouseover', nearest=True,toggle=True, on='mouseover', \n",
    "# single = alt.selection_interval(  fields=['Bib'], empty='none') # on='mouseover', nearest=True,toggle=True, on='mouseover', \n",
    "\n",
    "\n",
    "# slider = alt.binding_range(min=700, max=920, step=1)\n",
    "# select_bib = alt.selection_single(name=\"Team\", fields=['Bib'], bind=slider,  empty='none')\n",
    "slider = alt.binding_range(min=700, max=920, step=1)\n",
    "# select_bib = alt.selection_single(name=\"Team\", fields=['Bib'], bind=slider,  empty='none')\n",
    "select_bib = alt.selection_multi( fields=['Bib'], empty='none')#, bind=slider,  )\n",
    "\n",
    "\n",
    "ctcum_df = cum_df.melt(\n",
    "        id_vars=['Bib','TeamName'],\n",
    "        value_vars=[ 'TA1', 'TA2', 'TA3', 'TA4', 'TA5', 'TA6', 'TA7'],\n",
    "        var_name='leg',\n",
    "        value_name='leg_time'\n",
    "        )\n",
    "\n",
    "ct_df = oc_df.melt(\n",
    "        id_vars=['Bib','TeamName'],\n",
    "        value_vars=[ 'TA1', 'TA2', 'TA3', 'TA4', 'TA5', 'TA6', 'TA7'],\n",
    "        var_name='leg',\n",
    "        value_name='leg_time'\n",
    "        )\n",
    "\n",
    "\n",
    "ct_ind_cum_df=  pd.merge(\n",
    "    ct_df, ctcum_df, on=['Bib','leg','TeamName']\n",
    ").rename(\n",
    "    {'leg_time_x':'leg_time_i','leg_time_y':'leg_time_c'}, axis=1\n",
    ").dropna()\n",
    "\n",
    "leg_base_c = alt.Chart( \n",
    "    title=\"Sinister 7, 2018 Team Leg Times\"\n",
    ").mark_tick(\n",
    "    orient='vertical', opacity=0.9,# thickness=2,\n",
    ").encode(\n",
    "    alt.Y(\n",
    "        'leg:O',\n",
    "#         scale=alt.Scale(domain=[690, 930]),\n",
    "#         axis=None,\n",
    "        title='Leg'\n",
    "    ),\n",
    "    \n",
    "    tooltip = [\n",
    "        alt.Tooltip('leg_time_i:T', format=\"%H:%M:%S\", title='Ind Leg Time'),\n",
    "        alt.Tooltip('leg_time_c:T', format=\"%H:%M:%S\", title='Team Leg Time'),\n",
    "        'Bib:N',\n",
    "        'TeamName:N', \n",
    "        alt.Tooltip('leg_rank_i:O', title='Individual Leg Rank'),\n",
    "        alt.Tooltip('leg_rank_c:O', title='Team Leg Rank'),\n",
    "        ],\n",
    "    \n",
    "    size = alt.condition(\n",
    "        select_bib,\n",
    "        alt.value(50),\n",
    "        alt.value(30)),\n",
    "    \n",
    "    color = alt.condition(\n",
    "        select_bib,\n",
    "        alt.Color('TeamName:N',\n",
    "#                   scale=alt.Scale(range=[\"#EA98D2\", \"#659CCA\"]),\n",
    "                 legend=None),\n",
    "        alt.value('lightblue')),\n",
    "    \n",
    "   opacity = alt.condition(\n",
    "        select_bib,\n",
    "        alt.value(1.0),\n",
    "        alt.value(0.5)),\n",
    " \n",
    ").properties(\n",
    "    width=1000,\n",
    "    height=300\n",
    ").transform_filter(\n",
    "    \"datum.leg_time_c > toDate('2018-07-07 00:00:00.000') |  datum.leg_time_i > toDate('2018-07-07 00:00:00.000')\" # this works!\n",
    ").transform_window(\n",
    "    window=[alt.WindowFieldDef(op='rank', field='leg_time_i',  **{'as': 'leg_rank_i' })],\n",
    "    groupby=['leg'],\n",
    "    frame=[None, None],\n",
    "    sort= [alt.SortField('leg_time_i', alt.VgComparatorOrder('ascending'))]  #necessary to get ranking per leg correct\n",
    ").transform_window(\n",
    "    window=[alt.WindowFieldDef(op='rank', field='leg_time_c',  **{'as': 'leg_rank_c' })],\n",
    "    groupby=['leg'],\n",
    "    frame=[None, None],\n",
    "    sort= [alt.SortField('leg_time_c', alt.VgComparatorOrder('ascending'))]  #necessary to get ranking per leg correct\n",
    ")\n",
    "\n",
    "\n",
    "leg_c_c = leg_base_c.encode(\n",
    "     alt.X(\n",
    "        'leg_time_c:T', \n",
    "        timeUnit=\"yearmonthdatehoursminutesseconds\",\n",
    "        axis= alt.Axis(format=\"%H:%M\", title=\"Leg Time\")\n",
    "    ),\n",
    ").interactive(\n",
    "    bind_y = False\n",
    ").add_selection(\n",
    "    select_bib\n",
    ").properties(\n",
    "    title=\"Sinister 7 Team Leg Times - 2018\"\n",
    ")\n",
    "\n",
    "leg_i_c = leg_base_c.encode(\n",
    "    alt.X(\n",
    "        'leg_time_i:T', \n",
    "        timeUnit=\"hoursminutesseconds\",\n",
    "        axis= alt.Axis(format=\"%H:%M\", title=\"Leg Time\")\n",
    "    ),\n",
    ").interactive(\n",
    "    bind_y = False\n",
    ").add_selection(\n",
    "    select_bib\n",
    ").properties(\n",
    "    title=\"Sinister 7 Individual Leg Times - 2018\"\n",
    ")"
   ]
  },
  {
   "cell_type": "code",
   "execution_count": 13,
   "metadata": {},
   "outputs": [],
   "source": [
    "comb_c = alt.vconcat(leg_c_c,  leg_i_c,  data= ct_ind_cum_df)\n",
    "# alt.vconcat(leg_c_c,  leg_i_c, data=)"
   ]
  },
  {
   "cell_type": "code",
   "execution_count": 14,
   "metadata": {},
   "outputs": [
    {
     "data": {
      "application/vnd.vegalite.v2+json": {
       "$schema": "https://vega.github.io/schema/vega-lite/v2.6.0.json",
       "config": {
        "view": {
         "height": 300,
         "width": 400
        }
       },
       "data": {
        "values": [
         {
          "Bib": 710,
          "TeamName": "Original Joes",
          "leg": "TA1",
          "leg_time_c": "2018-07-07 01:21:42.500",
          "leg_time_i": "2018-07-07 01:21:42.500"
         },
         {
          "Bib": 803,
          "TeamName": "Attitude Over Altitude",
          "leg": "TA1",
          "leg_time_c": "2018-07-07 01:24:45.500",
          "leg_time_i": "2018-07-07 01:24:45.500"
         },
         {
          "Bib": 796,
          "TeamName": "runlAB",
          "leg": "TA1",
          "leg_time_c": "2018-07-07 01:25:31.700",
          "leg_time_i": "2018-07-07 01:25:31.700"
         },
         {
          "Bib": 905,
          "TeamName": "The Tragically Tight Hips",
          "leg": "TA1",
          "leg_time_c": "2018-07-07 01:28:44.000",
          "leg_time_i": "2018-07-07 01:28:44.000"
         },
         {
          "Bib": 711,
          "TeamName": "No Limits",
          "leg": "TA1",
          "leg_time_c": "2018-07-07 01:33:35.200",
          "leg_time_i": "2018-07-07 01:33:35.200"
         },
         {
          "Bib": 787,
          "TeamName": "TIGHT HIPS AND SORE NIPS",
          "leg": "TA1",
          "leg_time_c": "2018-07-07 01:40:20.100",
          "leg_time_i": "2018-07-07 01:40:20.100"
         },
         {
          "Bib": 894,
          "TeamName": "The Maddogs",
          "leg": "TA1",
          "leg_time_c": "2018-07-07 01:21:45.600",
          "leg_time_i": "2018-07-07 01:21:45.600"
         },
         {
          "Bib": 812,
          "TeamName": "Vintage Vixens",
          "leg": "TA1",
          "leg_time_c": "2018-07-07 01:22:10.900",
          "leg_time_i": "2018-07-07 01:22:10.900"
         },
         {
          "Bib": 865,
          "TeamName": "Montagne Papis",
          "leg": "TA1",
          "leg_time_c": "2018-07-07 01:37:32.500",
          "leg_time_i": "2018-07-07 01:37:32.500"
         },
         {
          "Bib": 908,
          "TeamName": "Fast Trax YEG Trail Team",
          "leg": "TA1",
          "leg_time_c": "2018-07-07 01:50:47.400",
          "leg_time_i": "2018-07-07 01:50:47.400"
         },
         {
          "Bib": 820,
          "TeamName": "Lactic Asses",
          "leg": "TA1",
          "leg_time_c": "2018-07-07 01:30:18.900",
          "leg_time_i": "2018-07-07 01:30:18.900"
         },
         {
          "Bib": 784,
          "TeamName": "Mantrackers",
          "leg": "TA1",
          "leg_time_c": "2018-07-07 01:34:21.200",
          "leg_time_i": "2018-07-07 01:34:21.200"
         },
         {
          "Bib": 806,
          "TeamName": "Robbie's Rejects",
          "leg": "TA1",
          "leg_time_c": "2018-07-07 01:37:13.100",
          "leg_time_i": "2018-07-07 01:37:13.100"
         },
         {
          "Bib": 809,
          "TeamName": "Child's Play",
          "leg": "TA1",
          "leg_time_c": "2018-07-07 01:49:32.700",
          "leg_time_i": "2018-07-07 01:49:32.700"
         },
         {
          "Bib": 750,
          "TeamName": "Chafing Tail",
          "leg": "TA1",
          "leg_time_c": "2018-07-07 02:12:40.500",
          "leg_time_i": "2018-07-07 02:12:40.500"
         },
         {
          "Bib": 907,
          "TeamName": "Sole Crushers",
          "leg": "TA1",
          "leg_time_c": "2018-07-07 01:48:12.900",
          "leg_time_i": "2018-07-07 01:48:12.900"
         },
         {
          "Bib": 707,
          "TeamName": "STARS Prez-otaur",
          "leg": "TA1",
          "leg_time_c": "2018-07-07 02:00:12.800",
          "leg_time_i": "2018-07-07 02:00:12.800"
         },
         {
          "Bib": 904,
          "TeamName": "Chicks and Sticks",
          "leg": "TA1",
          "leg_time_c": "2018-07-07 02:02:25.000",
          "leg_time_i": "2018-07-07 02:02:25.000"
         },
         {
          "Bib": 869,
          "TeamName": "Steal My Sin-Shine",
          "leg": "TA1",
          "leg_time_c": "2018-07-07 02:06:55.700",
          "leg_time_i": "2018-07-07 02:06:55.700"
         },
         {
          "Bib": 843,
          "TeamName": "Road Kill",
          "leg": "TA1",
          "leg_time_c": "2018-07-07 01:58:10.900",
          "leg_time_i": "2018-07-07 01:58:10.900"
         },
         {
          "Bib": 900,
          "TeamName": "Lil' Runner Cuties",
          "leg": "TA1",
          "leg_time_c": "2018-07-07 01:51:11.700",
          "leg_time_i": "2018-07-07 01:51:11.700"
         },
         {
          "Bib": 845,
          "TeamName": "Garmin Cochrane",
          "leg": "TA1",
          "leg_time_c": "2018-07-07 01:35:28.000",
          "leg_time_i": "2018-07-07 01:35:28.000"
         },
         {
          "Bib": 858,
          "TeamName": "Worst Pace Scenario",
          "leg": "TA1",
          "leg_time_c": "2018-07-07 01:46:52.200",
          "leg_time_i": "2018-07-07 01:46:52.200"
         },
         {
          "Bib": 815,
          "TeamName": "Rum Runners",
          "leg": "TA1",
          "leg_time_c": "2018-07-07 01:55:17.600",
          "leg_time_i": "2018-07-07 01:55:17.600"
         },
         {
          "Bib": 777,
          "TeamName": "Clash of Clans",
          "leg": "TA1",
          "leg_time_c": "2018-07-07 01:56:28.000",
          "leg_time_i": "2018-07-07 01:56:28.000"
         },
         {
          "Bib": 722,
          "TeamName": "Misters, Sisters, and Blisters",
          "leg": "TA1",
          "leg_time_c": "2018-07-07 01:49:34.300",
          "leg_time_i": "2018-07-07 01:49:34.300"
         },
         {
          "Bib": 846,
          "TeamName": "Penisters",
          "leg": "TA1",
          "leg_time_c": "2018-07-07 02:06:25.800",
          "leg_time_i": "2018-07-07 02:06:25.800"
         },
         {
          "Bib": 740,
          "TeamName": "Trail Nuts",
          "leg": "TA1",
          "leg_time_c": "2018-07-07 01:41:37.500",
          "leg_time_i": "2018-07-07 01:41:37.500"
         },
         {
          "Bib": 831,
          "TeamName": "Trans Mountain Plan B",
          "leg": "TA1",
          "leg_time_c": "2018-07-07 02:12:23.500",
          "leg_time_i": "2018-07-07 02:12:23.500"
         },
         {
          "Bib": 853,
          "TeamName": "Scrambled Legs",
          "leg": "TA1",
          "leg_time_c": "2018-07-07 02:07:21.500",
          "leg_time_i": "2018-07-07 02:07:21.500"
         },
         {
          "Bib": 744,
          "TeamName": "Undertrained and Overconfident",
          "leg": "TA1",
          "leg_time_c": "2018-07-07 01:44:49.700",
          "leg_time_i": "2018-07-07 01:44:49.700"
         },
         {
          "Bib": 763,
          "TeamName": "James Baxter",
          "leg": "TA1",
          "leg_time_c": "2018-07-07 01:54:20.900",
          "leg_time_i": "2018-07-07 01:54:20.900"
         },
         {
          "Bib": 755,
          "TeamName": "Run like the winded",
          "leg": "TA1",
          "leg_time_c": "2018-07-07 01:51:08.600",
          "leg_time_i": "2018-07-07 01:51:08.600"
         },
         {
          "Bib": 746,
          "TeamName": "Marmot Whisperers",
          "leg": "TA1",
          "leg_time_c": "2018-07-07 02:02:56.900",
          "leg_time_i": "2018-07-07 02:02:56.900"
         },
         {
          "Bib": 839,
          "TeamName": "The Cruisettes",
          "leg": "TA1",
          "leg_time_c": "2018-07-07 02:15:09.500",
          "leg_time_i": "2018-07-07 02:15:09.500"
         },
         {
          "Bib": 727,
          "TeamName": "Beavers Are Amazing",
          "leg": "TA1",
          "leg_time_c": "2018-07-07 02:07:08.300",
          "leg_time_i": "2018-07-07 02:07:08.300"
         },
         {
          "Bib": 872,
          "TeamName": "Don't Feel Awful, Eat a Waffle!",
          "leg": "TA1",
          "leg_time_c": "2018-07-07 01:42:21.700",
          "leg_time_i": "2018-07-07 01:42:21.700"
         },
         {
          "Bib": 860,
          "TeamName": "Happy Trails",
          "leg": "TA1",
          "leg_time_c": "2018-07-07 02:20:47.700",
          "leg_time_i": "2018-07-07 02:20:47.700"
         },
         {
          "Bib": 757,
          "TeamName": "Chernobyl",
          "leg": "TA1",
          "leg_time_c": "2018-07-07 02:07:02.500",
          "leg_time_i": "2018-07-07 02:07:02.500"
         },
         {
          "Bib": 734,
          "TeamName": "SCRAMBLED LEGS & HAM",
          "leg": "TA1",
          "leg_time_c": "2018-07-07 02:21:07.700",
          "leg_time_i": "2018-07-07 02:21:07.700"
         },
         {
          "Bib": 808,
          "TeamName": "#whatwerewethinking",
          "leg": "TA1",
          "leg_time_c": "2018-07-07 02:22:23.200",
          "leg_time_i": "2018-07-07 02:22:23.200"
         },
         {
          "Bib": 709,
          "TeamName": "Mixed Nuts",
          "leg": "TA1",
          "leg_time_c": "2018-07-07 02:00:15.400",
          "leg_time_i": "2018-07-07 02:00:15.400"
         },
         {
          "Bib": 891,
          "TeamName": "Jordan and the Vagisters",
          "leg": "TA1",
          "leg_time_c": "2018-07-07 02:03:05.000",
          "leg_time_i": "2018-07-07 02:03:05.000"
         },
         {
          "Bib": 867,
          "TeamName": "The Magnificent Seven",
          "leg": "TA1",
          "leg_time_c": "2018-07-07 02:20:38.400",
          "leg_time_i": "2018-07-07 02:20:38.400"
         },
         {
          "Bib": 788,
          "TeamName": "Blue Bayou",
          "leg": "TA1",
          "leg_time_c": "2018-07-07 01:53:54.500",
          "leg_time_i": "2018-07-07 01:53:54.500"
         },
         {
          "Bib": 745,
          "TeamName": "Fat Bastards",
          "leg": "TA1",
          "leg_time_c": "2018-07-07 02:25:14.800",
          "leg_time_i": "2018-07-07 02:25:14.800"
         },
         {
          "Bib": 850,
          "TeamName": "Chasing Trail",
          "leg": "TA1",
          "leg_time_c": "2018-07-07 01:51:10.900",
          "leg_time_i": "2018-07-07 01:51:10.900"
         },
         {
          "Bib": 724,
          "TeamName": "6 Estees & a Teste",
          "leg": "TA1",
          "leg_time_c": "2018-07-07 02:19:09.800",
          "leg_time_i": "2018-07-07 02:19:09.800"
         },
         {
          "Bib": 737,
          "TeamName": "Crow's Feet",
          "leg": "TA1",
          "leg_time_c": "2018-07-07 02:16:42.700",
          "leg_time_i": "2018-07-07 02:16:42.700"
         },
         {
          "Bib": 847,
          "TeamName": "Chasing Trail Volume 2",
          "leg": "TA1",
          "leg_time_c": "2018-07-07 01:59:58.300",
          "leg_time_i": "2018-07-07 01:59:58.300"
         },
         {
          "Bib": 798,
          "TeamName": "River City Front Runners",
          "leg": "TA1",
          "leg_time_c": "2018-07-07 02:17:56.500",
          "leg_time_i": "2018-07-07 02:17:56.500"
         },
         {
          "Bib": 779,
          "TeamName": "Running on a Dream",
          "leg": "TA1",
          "leg_time_c": "2018-07-07 01:44:24.600",
          "leg_time_i": "2018-07-07 01:44:24.600"
         },
         {
          "Bib": 902,
          "TeamName": "www.SLOW",
          "leg": "TA1",
          "leg_time_c": "2018-07-07 02:46:02.600",
          "leg_time_i": "2018-07-07 02:46:02.600"
         },
         {
          "Bib": 824,
          "TeamName": "Flatliners",
          "leg": "TA1",
          "leg_time_c": "2018-07-07 02:04:58.100",
          "leg_time_i": "2018-07-07 02:04:58.100"
         },
         {
          "Bib": 873,
          "TeamName": "Like fun, only different",
          "leg": "TA1",
          "leg_time_c": "2018-07-07 02:02:17.000",
          "leg_time_i": "2018-07-07 02:02:17.000"
         },
         {
          "Bib": 880,
          "TeamName": "Bear Naked",
          "leg": "TA1",
          "leg_time_c": "2018-07-07 02:10:38.200",
          "leg_time_i": "2018-07-07 02:10:38.200"
         },
         {
          "Bib": 840,
          "TeamName": "Another Drunk Idea Gone Wrong",
          "leg": "TA1",
          "leg_time_c": "2018-07-07 02:00:07.500",
          "leg_time_i": "2018-07-07 02:00:07.500"
         },
         {
          "Bib": 816,
          "TeamName": "Mission District Run Crew",
          "leg": "TA1",
          "leg_time_c": "2018-07-07 02:48:21.800",
          "leg_time_i": "2018-07-07 02:48:21.800"
         },
         {
          "Bib": 823,
          "TeamName": "Couple's Retreat",
          "leg": "TA1",
          "leg_time_c": "2018-07-07 02:08:45.600",
          "leg_time_i": "2018-07-07 02:08:45.600"
         },
         {
          "Bib": 897,
          "TeamName": "Bitchymen Plus Three",
          "leg": "TA1",
          "leg_time_c": "2018-07-07 01:49:47.600",
          "leg_time_i": "2018-07-07 01:49:47.600"
         },
         {
          "Bib": 864,
          "TeamName": "Magnificent 7",
          "leg": "TA1",
          "leg_time_c": "2018-07-07 02:15:48.900",
          "leg_time_i": "2018-07-07 02:15:48.900"
         },
         {
          "Bib": 889,
          "TeamName": "Epic Legs",
          "leg": "TA1",
          "leg_time_c": "2018-07-07 02:07:09.400",
          "leg_time_i": "2018-07-07 02:07:09.400"
         },
         {
          "Bib": 776,
          "TeamName": "No \"Olds\" Barred",
          "leg": "TA1",
          "leg_time_c": "2018-07-07 02:03:38.800",
          "leg_time_i": "2018-07-07 02:03:38.800"
         },
         {
          "Bib": 879,
          "TeamName": "TBD",
          "leg": "TA1",
          "leg_time_c": "2018-07-07 02:11:38.800",
          "leg_time_i": "2018-07-07 02:11:38.800"
         },
         {
          "Bib": 732,
          "TeamName": "Team Honey Badgers",
          "leg": "TA1",
          "leg_time_c": "2018-07-07 02:09:48.700",
          "leg_time_i": "2018-07-07 02:09:48.700"
         },
         {
          "Bib": 753,
          "TeamName": "#OMC2",
          "leg": "TA1",
          "leg_time_c": "2018-07-07 02:35:13.000",
          "leg_time_i": "2018-07-07 02:35:13.000"
         },
         {
          "Bib": 836,
          "TeamName": "Prairie dogs",
          "leg": "TA1",
          "leg_time_c": "2018-07-07 02:07:54.700",
          "leg_time_i": "2018-07-07 02:07:54.700"
         },
         {
          "Bib": 859,
          "TeamName": "The Twinkies",
          "leg": "TA1",
          "leg_time_c": "2018-07-07 03:08:30.300",
          "leg_time_i": "2018-07-07 03:08:30.300"
         },
         {
          "Bib": 855,
          "TeamName": "I though you said let's go for a rum!",
          "leg": "TA1",
          "leg_time_c": "2018-07-07 02:28:11.900",
          "leg_time_i": "2018-07-07 02:28:11.900"
         },
         {
          "Bib": 810,
          "TeamName": "Squirtin' Pepperoni",
          "leg": "TA1",
          "leg_time_c": "2018-07-07 01:54:57.600",
          "leg_time_i": "2018-07-07 01:54:57.600"
         },
         {
          "Bib": 701,
          "TeamName": "Sex Panthers",
          "leg": "TA1",
          "leg_time_c": "2018-07-07 01:50:49.400",
          "leg_time_i": "2018-07-07 01:50:49.400"
         },
         {
          "Bib": 893,
          "TeamName": "Sunday Mall Walkers",
          "leg": "TA1",
          "leg_time_c": "2018-07-07 01:59:08.200",
          "leg_time_i": "2018-07-07 01:59:08.200"
         },
         {
          "Bib": 723,
          "TeamName": "Leg Day",
          "leg": "TA1",
          "leg_time_c": "2018-07-07 01:44:40.500",
          "leg_time_i": "2018-07-07 01:44:40.500"
         },
         {
          "Bib": 770,
          "TeamName": "Jelly Bellies",
          "leg": "TA1",
          "leg_time_c": "2018-07-07 01:37:42.900",
          "leg_time_i": "2018-07-07 01:37:42.900"
         },
         {
          "Bib": 856,
          "TeamName": "Forged by Fire",
          "leg": "TA1",
          "leg_time_c": "2018-07-07 01:49:34.700",
          "leg_time_i": "2018-07-07 01:49:34.700"
         },
         {
          "Bib": 764,
          "TeamName": "Sin and Bear It",
          "leg": "TA1",
          "leg_time_c": "2018-07-07 02:17:14.900",
          "leg_time_i": "2018-07-07 02:17:14.900"
         },
         {
          "Bib": 857,
          "TeamName": "Trail Snails",
          "leg": "TA1",
          "leg_time_c": "2018-07-07 02:11:40.100",
          "leg_time_i": "2018-07-07 02:11:40.100"
         },
         {
          "Bib": 826,
          "TeamName": "Burpin' Pepperoni",
          "leg": "TA1",
          "leg_time_c": "2018-07-07 02:21:41.200",
          "leg_time_i": "2018-07-07 02:21:41.200"
         },
         {
          "Bib": 849,
          "TeamName": "6 Inches of Subway",
          "leg": "TA1",
          "leg_time_c": "2018-07-07 02:13:36.600",
          "leg_time_i": "2018-07-07 02:13:36.600"
         },
         {
          "Bib": 786,
          "TeamName": "Trail Droppings",
          "leg": "TA1",
          "leg_time_c": "2018-07-07 02:10:49.600",
          "leg_time_i": "2018-07-07 02:10:49.600"
         },
         {
          "Bib": 733,
          "TeamName": "Mother's Little Helpers",
          "leg": "TA1",
          "leg_time_c": "2018-07-07 02:21:58.600",
          "leg_time_i": "2018-07-07 02:21:58.600"
         },
         {
          "Bib": 717,
          "TeamName": "Rapid Thigh Movement",
          "leg": "TA1",
          "leg_time_c": "2018-07-07 02:03:01.100",
          "leg_time_i": "2018-07-07 02:03:01.100"
         },
         {
          "Bib": 766,
          "TeamName": "Runsofarians",
          "leg": "TA1",
          "leg_time_c": "2018-07-07 02:15:17.300",
          "leg_time_i": "2018-07-07 02:15:17.300"
         },
         {
          "Bib": 761,
          "TeamName": "twisted blisters",
          "leg": "TA1",
          "leg_time_c": "2018-07-07 01:56:00.600",
          "leg_time_i": "2018-07-07 01:56:00.600"
         },
         {
          "Bib": 715,
          "TeamName": "Wandering Souls",
          "leg": "TA1",
          "leg_time_c": "2018-07-07 02:32:51.700",
          "leg_time_i": "2018-07-07 02:32:51.700"
         },
         {
          "Bib": 833,
          "TeamName": "Rough Runners",
          "leg": "TA1",
          "leg_time_c": "2018-07-07 01:58:53.800",
          "leg_time_i": "2018-07-07 01:58:53.800"
         },
         {
          "Bib": 743,
          "TeamName": "All Mixed Up",
          "leg": "TA1",
          "leg_time_c": "2018-07-07 02:19:07.900",
          "leg_time_i": "2018-07-07 02:19:07.900"
         },
         {
          "Bib": 771,
          "TeamName": "Lets get Rocked!",
          "leg": "TA1",
          "leg_time_c": "2018-07-07 02:16:56.800",
          "leg_time_i": "2018-07-07 02:16:56.800"
         },
         {
          "Bib": 822,
          "TeamName": "RAF",
          "leg": "TA1",
          "leg_time_c": "2018-07-07 02:28:32.100",
          "leg_time_i": "2018-07-07 02:28:32.100"
         },
         {
          "Bib": 899,
          "TeamName": "The Young & The Breathless",
          "leg": "TA1",
          "leg_time_c": "2018-07-07 02:40:50.700",
          "leg_time_i": "2018-07-07 02:40:50.700"
         },
         {
          "Bib": 862,
          "TeamName": "Your Pace or Mine?",
          "leg": "TA1",
          "leg_time_c": "2018-07-07 01:50:47.900",
          "leg_time_i": "2018-07-07 01:50:47.900"
         },
         {
          "Bib": 780,
          "TeamName": "Running on the Edge",
          "leg": "TA1",
          "leg_time_c": "2018-07-07 02:05:15.800",
          "leg_time_i": "2018-07-07 02:05:15.800"
         },
         {
          "Bib": 876,
          "TeamName": "Rhabd'oh!",
          "leg": "TA1",
          "leg_time_c": "2018-07-07 02:13:57.100",
          "leg_time_i": "2018-07-07 02:13:57.100"
         },
         {
          "Bib": 878,
          "TeamName": "A Mixed Bag",
          "leg": "TA1",
          "leg_time_c": "2018-07-07 02:44:23.700",
          "leg_time_i": "2018-07-07 02:44:23.700"
         },
         {
          "Bib": 781,
          "TeamName": "Ponoka Path Pounders",
          "leg": "TA1",
          "leg_time_c": "2018-07-07 02:07:21.700",
          "leg_time_i": "2018-07-07 02:07:21.700"
         },
         {
          "Bib": 828,
          "TeamName": "Team Schwetty Balls",
          "leg": "TA1",
          "leg_time_c": "2018-07-07 02:07:21.900",
          "leg_time_i": "2018-07-07 02:07:21.900"
         },
         {
          "Bib": 830,
          "TeamName": "Scrambled Legs",
          "leg": "TA1",
          "leg_time_c": "2018-07-07 02:24:09.900",
          "leg_time_i": "2018-07-07 02:24:09.900"
         },
         {
          "Bib": 760,
          "TeamName": "Bear Bait",
          "leg": "TA1",
          "leg_time_c": "2018-07-07 02:09:53.300",
          "leg_time_i": "2018-07-07 02:09:53.300"
         },
         {
          "Bib": 765,
          "TeamName": "Something Wicked This Way Runs",
          "leg": "TA1",
          "leg_time_c": "2018-07-07 01:59:43.500",
          "leg_time_i": "2018-07-07 01:59:43.500"
         },
         {
          "Bib": 851,
          "TeamName": "ThunderCats",
          "leg": "TA1",
          "leg_time_c": "2018-07-07 02:25:11.500",
          "leg_time_i": "2018-07-07 02:25:11.500"
         },
         {
          "Bib": 756,
          "TeamName": "Dust Bunnies",
          "leg": "TA1",
          "leg_time_c": "2018-07-07 02:11:43.700",
          "leg_time_i": "2018-07-07 02:11:43.700"
         },
         {
          "Bib": 767,
          "TeamName": "It's Your Breath in Our Lungs",
          "leg": "TA1",
          "leg_time_c": "2018-07-07 02:17:32.500",
          "leg_time_i": "2018-07-07 02:17:32.500"
         },
         {
          "Bib": 718,
          "TeamName": "Hot Flashes",
          "leg": "TA1",
          "leg_time_c": "2018-07-07 02:13:48.100",
          "leg_time_i": "2018-07-07 02:13:48.100"
         },
         {
          "Bib": 804,
          "TeamName": "6 Goat Sheeps And A Kid",
          "leg": "TA1",
          "leg_time_c": "2018-07-07 02:24:15.300",
          "leg_time_i": "2018-07-07 02:24:15.300"
         },
         {
          "Bib": 783,
          "TeamName": "Fine Winers",
          "leg": "TA1",
          "leg_time_c": "2018-07-07 02:13:29.700",
          "leg_time_i": "2018-07-07 02:13:29.700"
         },
         {
          "Bib": 866,
          "TeamName": "A-Town Animals",
          "leg": "TA1",
          "leg_time_c": "2018-07-07 02:14:42.200",
          "leg_time_i": "2018-07-07 02:14:42.200"
         },
         {
          "Bib": 913,
          "TeamName": "Hedging on the Kiwi",
          "leg": "TA1",
          "leg_time_c": "2018-07-07 03:09:20.100",
          "leg_time_i": "2018-07-07 03:09:20.100"
         },
         {
          "Bib": 883,
          "TeamName": "I'd HIIT That",
          "leg": "TA1",
          "leg_time_c": "2018-07-07 02:06:50.700",
          "leg_time_i": "2018-07-07 02:06:50.700"
         },
         {
          "Bib": 837,
          "TeamName": "Cougar-BearSnake",
          "leg": "TA1",
          "leg_time_c": "2018-07-07 01:47:42.600",
          "leg_time_i": "2018-07-07 01:47:42.600"
         },
         {
          "Bib": 713,
          "TeamName": "Dangerous Divas",
          "leg": "TA1",
          "leg_time_c": "2018-07-07 02:28:02.800",
          "leg_time_i": "2018-07-07 02:28:02.800"
         },
         {
          "Bib": 726,
          "TeamName": "No One Told Me There'd Be Chafing!",
          "leg": "TA1",
          "leg_time_c": "2018-07-07 02:00:32.400",
          "leg_time_i": "2018-07-07 02:00:32.400"
         },
         {
          "Bib": 747,
          "TeamName": "Hill Humpers",
          "leg": "TA1",
          "leg_time_c": "2018-07-07 03:06:44.100",
          "leg_time_i": "2018-07-07 03:06:44.100"
         },
         {
          "Bib": 871,
          "TeamName": "Recovering Accountaholics",
          "leg": "TA1",
          "leg_time_c": "2018-07-07 02:24:43.400",
          "leg_time_i": "2018-07-07 02:24:43.400"
         },
         {
          "Bib": 854,
          "TeamName": "WarriorPacks",
          "leg": "TA1",
          "leg_time_c": "2018-07-07 02:09:37.200",
          "leg_time_i": "2018-07-07 02:09:37.200"
         },
         {
          "Bib": 730,
          "TeamName": "SWATT",
          "leg": "TA1",
          "leg_time_c": "2018-07-07 02:10:29.800",
          "leg_time_i": "2018-07-07 02:10:29.800"
         },
         {
          "Bib": 738,
          "TeamName": "#OMC1",
          "leg": "TA1",
          "leg_time_c": "2018-07-07 02:06:32.700",
          "leg_time_i": "2018-07-07 02:06:32.700"
         },
         {
          "Bib": 895,
          "TeamName": "Prairie Dogs",
          "leg": "TA1",
          "leg_time_c": "2018-07-07 01:59:38.900",
          "leg_time_i": "2018-07-07 01:59:38.900"
         },
         {
          "Bib": 782,
          "TeamName": "The Brandy Bunch",
          "leg": "TA1",
          "leg_time_c": "2018-07-07 02:20:49.600",
          "leg_time_i": "2018-07-07 02:20:49.600"
         },
         {
          "Bib": 736,
          "TeamName": "Run, Sweat, and Beers",
          "leg": "TA1",
          "leg_time_c": "2018-07-07 02:24:09.200",
          "leg_time_i": "2018-07-07 02:24:09.200"
         },
         {
          "Bib": 903,
          "TeamName": "Clear Lake Crusaders",
          "leg": "TA1",
          "leg_time_c": "2018-07-07 02:32:20.600",
          "leg_time_i": "2018-07-07 02:32:20.600"
         },
         {
          "Bib": 906,
          "TeamName": "Dauntless",
          "leg": "TA1",
          "leg_time_c": "2018-07-07 02:09:20.400",
          "leg_time_i": "2018-07-07 02:09:20.400"
         },
         {
          "Bib": 785,
          "TeamName": "United Cycle Team Lost and Confused",
          "leg": "TA1",
          "leg_time_c": "2018-07-07 02:30:40.000",
          "leg_time_i": "2018-07-07 02:30:40.000"
         },
         {
          "Bib": 882,
          "TeamName": "What The Hill Are We Doing??",
          "leg": "TA1",
          "leg_time_c": "2018-07-07 02:10:38.900",
          "leg_time_i": "2018-07-07 02:10:38.900"
         },
         {
          "Bib": 827,
          "TeamName": "It was all feathers",
          "leg": "TA1",
          "leg_time_c": "2018-07-07 02:38:52.400",
          "leg_time_i": "2018-07-07 02:38:52.400"
         },
         {
          "Bib": 807,
          "TeamName": "Messy Seven",
          "leg": "TA1",
          "leg_time_c": "2018-07-07 01:51:30.500",
          "leg_time_i": "2018-07-07 01:51:30.500"
         },
         {
          "Bib": 741,
          "TeamName": "Blackbird",
          "leg": "TA1",
          "leg_time_c": "2018-07-07 02:33:03.100",
          "leg_time_i": "2018-07-07 02:33:03.100"
         },
         {
          "Bib": 848,
          "TeamName": "Run.Rehab.Run.Repeat.",
          "leg": "TA1",
          "leg_time_c": "2018-07-07 01:52:47.400",
          "leg_time_i": "2018-07-07 01:52:47.400"
         },
         {
          "Bib": 805,
          "TeamName": "Jogander",
          "leg": "TA1",
          "leg_time_c": "2018-07-07 02:14:13.700",
          "leg_time_i": "2018-07-07 02:14:13.700"
         },
         {
          "Bib": 748,
          "TeamName": "Sister Wives",
          "leg": "TA1",
          "leg_time_c": "2018-07-07 02:06:23.400",
          "leg_time_i": "2018-07-07 02:06:23.400"
         },
         {
          "Bib": 794,
          "TeamName": "RIOT - Running is our Therapy",
          "leg": "TA1",
          "leg_time_c": "2018-07-07 02:32:23.000",
          "leg_time_i": "2018-07-07 02:32:23.000"
         },
         {
          "Bib": 739,
          "TeamName": "Toe Nails Are For Sissies.",
          "leg": "TA1",
          "leg_time_c": "2018-07-07 02:09:18.000",
          "leg_time_i": "2018-07-07 02:09:18.000"
         },
         {
          "Bib": 705,
          "TeamName": "JBF Revival",
          "leg": "TA1",
          "leg_time_c": "2018-07-07 02:03:11.300",
          "leg_time_i": "2018-07-07 02:03:11.300"
         },
         {
          "Bib": 793,
          "TeamName": "Ignorance is Blisters",
          "leg": "TA1",
          "leg_time_c": "2018-07-07 03:06:55.700",
          "leg_time_i": "2018-07-07 03:06:55.700"
         },
         {
          "Bib": 852,
          "TeamName": "Minimum Champions",
          "leg": "TA1",
          "leg_time_c": "2018-07-07 02:51:04.800",
          "leg_time_i": "2018-07-07 02:51:04.800"
         },
         {
          "Bib": 819,
          "TeamName": "Team Side Group",
          "leg": "TA1",
          "leg_time_c": "2018-07-07 01:46:54.200",
          "leg_time_i": "2018-07-07 01:46:54.200"
         },
         {
          "Bib": 914,
          "TeamName": "Tears then Beers",
          "leg": "TA1",
          "leg_time_c": "2018-07-07 01:57:57.100",
          "leg_time_i": "2018-07-07 01:57:57.100"
         },
         {
          "Bib": 720,
          "TeamName": "#rundefined",
          "leg": "TA1",
          "leg_time_c": "2018-07-07 02:45:56.600",
          "leg_time_i": "2018-07-07 02:45:56.600"
         },
         {
          "Bib": 870,
          "TeamName": "The Virgins",
          "leg": "TA1",
          "leg_time_c": "2018-07-07 02:47:52.900",
          "leg_time_i": "2018-07-07 02:47:52.900"
         },
         {
          "Bib": 752,
          "TeamName": "All Downhill From Here!",
          "leg": "TA1",
          "leg_time_c": "2018-07-07 02:29:31.700",
          "leg_time_i": "2018-07-07 02:29:31.700"
         },
         {
          "Bib": 802,
          "TeamName": "#runswithwill",
          "leg": "TA1",
          "leg_time_c": "2018-07-07 02:46:04.400",
          "leg_time_i": "2018-07-07 02:46:04.400"
         },
         {
          "Bib": 811,
          "TeamName": "RavenMad",
          "leg": "TA1",
          "leg_time_c": "2018-07-07 02:35:53.600",
          "leg_time_i": "2018-07-07 02:35:53.600"
         },
         {
          "Bib": 800,
          "TeamName": "Run Forest Run!",
          "leg": "TA1",
          "leg_time_c": "2018-07-07 03:01:02.800",
          "leg_time_i": "2018-07-07 03:01:02.800"
         },
         {
          "Bib": 789,
          "TeamName": "Bush Pounders",
          "leg": "TA1",
          "leg_time_c": "2018-07-07 02:31:35.500",
          "leg_time_i": "2018-07-07 02:31:35.500"
         },
         {
          "Bib": 772,
          "TeamName": "Don't suck",
          "leg": "TA1",
          "leg_time_c": "2018-07-07 02:24:04.000",
          "leg_time_i": "2018-07-07 02:24:04.000"
         },
         {
          "Bib": 887,
          "TeamName": "Team Pain",
          "leg": "TA1",
          "leg_time_c": "2018-07-07 02:10:21.200",
          "leg_time_i": "2018-07-07 02:10:21.200"
         },
         {
          "Bib": 881,
          "TeamName": "In Over of Heads",
          "leg": "TA1",
          "leg_time_c": "2018-07-07 02:04:34.400",
          "leg_time_i": "2018-07-07 02:04:34.400"
         },
         {
          "Bib": 813,
          "TeamName": "Team Yellow",
          "leg": "TA1",
          "leg_time_c": "2018-07-07 03:01:08.100",
          "leg_time_i": "2018-07-07 03:01:08.100"
         },
         {
          "Bib": 768,
          "TeamName": "Set Fire to the Wicked Pain",
          "leg": "TA1",
          "leg_time_c": "2018-07-07 02:27:10.200",
          "leg_time_i": "2018-07-07 02:27:10.200"
         },
         {
          "Bib": 801,
          "TeamName": "SWAT - So What About Training",
          "leg": "TA1",
          "leg_time_c": "2018-07-07 02:16:05.000",
          "leg_time_i": "2018-07-07 02:16:05.000"
         },
         {
          "Bib": 792,
          "TeamName": "A Murder of Runners",
          "leg": "TA1",
          "leg_time_c": "2018-07-07 02:51:06.900",
          "leg_time_i": "2018-07-07 02:51:06.900"
         },
         {
          "Bib": 875,
          "TeamName": "Team Wu",
          "leg": "TA1",
          "leg_time_c": "2018-07-07 03:24:59.100",
          "leg_time_i": "2018-07-07 03:24:59.100"
         },
         {
          "Bib": 841,
          "TeamName": "Forced, bribed, or willing?",
          "leg": "TA1",
          "leg_time_c": "2018-07-07 02:34:10.000",
          "leg_time_i": "2018-07-07 02:34:10.000"
         },
         {
          "Bib": 762,
          "TeamName": "Are we there yet?",
          "leg": "TA1",
          "leg_time_c": "2018-07-07 02:03:20.100",
          "leg_time_i": "2018-07-07 02:03:20.100"
         },
         {
          "Bib": 886,
          "TeamName": "Peanut Butter Jelly Legs",
          "leg": "TA1",
          "leg_time_c": "2018-07-07 02:10:14.400",
          "leg_time_i": "2018-07-07 02:10:14.400"
         },
         {
          "Bib": 838,
          "TeamName": "Bear-ly Made It",
          "leg": "TA1",
          "leg_time_c": "2018-07-07 02:08:28.900",
          "leg_time_i": "2018-07-07 02:08:28.900"
         },
         {
          "Bib": 817,
          "TeamName": "Summit Slayers",
          "leg": "TA1",
          "leg_time_c": "2018-07-07 01:40:45.600",
          "leg_time_i": "2018-07-07 01:40:45.600"
         },
         {
          "Bib": 916,
          "TeamName": "Sassy Sinister Sexpots",
          "leg": "TA1",
          "leg_time_c": "2018-07-07 02:44:25.200",
          "leg_time_i": "2018-07-07 02:44:25.200"
         },
         {
          "Bib": 712,
          "TeamName": "S Club 7",
          "leg": "TA1",
          "leg_time_c": "2018-07-07 02:46:33.800",
          "leg_time_i": "2018-07-07 02:46:33.800"
         },
         {
          "Bib": 735,
          "TeamName": "Girls Gone Trail",
          "leg": "TA1",
          "leg_time_c": "2018-07-07 02:22:08.000",
          "leg_time_i": "2018-07-07 02:22:08.000"
         },
         {
          "Bib": 896,
          "TeamName": "Triple Terrain Trail Trekkers",
          "leg": "TA1",
          "leg_time_c": "2018-07-07 01:56:08.000",
          "leg_time_i": "2018-07-07 01:56:08.000"
         },
         {
          "Bib": 829,
          "TeamName": "Pace Jam",
          "leg": "TA1",
          "leg_time_c": "2018-07-07 02:24:17.900",
          "leg_time_i": "2018-07-07 02:24:17.900"
         },
         {
          "Bib": 884,
          "TeamName": "Easier said than run!",
          "leg": "TA1",
          "leg_time_c": "2018-07-07 02:17:12.500",
          "leg_time_i": "2018-07-07 02:17:12.500"
         },
         {
          "Bib": 911,
          "TeamName": "7 Ways to Lose A Runner",
          "leg": "TA1",
          "leg_time_c": "2018-07-07 02:30:11.000",
          "leg_time_i": "2018-07-07 02:30:11.000"
         },
         {
          "Bib": 749,
          "TeamName": "Lactic Acid Flashback",
          "leg": "TA1",
          "leg_time_c": "2018-07-07 01:58:12.400",
          "leg_time_i": "2018-07-07 01:58:12.400"
         },
         {
          "Bib": 702,
          "TeamName": "GFP",
          "leg": "TA1",
          "leg_time_c": "2018-07-07 02:23:35.600",
          "leg_time_i": "2018-07-07 02:23:35.600"
         },
         {
          "Bib": 885,
          "TeamName": "Cobra Kai",
          "leg": "TA1",
          "leg_time_c": "2018-07-07 02:08:16.800",
          "leg_time_i": "2018-07-07 02:08:16.800"
         },
         {
          "Bib": 721,
          "TeamName": "7 Ways to Lose a Runner",
          "leg": "TA1",
          "leg_time_c": "2018-07-07 02:22:27.300",
          "leg_time_i": "2018-07-07 02:22:27.300"
         },
         {
          "Bib": 759,
          "TeamName": "Cougar Bait",
          "leg": "TA1",
          "leg_time_c": "2018-07-07 02:09:53.500",
          "leg_time_i": "2018-07-07 02:09:53.500"
         },
         {
          "Bib": 773,
          "TeamName": "Estrogen Rush",
          "leg": "TA1",
          "leg_time_c": "2018-07-07 02:06:50.300",
          "leg_time_i": "2018-07-07 02:06:50.300"
         },
         {
          "Bib": 778,
          "TeamName": "City Fit Shop Rocks",
          "leg": "TA1",
          "leg_time_c": "2018-07-07 02:09:58.000",
          "leg_time_i": "2018-07-07 02:09:58.000"
         },
         {
          "Bib": 912,
          "TeamName": "Evil Murray and his Badass Bitches",
          "leg": "TA1",
          "leg_time_c": "2018-07-07 02:51:38.800",
          "leg_time_i": "2018-07-07 02:51:38.800"
         },
         {
          "Bib": 708,
          "TeamName": "Strongbow and Deep Fried Pickles",
          "leg": "TA1",
          "leg_time_c": "2018-07-07 01:48:28.100",
          "leg_time_i": "2018-07-07 01:48:28.100"
         },
         {
          "Bib": 706,
          "TeamName": "Just Don't Die FFS",
          "leg": "TA1",
          "leg_time_c": "2018-07-07 02:43:39.300",
          "leg_time_i": "2018-07-07 02:43:39.300"
         },
         {
          "Bib": 877,
          "TeamName": "THe Free Agents",
          "leg": "TA1",
          "leg_time_c": "2018-07-07 02:32:06.700",
          "leg_time_i": "2018-07-07 02:32:06.700"
         },
         {
          "Bib": 719,
          "TeamName": "Faster than Molasses",
          "leg": "TA1",
          "leg_time_c": "2018-07-07 02:03:27.300",
          "leg_time_i": "2018-07-07 02:03:27.300"
         },
         {
          "Bib": 863,
          "TeamName": "SPEED UP RACING",
          "leg": "TA1",
          "leg_time_c": "2018-07-07 02:33:47.400",
          "leg_time_i": "2018-07-07 02:33:47.400"
         },
         {
          "Bib": 725,
          "TeamName": "6 Sinners and a Saint",
          "leg": "TA1",
          "leg_time_c": "2018-07-07 02:22:15.300",
          "leg_time_i": "2018-07-07 02:22:15.300"
         },
         {
          "Bib": 868,
          "TeamName": "Thunder Cats",
          "leg": "TA1",
          "leg_time_c": "2018-07-07 02:16:37.400",
          "leg_time_i": "2018-07-07 02:16:37.400"
         },
         {
          "Bib": 769,
          "TeamName": "Midlife Runners",
          "leg": "TA1",
          "leg_time_c": "2018-07-07 02:18:49.200",
          "leg_time_i": "2018-07-07 02:18:49.200"
         },
         {
          "Bib": 874,
          "TeamName": "City Fit Shop Scissors",
          "leg": "TA1",
          "leg_time_c": "2018-07-07 02:02:09.700",
          "leg_time_i": "2018-07-07 02:02:09.700"
         },
         {
          "Bib": 861,
          "TeamName": "Fuster Clucks",
          "leg": "TA1",
          "leg_time_c": "2018-07-07 02:08:13.300",
          "leg_time_i": "2018-07-07 02:08:13.300"
         },
         {
          "Bib": 909,
          "TeamName": "Male Triple Terrain Trekkers",
          "leg": "TA1",
          "leg_time_c": "2018-07-07 02:02:54.100",
          "leg_time_i": "2018-07-07 02:02:54.100"
         },
         {
          "Bib": 704,
          "TeamName": "Buck Up",
          "leg": "TA1",
          "leg_time_c": "2018-07-07 03:22:21.200",
          "leg_time_i": "2018-07-07 03:22:21.200"
         },
         {
          "Bib": 832,
          "TeamName": "A View to a Hill",
          "leg": "TA1",
          "leg_time_c": "2018-07-07 02:54:35.100",
          "leg_time_i": "2018-07-07 02:54:35.100"
         },
         {
          "Bib": 799,
          "TeamName": "Running Back To Saskatoon",
          "leg": "TA1",
          "leg_time_c": "2018-07-07 02:22:31.900",
          "leg_time_i": "2018-07-07 02:22:31.900"
         },
         {
          "Bib": 731,
          "TeamName": "Never Again",
          "leg": "TA1",
          "leg_time_c": "2018-07-07 02:30:47.100",
          "leg_time_i": "2018-07-07 02:30:47.100"
         },
         {
          "Bib": 901,
          "TeamName": "12 feet 1 footz",
          "leg": "TA1",
          "leg_time_c": "2018-07-07 02:40:56.600",
          "leg_time_i": "2018-07-07 02:40:56.600"
         },
         {
          "Bib": 890,
          "TeamName": "More legs than a bucket of chicken",
          "leg": "TA1",
          "leg_time_c": "2018-07-07 02:37:58.100",
          "leg_time_i": "2018-07-07 02:37:58.100"
         },
         {
          "Bib": 774,
          "TeamName": "City Fit SHop PAPER",
          "leg": "TA1",
          "leg_time_c": "2018-07-07 02:02:21.800",
          "leg_time_i": "2018-07-07 02:02:21.800"
         },
         {
          "Bib": 703,
          "TeamName": "Tag, you're it",
          "leg": "TA1",
          "leg_time_c": "2018-07-07 02:10:43.700",
          "leg_time_i": "2018-07-07 02:10:43.700"
         },
         {
          "Bib": 742,
          "TeamName": "Ultra Relay-tionship Goals",
          "leg": "TA1",
          "leg_time_c": "2018-07-07 02:31:04.500",
          "leg_time_i": "2018-07-07 02:31:04.500"
         },
         {
          "Bib": 758,
          "TeamName": "Long distance Relay-tionships",
          "leg": "TA1",
          "leg_time_c": "2018-07-07 02:31:04.500",
          "leg_time_i": "2018-07-07 02:31:04.500"
         },
         {
          "Bib": 729,
          "TeamName": "Ruck Funning",
          "leg": "TA1",
          "leg_time_c": "2018-07-07 02:38:21.900",
          "leg_time_i": "2018-07-07 02:38:21.900"
         },
         {
          "Bib": 797,
          "TeamName": "The Young and the Breathless",
          "leg": "TA1",
          "leg_time_c": "2018-07-07 02:50:36.600",
          "leg_time_i": "2018-07-07 02:50:36.600"
         },
         {
          "Bib": 795,
          "TeamName": "Weary and Draggin",
          "leg": "TA1",
          "leg_time_c": "2018-07-07 02:26:39.200",
          "leg_time_i": "2018-07-07 02:26:39.200"
         },
         {
          "Bib": 915,
          "TeamName": "Running People",
          "leg": "TA1",
          "leg_time_c": "2018-07-07 02:36:11.700",
          "leg_time_i": "2018-07-07 02:36:11.700"
         },
         {
          "Bib": 835,
          "TeamName": "But did you die?",
          "leg": "TA1",
          "leg_time_c": "2018-07-07 02:54:41.200",
          "leg_time_i": "2018-07-07 02:54:41.200"
         },
         {
          "Bib": 716,
          "TeamName": "Battle Star Lacitic A",
          "leg": "TA1",
          "leg_time_c": "2018-07-07 03:46:14.500",
          "leg_time_i": "2018-07-07 03:46:14.500"
         },
         {
          "Bib": 790,
          "TeamName": "The Deadly Medley",
          "leg": "TA1",
          "leg_time_c": "2018-07-07 02:37:59.900",
          "leg_time_i": "2018-07-07 02:37:59.900"
         },
         {
          "Bib": 825,
          "TeamName": "Dirty Threesome In The Woods",
          "leg": "TA1",
          "leg_time_c": "2018-07-07 02:22:10.500",
          "leg_time_i": "2018-07-07 02:22:10.500"
         },
         {
          "Bib": 814,
          "TeamName": "Dark Horse",
          "leg": "TA1",
          "leg_time_c": "2018-07-07 02:20:50.200",
          "leg_time_i": "2018-07-07 02:20:50.200"
         },
         {
          "Bib": 844,
          "TeamName": "The Bear Necessities",
          "leg": "TA1",
          "leg_time_c": "2018-07-07 02:06:53.400",
          "leg_time_i": "2018-07-07 02:06:53.400"
         },
         {
          "Bib": 714,
          "TeamName": "The Kings and Queens of Sin",
          "leg": "TA1",
          "leg_time_c": "2018-07-07 01:58:02.900",
          "leg_time_i": "2018-07-07 01:58:02.900"
         },
         {
          "Bib": 898,
          "TeamName": "Dead Sexy",
          "leg": "TA1",
          "leg_time_c": "2018-07-07 02:16:05.800",
          "leg_time_i": "2018-07-07 02:16:05.800"
         },
         {
          "Bib": 892,
          "TeamName": "Swamp Donkeys",
          "leg": "TA1",
          "leg_time_c": "2018-07-07 02:53:53.100",
          "leg_time_i": "2018-07-07 02:53:53.100"
         },
         {
          "Bib": 888,
          "TeamName": "Running Because We Can",
          "leg": "TA1",
          "leg_time_c": "2018-07-07 02:09:17.100",
          "leg_time_i": "2018-07-07 02:09:17.100"
         },
         {
          "Bib": 754,
          "TeamName": "#OMC3",
          "leg": "TA1",
          "leg_time_c": "2018-07-07 02:38:24.200",
          "leg_time_i": "2018-07-07 02:38:24.200"
         },
         {
          "Bib": 818,
          "TeamName": "Hangry Beers",
          "leg": "TA1",
          "leg_time_c": "2018-07-07 03:44:25.100",
          "leg_time_i": "2018-07-07 03:44:25.100"
         },
         {
          "Bib": 791,
          "TeamName": "Saskatchewan Roughrunners",
          "leg": "TA1",
          "leg_time_c": "2018-07-07 02:02:32.400",
          "leg_time_i": "2018-07-07 02:02:32.400"
         },
         {
          "Bib": 834,
          "TeamName": "TNT - Dynamite!",
          "leg": "TA1",
          "leg_time_c": "2018-07-07 02:14:10.800",
          "leg_time_i": "2018-07-07 02:14:10.800"
         },
         {
          "Bib": 751,
          "TeamName": "Couples Retreat",
          "leg": "TA1",
          "leg_time_c": "2018-07-07 01:54:07.300",
          "leg_time_i": "2018-07-07 01:54:07.300"
         },
         {
          "Bib": 910,
          "TeamName": "Pnut Brittle",
          "leg": "TA1",
          "leg_time_c": "2018-07-07 01:40:38.200",
          "leg_time_i": "2018-07-07 01:40:38.200"
         },
         {
          "Bib": 775,
          "TeamName": "Altra AF",
          "leg": "TA1",
          "leg_time_c": "2018-07-07 02:07:24.700",
          "leg_time_i": "2018-07-07 02:07:24.700"
         },
         {
          "Bib": 710,
          "TeamName": "Original Joes",
          "leg": "TA2",
          "leg_time_c": "2018-07-07 02:53:52.400",
          "leg_time_i": "2018-07-07 01:32:09.900"
         },
         {
          "Bib": 803,
          "TeamName": "Attitude Over Altitude",
          "leg": "TA2",
          "leg_time_c": "2018-07-07 03:00:39.900",
          "leg_time_i": "2018-07-07 01:35:54.400"
         },
         {
          "Bib": 796,
          "TeamName": "runlAB",
          "leg": "TA2",
          "leg_time_c": "2018-07-07 02:49:02.800",
          "leg_time_i": "2018-07-07 01:23:31.100"
         },
         {
          "Bib": 905,
          "TeamName": "The Tragically Tight Hips",
          "leg": "TA2",
          "leg_time_c": "2018-07-07 03:24:15.600",
          "leg_time_i": "2018-07-07 01:55:31.600"
         },
         {
          "Bib": 711,
          "TeamName": "No Limits",
          "leg": "TA2",
          "leg_time_c": "2018-07-07 03:34:10.800",
          "leg_time_i": "2018-07-07 02:00:35.600"
         },
         {
          "Bib": 787,
          "TeamName": "TIGHT HIPS AND SORE NIPS",
          "leg": "TA2",
          "leg_time_c": "2018-07-07 03:22:31.300",
          "leg_time_i": "2018-07-07 01:42:11.200"
         },
         {
          "Bib": 894,
          "TeamName": "The Maddogs",
          "leg": "TA2",
          "leg_time_c": "2018-07-07 03:00:24.800",
          "leg_time_i": "2018-07-07 01:38:39.200"
         },
         {
          "Bib": 812,
          "TeamName": "Vintage Vixens",
          "leg": "TA2",
          "leg_time_c": "2018-07-07 03:06:48.600",
          "leg_time_i": "2018-07-07 01:44:37.700"
         },
         {
          "Bib": 865,
          "TeamName": "Montagne Papis",
          "leg": "TA2",
          "leg_time_c": "2018-07-07 03:33:29.900",
          "leg_time_i": "2018-07-07 01:55:57.400"
         },
         {
          "Bib": 908,
          "TeamName": "Fast Trax YEG Trail Team",
          "leg": "TA2",
          "leg_time_c": "2018-07-07 03:30:35.100",
          "leg_time_i": "2018-07-07 01:39:47.700"
         },
         {
          "Bib": 820,
          "TeamName": "Lactic Asses",
          "leg": "TA2",
          "leg_time_c": "2018-07-07 03:23:09.100",
          "leg_time_i": "2018-07-07 01:52:50.200"
         },
         {
          "Bib": 784,
          "TeamName": "Mantrackers",
          "leg": "TA2",
          "leg_time_c": "2018-07-07 03:52:10.900",
          "leg_time_i": "2018-07-07 02:17:49.700"
         },
         {
          "Bib": 806,
          "TeamName": "Robbie's Rejects",
          "leg": "TA2",
          "leg_time_c": "2018-07-07 03:02:26.000",
          "leg_time_i": "2018-07-07 01:25:12.900"
         },
         {
          "Bib": 809,
          "TeamName": "Child's Play",
          "leg": "TA2",
          "leg_time_c": "2018-07-07 03:52:01.100",
          "leg_time_i": "2018-07-07 02:02:28.400"
         },
         {
          "Bib": 750,
          "TeamName": "Chafing Tail",
          "leg": "TA2",
          "leg_time_c": "2018-07-07 04:12:44.800",
          "leg_time_i": "2018-07-07 02:00:04.300"
         },
         {
          "Bib": 907,
          "TeamName": "Sole Crushers",
          "leg": "TA2",
          "leg_time_c": "2018-07-07 03:39:15.700",
          "leg_time_i": "2018-07-07 01:51:02.800"
         },
         {
          "Bib": 707,
          "TeamName": "STARS Prez-otaur",
          "leg": "TA2",
          "leg_time_c": "2018-07-07 03:47:38.600",
          "leg_time_i": "2018-07-07 01:47:25.800"
         },
         {
          "Bib": 904,
          "TeamName": "Chicks and Sticks",
          "leg": "TA2",
          "leg_time_c": "2018-07-07 04:19:49.300",
          "leg_time_i": "2018-07-07 02:17:24.300"
         },
         {
          "Bib": 869,
          "TeamName": "Steal My Sin-Shine",
          "leg": "TA2",
          "leg_time_c": "2018-07-07 03:55:58.400",
          "leg_time_i": "2018-07-07 01:49:02.700"
         },
         {
          "Bib": 843,
          "TeamName": "Road Kill",
          "leg": "TA2",
          "leg_time_c": "2018-07-07 04:09:32.500",
          "leg_time_i": "2018-07-07 02:11:21.600"
         },
         {
          "Bib": 900,
          "TeamName": "Lil' Runner Cuties",
          "leg": "TA2",
          "leg_time_c": "2018-07-07 03:49:45.800",
          "leg_time_i": "2018-07-07 01:58:34.100"
         },
         {
          "Bib": 845,
          "TeamName": "Garmin Cochrane",
          "leg": "TA2",
          "leg_time_c": "2018-07-07 03:35:39.300",
          "leg_time_i": "2018-07-07 02:00:11.300"
         },
         {
          "Bib": 858,
          "TeamName": "Worst Pace Scenario",
          "leg": "TA2",
          "leg_time_c": "2018-07-07 03:50:53.100",
          "leg_time_i": "2018-07-07 02:04:00.900"
         },
         {
          "Bib": 815,
          "TeamName": "Rum Runners",
          "leg": "TA2",
          "leg_time_c": "2018-07-07 04:01:47.400",
          "leg_time_i": "2018-07-07 02:06:29.800"
         },
         {
          "Bib": 777,
          "TeamName": "Clash of Clans",
          "leg": "TA2",
          "leg_time_c": "2018-07-07 04:19:02.500",
          "leg_time_i": "2018-07-07 02:22:34.500"
         },
         {
          "Bib": 722,
          "TeamName": "Misters, Sisters, and Blisters",
          "leg": "TA2",
          "leg_time_c": "2018-07-07 03:39:09.900",
          "leg_time_i": "2018-07-07 01:49:35.600"
         },
         {
          "Bib": 846,
          "TeamName": "Penisters",
          "leg": "TA2",
          "leg_time_c": "2018-07-07 04:23:40.700",
          "leg_time_i": "2018-07-07 02:17:14.900"
         },
         {
          "Bib": 740,
          "TeamName": "Trail Nuts",
          "leg": "TA2",
          "leg_time_c": "2018-07-07 04:09:42.300",
          "leg_time_i": "2018-07-07 02:28:04.800"
         },
         {
          "Bib": 831,
          "TeamName": "Trans Mountain Plan B",
          "leg": "TA2",
          "leg_time_c": "2018-07-07 04:16:27.000",
          "leg_time_i": "2018-07-07 02:04:03.500"
         },
         {
          "Bib": 853,
          "TeamName": "Scrambled Legs",
          "leg": "TA2",
          "leg_time_c": "2018-07-07 04:33:20.500",
          "leg_time_i": "2018-07-07 02:25:59.000"
         },
         {
          "Bib": 744,
          "TeamName": "Undertrained and Overconfident",
          "leg": "TA2",
          "leg_time_c": "2018-07-07 03:50:39.500",
          "leg_time_i": "2018-07-07 02:05:49.800"
         },
         {
          "Bib": 763,
          "TeamName": "James Baxter",
          "leg": "TA2",
          "leg_time_c": "2018-07-07 04:09:27.400",
          "leg_time_i": "2018-07-07 02:15:06.500"
         },
         {
          "Bib": 755,
          "TeamName": "Run like the winded",
          "leg": "TA2",
          "leg_time_c": "2018-07-07 04:24:54.800",
          "leg_time_i": "2018-07-07 02:33:46.200"
         },
         {
          "Bib": 746,
          "TeamName": "Marmot Whisperers",
          "leg": "TA2",
          "leg_time_c": "2018-07-07 04:15:12.800",
          "leg_time_i": "2018-07-07 02:12:15.900"
         },
         {
          "Bib": 839,
          "TeamName": "The Cruisettes",
          "leg": "TA2",
          "leg_time_c": "2018-07-07 04:30:12.200",
          "leg_time_i": "2018-07-07 02:15:02.700"
         },
         {
          "Bib": 727,
          "TeamName": "Beavers Are Amazing",
          "leg": "TA2",
          "leg_time_c": "2018-07-07 04:18:51.100",
          "leg_time_i": "2018-07-07 02:11:42.800"
         },
         {
          "Bib": 872,
          "TeamName": "Don't Feel Awful, Eat a Waffle!",
          "leg": "TA2",
          "leg_time_c": "2018-07-07 04:00:31.900",
          "leg_time_i": "2018-07-07 02:18:10.200"
         },
         {
          "Bib": 860,
          "TeamName": "Happy Trails",
          "leg": "TA2",
          "leg_time_c": "2018-07-07 04:29:21.600",
          "leg_time_i": "2018-07-07 02:08:33.900"
         },
         {
          "Bib": 757,
          "TeamName": "Chernobyl",
          "leg": "TA2",
          "leg_time_c": "2018-07-07 04:15:06.200",
          "leg_time_i": "2018-07-07 02:08:03.700"
         },
         {
          "Bib": 734,
          "TeamName": "SCRAMBLED LEGS & HAM",
          "leg": "TA2",
          "leg_time_c": "2018-07-07 04:53:42.400",
          "leg_time_i": "2018-07-07 02:32:34.700"
         },
         {
          "Bib": 808,
          "TeamName": "#whatwerewethinking",
          "leg": "TA2",
          "leg_time_c": "2018-07-07 04:38:44.400",
          "leg_time_i": "2018-07-07 02:16:21.200"
         },
         {
          "Bib": 709,
          "TeamName": "Mixed Nuts",
          "leg": "TA2",
          "leg_time_c": "2018-07-07 04:32:50.000",
          "leg_time_i": "2018-07-07 02:32:34.600"
         },
         {
          "Bib": 891,
          "TeamName": "Jordan and the Vagisters",
          "leg": "TA2",
          "leg_time_c": "2018-07-07 04:02:53.300",
          "leg_time_i": "2018-07-07 01:59:48.300"
         },
         {
          "Bib": 867,
          "TeamName": "The Magnificent Seven",
          "leg": "TA2",
          "leg_time_c": "2018-07-07 04:28:25.700",
          "leg_time_i": "2018-07-07 02:07:47.300"
         },
         {
          "Bib": 788,
          "TeamName": "Blue Bayou",
          "leg": "TA2",
          "leg_time_c": "2018-07-07 04:11:06.400",
          "leg_time_i": "2018-07-07 02:17:11.900"
         },
         {
          "Bib": 745,
          "TeamName": "Fat Bastards",
          "leg": "TA2",
          "leg_time_c": "2018-07-07 04:49:19.300",
          "leg_time_i": "2018-07-07 02:24:04.500"
         },
         {
          "Bib": 850,
          "TeamName": "Chasing Trail",
          "leg": "TA2",
          "leg_time_c": "2018-07-07 04:04:19.300",
          "leg_time_i": "2018-07-07 02:13:08.400"
         },
         {
          "Bib": 724,
          "TeamName": "6 Estees & a Teste",
          "leg": "TA2",
          "leg_time_c": "2018-07-07 04:19:30.700",
          "leg_time_i": "2018-07-07 02:00:20.900"
         },
         {
          "Bib": 737,
          "TeamName": "Crow's Feet",
          "leg": "TA2",
          "leg_time_c": "2018-07-07 04:47:07.700",
          "leg_time_i": "2018-07-07 02:30:25.000"
         },
         {
          "Bib": 847,
          "TeamName": "Chasing Trail Volume 2",
          "leg": "TA2",
          "leg_time_c": "2018-07-07 04:00:35.500",
          "leg_time_i": "2018-07-07 02:00:37.200"
         },
         {
          "Bib": 798,
          "TeamName": "River City Front Runners",
          "leg": "TA2",
          "leg_time_c": "2018-07-07 04:12:59.500",
          "leg_time_i": "2018-07-07 01:55:03.000"
         },
         {
          "Bib": 779,
          "TeamName": "Running on a Dream",
          "leg": "TA2",
          "leg_time_c": "2018-07-07 03:36:46.600",
          "leg_time_i": "2018-07-07 01:52:22.000"
         },
         {
          "Bib": 902,
          "TeamName": "www.SLOW",
          "leg": "TA2",
          "leg_time_c": "2018-07-07 04:59:07.300",
          "leg_time_i": "2018-07-07 02:13:04.700"
         },
         {
          "Bib": 824,
          "TeamName": "Flatliners",
          "leg": "TA2",
          "leg_time_c": "2018-07-07 04:32:16.800",
          "leg_time_i": "2018-07-07 02:27:18.700"
         },
         {
          "Bib": 873,
          "TeamName": "Like fun, only different",
          "leg": "TA2",
          "leg_time_c": "2018-07-07 04:39:13.800",
          "leg_time_i": "2018-07-07 02:36:56.800"
         },
         {
          "Bib": 880,
          "TeamName": "Bear Naked",
          "leg": "TA2",
          "leg_time_c": "2018-07-07 04:04:46.900",
          "leg_time_i": "2018-07-07 01:54:08.700"
         },
         {
          "Bib": 840,
          "TeamName": "Another Drunk Idea Gone Wrong",
          "leg": "TA2",
          "leg_time_c": "2018-07-07 04:12:32.100",
          "leg_time_i": "2018-07-07 02:12:24.600"
         },
         {
          "Bib": 816,
          "TeamName": "Mission District Run Crew",
          "leg": "TA2",
          "leg_time_c": "2018-07-07 04:57:39.800",
          "leg_time_i": "2018-07-07 02:09:18.000"
         },
         {
          "Bib": 823,
          "TeamName": "Couple's Retreat",
          "leg": "TA2",
          "leg_time_c": "2018-07-07 04:03:37.100",
          "leg_time_i": "2018-07-07 01:54:51.500"
         },
         {
          "Bib": 897,
          "TeamName": "Bitchymen Plus Three",
          "leg": "TA2",
          "leg_time_c": "2018-07-07 04:27:09.800",
          "leg_time_i": "2018-07-07 02:37:22.200"
         },
         {
          "Bib": 864,
          "TeamName": "Magnificent 7",
          "leg": "TA2",
          "leg_time_c": "2018-07-07 04:31:22.000",
          "leg_time_i": "2018-07-07 02:15:33.100"
         },
         {
          "Bib": 889,
          "TeamName": "Epic Legs",
          "leg": "TA2",
          "leg_time_c": "2018-07-07 05:06:13.500",
          "leg_time_i": "2018-07-07 02:59:04.100"
         },
         {
          "Bib": 776,
          "TeamName": "No \"Olds\" Barred",
          "leg": "TA2",
          "leg_time_c": "2018-07-07 04:29:30.500",
          "leg_time_i": "2018-07-07 02:25:51.700"
         },
         {
          "Bib": 879,
          "TeamName": "TBD",
          "leg": "TA2",
          "leg_time_c": "2018-07-07 04:49:21.600",
          "leg_time_i": "2018-07-07 02:37:42.800"
         },
         {
          "Bib": 732,
          "TeamName": "Team Honey Badgers",
          "leg": "TA2",
          "leg_time_c": "2018-07-07 04:55:20.900",
          "leg_time_i": "2018-07-07 02:45:32.200"
         },
         {
          "Bib": 753,
          "TeamName": "#OMC2",
          "leg": "TA2",
          "leg_time_c": "2018-07-07 04:58:41.100",
          "leg_time_i": "2018-07-07 02:23:28.100"
         },
         {
          "Bib": 836,
          "TeamName": "Prairie dogs",
          "leg": "TA2",
          "leg_time_c": "2018-07-07 04:34:45.500",
          "leg_time_i": "2018-07-07 02:26:50.800"
         },
         {
          "Bib": 859,
          "TeamName": "The Twinkies",
          "leg": "TA2",
          "leg_time_c": "2018-07-07 05:23:58.200",
          "leg_time_i": "2018-07-07 02:15:27.900"
         },
         {
          "Bib": 855,
          "TeamName": "I though you said let's go for a rum!",
          "leg": "TA2",
          "leg_time_c": "2018-07-07 04:35:56.600",
          "leg_time_i": "2018-07-07 02:07:44.700"
         },
         {
          "Bib": 810,
          "TeamName": "Squirtin' Pepperoni",
          "leg": "TA2",
          "leg_time_c": "2018-07-07 04:01:30.200",
          "leg_time_i": "2018-07-07 02:06:32.600"
         },
         {
          "Bib": 701,
          "TeamName": "Sex Panthers",
          "leg": "TA2",
          "leg_time_c": "2018-07-07 04:05:18.100",
          "leg_time_i": "2018-07-07 02:14:28.700"
         },
         {
          "Bib": 893,
          "TeamName": "Sunday Mall Walkers",
          "leg": "TA2",
          "leg_time_c": "2018-07-07 04:51:25.400",
          "leg_time_i": "2018-07-07 02:52:17.200"
         },
         {
          "Bib": 723,
          "TeamName": "Leg Day",
          "leg": "TA2",
          "leg_time_c": "2018-07-07 03:43:15.800",
          "leg_time_i": "2018-07-07 01:58:35.300"
         },
         {
          "Bib": 770,
          "TeamName": "Jelly Bellies",
          "leg": "TA2",
          "leg_time_c": "2018-07-07 04:10:08.100",
          "leg_time_i": "2018-07-07 02:32:25.200"
         },
         {
          "Bib": 856,
          "TeamName": "Forged by Fire",
          "leg": "TA2",
          "leg_time_c": "2018-07-07 04:18:09.800",
          "leg_time_i": "2018-07-07 02:28:35.100"
         },
         {
          "Bib": 764,
          "TeamName": "Sin and Bear It",
          "leg": "TA2",
          "leg_time_c": "2018-07-07 04:41:02.600",
          "leg_time_i": "2018-07-07 02:23:47.700"
         },
         {
          "Bib": 857,
          "TeamName": "Trail Snails",
          "leg": "TA2",
          "leg_time_c": "2018-07-07 05:31:04.500",
          "leg_time_i": "2018-07-07 03:19:24.400"
         },
         {
          "Bib": 826,
          "TeamName": "Burpin' Pepperoni",
          "leg": "TA2",
          "leg_time_c": "2018-07-07 04:37:10.300",
          "leg_time_i": "2018-07-07 02:15:29.100"
         },
         {
          "Bib": 849,
          "TeamName": "6 Inches of Subway",
          "leg": "TA2",
          "leg_time_c": "2018-07-07 04:43:40.900",
          "leg_time_i": "2018-07-07 02:30:04.300"
         },
         {
          "Bib": 786,
          "TeamName": "Trail Droppings",
          "leg": "TA2",
          "leg_time_c": "2018-07-07 04:35:57.900",
          "leg_time_i": "2018-07-07 02:25:08.300"
         },
         {
          "Bib": 733,
          "TeamName": "Mother's Little Helpers",
          "leg": "TA2",
          "leg_time_c": "2018-07-07 04:24:42.300",
          "leg_time_i": "2018-07-07 02:02:43.700"
         },
         {
          "Bib": 717,
          "TeamName": "Rapid Thigh Movement",
          "leg": "TA2",
          "leg_time_c": "2018-07-07 04:33:23.200",
          "leg_time_i": "2018-07-07 02:30:22.100"
         },
         {
          "Bib": 766,
          "TeamName": "Runsofarians",
          "leg": "TA2",
          "leg_time_c": "2018-07-07 04:44:38.000",
          "leg_time_i": "2018-07-07 02:29:20.700"
         },
         {
          "Bib": 761,
          "TeamName": "twisted blisters",
          "leg": "TA2",
          "leg_time_c": "2018-07-07 04:20:26.800",
          "leg_time_i": "2018-07-07 02:24:26.200"
         },
         {
          "Bib": 715,
          "TeamName": "Wandering Souls",
          "leg": "TA2",
          "leg_time_c": "2018-07-07 04:56:13.300",
          "leg_time_i": "2018-07-07 02:23:21.600"
         },
         {
          "Bib": 833,
          "TeamName": "Rough Runners",
          "leg": "TA2",
          "leg_time_c": "2018-07-07 04:29:24.300",
          "leg_time_i": "2018-07-07 02:30:30.500"
         },
         {
          "Bib": 743,
          "TeamName": "All Mixed Up",
          "leg": "TA2",
          "leg_time_c": "2018-07-07 04:57:29.700",
          "leg_time_i": "2018-07-07 02:38:21.800"
         },
         {
          "Bib": 771,
          "TeamName": "Lets get Rocked!",
          "leg": "TA2",
          "leg_time_c": "2018-07-07 04:22:50.700",
          "leg_time_i": "2018-07-07 02:05:53.900"
         },
         {
          "Bib": 822,
          "TeamName": "RAF",
          "leg": "TA2",
          "leg_time_c": "2018-07-07 04:49:30.100",
          "leg_time_i": "2018-07-07 02:20:58.000"
         },
         {
          "Bib": 899,
          "TeamName": "The Young & The Breathless",
          "leg": "TA2",
          "leg_time_c": "2018-07-07 05:30:03.700",
          "leg_time_i": "2018-07-07 02:49:13.000"
         },
         {
          "Bib": 862,
          "TeamName": "Your Pace or Mine?",
          "leg": "TA2",
          "leg_time_c": "2018-07-07 04:35:02.700",
          "leg_time_i": "2018-07-07 02:44:14.800"
         },
         {
          "Bib": 780,
          "TeamName": "Running on the Edge",
          "leg": "TA2",
          "leg_time_c": "2018-07-07 04:22:15.000",
          "leg_time_i": "2018-07-07 02:16:59.200"
         },
         {
          "Bib": 876,
          "TeamName": "Rhabd'oh!",
          "leg": "TA2",
          "leg_time_c": "2018-07-07 04:15:40.600",
          "leg_time_i": "2018-07-07 02:01:43.500"
         },
         {
          "Bib": 878,
          "TeamName": "A Mixed Bag",
          "leg": "TA2",
          "leg_time_c": "2018-07-07 05:36:21.600",
          "leg_time_i": "2018-07-07 02:51:57.900"
         },
         {
          "Bib": 781,
          "TeamName": "Ponoka Path Pounders",
          "leg": "TA2",
          "leg_time_c": "2018-07-07 04:08:12.500",
          "leg_time_i": "2018-07-07 02:00:50.800"
         },
         {
          "Bib": 828,
          "TeamName": "Team Schwetty Balls",
          "leg": "TA2",
          "leg_time_c": "2018-07-07 04:16:32.600",
          "leg_time_i": "2018-07-07 02:09:10.700"
         },
         {
          "Bib": 830,
          "TeamName": "Scrambled Legs",
          "leg": "TA2",
          "leg_time_c": "2018-07-07 04:09:31.400",
          "leg_time_i": "2018-07-07 01:45:21.500"
         },
         {
          "Bib": 760,
          "TeamName": "Bear Bait",
          "leg": "TA2",
          "leg_time_c": "2018-07-07 04:42:20.000",
          "leg_time_i": "2018-07-07 02:32:26.700"
         },
         {
          "Bib": 765,
          "TeamName": "Something Wicked This Way Runs",
          "leg": "TA2",
          "leg_time_c": "2018-07-07 04:23:28.200",
          "leg_time_i": "2018-07-07 02:23:44.700"
         },
         {
          "Bib": 851,
          "TeamName": "ThunderCats",
          "leg": "TA2",
          "leg_time_c": "2018-07-07 04:50:48.000",
          "leg_time_i": "2018-07-07 02:25:36.500"
         },
         {
          "Bib": 756,
          "TeamName": "Dust Bunnies",
          "leg": "TA2",
          "leg_time_c": "2018-07-07 04:39:54.800",
          "leg_time_i": "2018-07-07 02:28:11.100"
         },
         {
          "Bib": 767,
          "TeamName": "It's Your Breath in Our Lungs",
          "leg": "TA2",
          "leg_time_c": "2018-07-07 04:32:37.900",
          "leg_time_i": "2018-07-07 02:15:05.400"
         },
         {
          "Bib": 718,
          "TeamName": "Hot Flashes",
          "leg": "TA2",
          "leg_time_c": "2018-07-07 04:52:20.400",
          "leg_time_i": "2018-07-07 02:38:32.300"
         },
         {
          "Bib": 804,
          "TeamName": "6 Goat Sheeps And A Kid",
          "leg": "TA2",
          "leg_time_c": "2018-07-07 04:24:08.400",
          "leg_time_i": "2018-07-07 01:59:53.100"
         },
         {
          "Bib": 783,
          "TeamName": "Fine Winers",
          "leg": "TA2",
          "leg_time_c": "2018-07-07 04:49:13.700",
          "leg_time_i": "2018-07-07 02:35:44.000"
         },
         {
          "Bib": 866,
          "TeamName": "A-Town Animals",
          "leg": "TA2",
          "leg_time_c": "2018-07-07 04:32:20.600",
          "leg_time_i": "2018-07-07 02:17:38.400"
         },
         {
          "Bib": 913,
          "TeamName": "Hedging on the Kiwi",
          "leg": "TA2",
          "leg_time_c": "2018-07-07 05:31:02.600",
          "leg_time_i": "2018-07-07 02:21:42.500"
         },
         {
          "Bib": 883,
          "TeamName": "I'd HIIT That",
          "leg": "TA2",
          "leg_time_c": "2018-07-07 04:30:11.400",
          "leg_time_i": "2018-07-07 02:23:20.700"
         },
         {
          "Bib": 837,
          "TeamName": "Cougar-BearSnake",
          "leg": "TA2",
          "leg_time_c": "2018-07-07 04:47:33.500",
          "leg_time_i": "2018-07-07 02:59:50.900"
         },
         {
          "Bib": 713,
          "TeamName": "Dangerous Divas",
          "leg": "TA2",
          "leg_time_c": "2018-07-07 04:48:06.700",
          "leg_time_i": "2018-07-07 02:20:03.900"
         },
         {
          "Bib": 726,
          "TeamName": "No One Told Me There'd Be Chafing!",
          "leg": "TA2",
          "leg_time_c": "2018-07-07 04:19:45.000",
          "leg_time_i": "2018-07-07 02:19:12.600"
         },
         {
          "Bib": 747,
          "TeamName": "Hill Humpers",
          "leg": "TA2",
          "leg_time_c": "2018-07-07 04:52:52.900",
          "leg_time_i": "2018-07-07 01:46:08.800"
         },
         {
          "Bib": 871,
          "TeamName": "Recovering Accountaholics",
          "leg": "TA2",
          "leg_time_c": "2018-07-07 04:51:08.300",
          "leg_time_i": "2018-07-07 02:26:24.900"
         },
         {
          "Bib": 854,
          "TeamName": "WarriorPacks",
          "leg": "TA2",
          "leg_time_c": "2018-07-07 04:56:07.800",
          "leg_time_i": "2018-07-07 02:46:30.600"
         },
         {
          "Bib": 730,
          "TeamName": "SWATT",
          "leg": "TA2",
          "leg_time_c": "2018-07-07 04:44:41.200",
          "leg_time_i": "2018-07-07 02:34:11.400"
         },
         {
          "Bib": 738,
          "TeamName": "#OMC1",
          "leg": "TA2",
          "leg_time_c": "2018-07-07 05:12:30.200",
          "leg_time_i": "2018-07-07 03:05:57.500"
         },
         {
          "Bib": 895,
          "TeamName": "Prairie Dogs",
          "leg": "TA2",
          "leg_time_c": "2018-07-07 05:00:57.200",
          "leg_time_i": "2018-07-07 03:01:18.300"
         },
         {
          "Bib": 782,
          "TeamName": "The Brandy Bunch",
          "leg": "TA2",
          "leg_time_c": "2018-07-07 04:29:31.200",
          "leg_time_i": "2018-07-07 02:08:41.600"
         },
         {
          "Bib": 736,
          "TeamName": "Run, Sweat, and Beers",
          "leg": "TA2",
          "leg_time_c": "2018-07-07 04:32:13.700",
          "leg_time_i": "2018-07-07 02:08:04.500"
         },
         {
          "Bib": 903,
          "TeamName": "Clear Lake Crusaders",
          "leg": "TA2",
          "leg_time_c": "2018-07-07 04:35:03.200",
          "leg_time_i": "2018-07-07 02:02:42.600"
         },
         {
          "Bib": 906,
          "TeamName": "Dauntless",
          "leg": "TA2",
          "leg_time_c": "2018-07-07 04:04:39.600",
          "leg_time_i": "2018-07-07 01:55:19.200"
         },
         {
          "Bib": 785,
          "TeamName": "United Cycle Team Lost and Confused",
          "leg": "TA2",
          "leg_time_c": "2018-07-07 05:27:00.700",
          "leg_time_i": "2018-07-07 02:56:20.700"
         },
         {
          "Bib": 882,
          "TeamName": "What The Hill Are We Doing??",
          "leg": "TA2",
          "leg_time_c": "2018-07-07 04:32:32.400",
          "leg_time_i": "2018-07-07 02:21:53.500"
         },
         {
          "Bib": 827,
          "TeamName": "It was all feathers",
          "leg": "TA2",
          "leg_time_c": "2018-07-07 06:01:41.900",
          "leg_time_i": "2018-07-07 03:22:49.500"
         },
         {
          "Bib": 807,
          "TeamName": "Messy Seven",
          "leg": "TA2",
          "leg_time_c": "2018-07-07 04:35:19.800",
          "leg_time_i": "2018-07-07 02:43:49.300"
         },
         {
          "Bib": 741,
          "TeamName": "Blackbird",
          "leg": "TA2",
          "leg_time_c": "2018-07-07 05:36:55.800",
          "leg_time_i": "2018-07-07 03:03:52.700"
         },
         {
          "Bib": 848,
          "TeamName": "Run.Rehab.Run.Repeat.",
          "leg": "TA2",
          "leg_time_c": "2018-07-07 04:15:23.600",
          "leg_time_i": "2018-07-07 02:22:36.200"
         },
         {
          "Bib": 805,
          "TeamName": "Jogander",
          "leg": "TA2",
          "leg_time_c": "2018-07-07 04:27:03.200",
          "leg_time_i": "2018-07-07 02:12:49.500"
         },
         {
          "Bib": 748,
          "TeamName": "Sister Wives",
          "leg": "TA2",
          "leg_time_c": "2018-07-07 04:36:19.600",
          "leg_time_i": "2018-07-07 02:29:56.200"
         },
         {
          "Bib": 794,
          "TeamName": "RIOT - Running is our Therapy",
          "leg": "TA2",
          "leg_time_c": "2018-07-07 05:04:26.700",
          "leg_time_i": "2018-07-07 02:32:03.700"
         },
         {
          "Bib": 739,
          "TeamName": "Toe Nails Are For Sissies.",
          "leg": "TA2",
          "leg_time_c": "2018-07-07 04:46:16.900",
          "leg_time_i": "2018-07-07 02:36:58.900"
         },
         {
          "Bib": 705,
          "TeamName": "JBF Revival",
          "leg": "TA2",
          "leg_time_c": "2018-07-07 05:06:02.300",
          "leg_time_i": "2018-07-07 03:02:51.000"
         },
         {
          "Bib": 793,
          "TeamName": "Ignorance is Blisters",
          "leg": "TA2",
          "leg_time_c": "2018-07-07 06:08:58.800",
          "leg_time_i": "2018-07-07 03:02:03.100"
         },
         {
          "Bib": 852,
          "TeamName": "Minimum Champions",
          "leg": "TA2",
          "leg_time_c": "2018-07-07 04:55:23.200",
          "leg_time_i": "2018-07-07 02:04:18.400"
         },
         {
          "Bib": 819,
          "TeamName": "Team Side Group",
          "leg": "TA2",
          "leg_time_c": "2018-07-07 04:04:18.300",
          "leg_time_i": "2018-07-07 02:17:24.100"
         },
         {
          "Bib": 914,
          "TeamName": "Tears then Beers",
          "leg": "TA2",
          "leg_time_c": "2018-07-07 04:26:20.100",
          "leg_time_i": "2018-07-07 02:28:23.000"
         },
         {
          "Bib": 720,
          "TeamName": "#rundefined",
          "leg": "TA2",
          "leg_time_c": "2018-07-07 05:22:32.100",
          "leg_time_i": "2018-07-07 02:36:35.500"
         },
         {
          "Bib": 870,
          "TeamName": "The Virgins",
          "leg": "TA2",
          "leg_time_c": "2018-07-07 05:18:40.600",
          "leg_time_i": "2018-07-07 02:30:47.700"
         },
         {
          "Bib": 752,
          "TeamName": "All Downhill From Here!",
          "leg": "TA2",
          "leg_time_c": "2018-07-07 05:56:18.400",
          "leg_time_i": "2018-07-07 03:26:46.700"
         },
         {
          "Bib": 802,
          "TeamName": "#runswithwill",
          "leg": "TA2",
          "leg_time_c": "2018-07-07 06:09:44.000",
          "leg_time_i": "2018-07-07 03:23:39.600"
         },
         {
          "Bib": 811,
          "TeamName": "RavenMad",
          "leg": "TA2",
          "leg_time_c": "2018-07-07 05:18:35.600",
          "leg_time_i": "2018-07-07 02:42:42.000"
         },
         {
          "Bib": 800,
          "TeamName": "Run Forest Run!",
          "leg": "TA2",
          "leg_time_c": "2018-07-07 05:18:37.400",
          "leg_time_i": "2018-07-07 02:17:34.600"
         },
         {
          "Bib": 789,
          "TeamName": "Bush Pounders",
          "leg": "TA2",
          "leg_time_c": "2018-07-07 05:48:26.400",
          "leg_time_i": "2018-07-07 03:16:50.900"
         },
         {
          "Bib": 772,
          "TeamName": "Don't suck",
          "leg": "TA2",
          "leg_time_c": "2018-07-07 04:49:25.200",
          "leg_time_i": "2018-07-07 02:25:21.200"
         },
         {
          "Bib": 887,
          "TeamName": "Team Pain",
          "leg": "TA2",
          "leg_time_c": "2018-07-07 04:44:12.100",
          "leg_time_i": "2018-07-07 02:33:50.900"
         },
         {
          "Bib": 881,
          "TeamName": "In Over of Heads",
          "leg": "TA2",
          "leg_time_c": "2018-07-07 05:03:26.000",
          "leg_time_i": "2018-07-07 02:58:51.600"
         },
         {
          "Bib": 813,
          "TeamName": "Team Yellow",
          "leg": "TA2",
          "leg_time_c": "2018-07-07 05:43:40.400",
          "leg_time_i": "2018-07-07 02:42:32.300"
         },
         {
          "Bib": 768,
          "TeamName": "Set Fire to the Wicked Pain",
          "leg": "TA2",
          "leg_time_c": "2018-07-07 05:00:08.400",
          "leg_time_i": "2018-07-07 02:32:58.200"
         },
         {
          "Bib": 801,
          "TeamName": "SWAT - So What About Training",
          "leg": "TA2",
          "leg_time_c": "2018-07-07 04:47:50.100",
          "leg_time_i": "2018-07-07 02:31:45.100"
         },
         {
          "Bib": 792,
          "TeamName": "A Murder of Runners",
          "leg": "TA2",
          "leg_time_c": "2018-07-07 05:14:23.300",
          "leg_time_i": "2018-07-07 02:23:16.400"
         },
         {
          "Bib": 875,
          "TeamName": "Team Wu",
          "leg": "TA2",
          "leg_time_c": "2018-07-07 05:50:36.800",
          "leg_time_i": "2018-07-07 02:25:37.700"
         },
         {
          "Bib": 841,
          "TeamName": "Forced, bribed, or willing?",
          "leg": "TA2",
          "leg_time_c": "2018-07-07 05:02:25.900",
          "leg_time_i": "2018-07-07 02:28:15.900"
         },
         {
          "Bib": 762,
          "TeamName": "Are we there yet?",
          "leg": "TA2",
          "leg_time_c": "2018-07-07 04:08:04.900",
          "leg_time_i": "2018-07-07 02:04:44.800"
         },
         {
          "Bib": 886,
          "TeamName": "Peanut Butter Jelly Legs",
          "leg": "TA2",
          "leg_time_c": "2018-07-07 04:53:40.400",
          "leg_time_i": "2018-07-07 02:43:26.000"
         },
         {
          "Bib": 838,
          "TeamName": "Bear-ly Made It",
          "leg": "TA2",
          "leg_time_c": "2018-07-07 04:31:01.900",
          "leg_time_i": "2018-07-07 02:22:33.000"
         },
         {
          "Bib": 817,
          "TeamName": "Summit Slayers",
          "leg": "TA2",
          "leg_time_c": "2018-07-07 04:10:35.100",
          "leg_time_i": "2018-07-07 02:29:49.500"
         },
         {
          "Bib": 916,
          "TeamName": "Sassy Sinister Sexpots",
          "leg": "TA2",
          "leg_time_c": "2018-07-07 06:10:32.200",
          "leg_time_i": "2018-07-07 03:26:07.000"
         },
         {
          "Bib": 712,
          "TeamName": "S Club 7",
          "leg": "TA2",
          "leg_time_c": "2018-07-07 05:00:24.800",
          "leg_time_i": "2018-07-07 02:13:51.000"
         },
         {
          "Bib": 735,
          "TeamName": "Girls Gone Trail",
          "leg": "TA2",
          "leg_time_c": "2018-07-07 05:02:42.400",
          "leg_time_i": "2018-07-07 02:40:34.400"
         },
         {
          "Bib": 896,
          "TeamName": "Triple Terrain Trail Trekkers",
          "leg": "TA2",
          "leg_time_c": "2018-07-07 04:19:50.900",
          "leg_time_i": "2018-07-07 02:23:42.900"
         },
         {
          "Bib": 829,
          "TeamName": "Pace Jam",
          "leg": "TA2",
          "leg_time_c": "2018-07-07 05:22:56.300",
          "leg_time_i": "2018-07-07 02:58:38.400"
         },
         {
          "Bib": 884,
          "TeamName": "Easier said than run!",
          "leg": "TA2",
          "leg_time_c": "2018-07-07 05:12:50.800",
          "leg_time_i": "2018-07-07 02:55:38.300"
         },
         {
          "Bib": 911,
          "TeamName": "7 Ways to Lose A Runner",
          "leg": "TA2",
          "leg_time_c": "2018-07-07 05:01:18.500",
          "leg_time_i": "2018-07-07 02:31:07.500"
         },
         {
          "Bib": 749,
          "TeamName": "Lactic Acid Flashback",
          "leg": "TA2",
          "leg_time_c": "2018-07-07 04:04:38.300",
          "leg_time_i": "2018-07-07 02:06:25.900"
         },
         {
          "Bib": 702,
          "TeamName": "GFP",
          "leg": "TA2",
          "leg_time_c": "2018-07-07 05:01:05.200",
          "leg_time_i": "2018-07-07 02:37:29.600"
         },
         {
          "Bib": 885,
          "TeamName": "Cobra Kai",
          "leg": "TA2",
          "leg_time_c": "2018-07-07 05:17:54.000",
          "leg_time_i": "2018-07-07 03:09:37.200"
         },
         {
          "Bib": 721,
          "TeamName": "7 Ways to Lose a Runner",
          "leg": "TA2",
          "leg_time_c": "2018-07-07 05:29:57.900",
          "leg_time_i": "2018-07-07 03:07:30.600"
         },
         {
          "Bib": 759,
          "TeamName": "Cougar Bait",
          "leg": "TA2",
          "leg_time_c": "2018-07-07 04:30:30.700",
          "leg_time_i": "2018-07-07 02:20:37.200"
         },
         {
          "Bib": 773,
          "TeamName": "Estrogen Rush",
          "leg": "TA2",
          "leg_time_c": "2018-07-07 04:44:59.900",
          "leg_time_i": "2018-07-07 02:38:09.600"
         },
         {
          "Bib": 778,
          "TeamName": "City Fit Shop Rocks",
          "leg": "TA2",
          "leg_time_c": "2018-07-07 05:12:50.700",
          "leg_time_i": "2018-07-07 03:02:52.700"
         },
         {
          "Bib": 912,
          "TeamName": "Evil Murray and his Badass Bitches",
          "leg": "TA2",
          "leg_time_c": "2018-07-07 05:58:49.700",
          "leg_time_i": "2018-07-07 03:07:10.900"
         },
         {
          "Bib": 708,
          "TeamName": "Strongbow and Deep Fried Pickles",
          "leg": "TA2",
          "leg_time_c": "2018-07-07 03:59:43.100",
          "leg_time_i": "2018-07-07 02:11:15.000"
         },
         {
          "Bib": 706,
          "TeamName": "Just Don't Die FFS",
          "leg": "TA2",
          "leg_time_c": "2018-07-07 05:23:01.500",
          "leg_time_i": "2018-07-07 02:39:22.200"
         },
         {
          "Bib": 877,
          "TeamName": "THe Free Agents",
          "leg": "TA2",
          "leg_time_c": "2018-07-07 05:01:34.100",
          "leg_time_i": "2018-07-07 02:29:27.400"
         },
         {
          "Bib": 719,
          "TeamName": "Faster than Molasses",
          "leg": "TA2",
          "leg_time_c": "2018-07-07 04:52:03.100",
          "leg_time_i": "2018-07-07 02:48:35.800"
         },
         {
          "Bib": 863,
          "TeamName": "SPEED UP RACING",
          "leg": "TA2",
          "leg_time_c": "2018-07-07 05:03:18.300",
          "leg_time_i": "2018-07-07 02:29:30.900"
         },
         {
          "Bib": 725,
          "TeamName": "6 Sinners and a Saint",
          "leg": "TA2",
          "leg_time_c": "2018-07-07 05:14:44.700",
          "leg_time_i": "2018-07-07 02:52:29.400"
         },
         {
          "Bib": 868,
          "TeamName": "Thunder Cats",
          "leg": "TA2",
          "leg_time_c": "2018-07-07 05:11:08.400",
          "leg_time_i": "2018-07-07 02:54:31.000"
         },
         {
          "Bib": 769,
          "TeamName": "Midlife Runners",
          "leg": "TA2",
          "leg_time_c": "2018-07-07 04:45:14.300",
          "leg_time_i": "2018-07-07 02:26:25.100"
         },
         {
          "Bib": 874,
          "TeamName": "City Fit Shop Scissors",
          "leg": "TA2",
          "leg_time_c": "2018-07-07 04:33:49.800",
          "leg_time_i": "2018-07-07 02:31:40.100"
         },
         {
          "Bib": 861,
          "TeamName": "Fuster Clucks",
          "leg": "TA2",
          "leg_time_c": "2018-07-07 04:33:43.900",
          "leg_time_i": "2018-07-07 02:25:30.600"
         },
         {
          "Bib": 909,
          "TeamName": "Male Triple Terrain Trekkers",
          "leg": "TA2",
          "leg_time_c": "2018-07-07 04:34:17.200",
          "leg_time_i": "2018-07-07 02:31:23.100"
         },
         {
          "Bib": 704,
          "TeamName": "Buck Up",
          "leg": "TA2",
          "leg_time_c": "2018-07-07 05:51:30.100",
          "leg_time_i": "2018-07-07 02:29:08.900"
         },
         {
          "Bib": 832,
          "TeamName": "A View to a Hill",
          "leg": "TA2",
          "leg_time_c": "2018-07-07 05:24:33.200",
          "leg_time_i": "2018-07-07 02:29:58.100"
         },
         {
          "Bib": 799,
          "TeamName": "Running Back To Saskatoon",
          "leg": "TA2",
          "leg_time_c": "2018-07-07 05:03:01.900",
          "leg_time_i": "2018-07-07 02:40:30.000"
         },
         {
          "Bib": 731,
          "TeamName": "Never Again",
          "leg": "TA2",
          "leg_time_c": "2018-07-07 05:44:14.700",
          "leg_time_i": "2018-07-07 03:13:27.600"
         },
         {
          "Bib": 901,
          "TeamName": "12 feet 1 footz",
          "leg": "TA2",
          "leg_time_c": "2018-07-07 05:28:45.500",
          "leg_time_i": "2018-07-07 02:47:48.900"
         },
         {
          "Bib": 890,
          "TeamName": "More legs than a bucket of chicken",
          "leg": "TA2",
          "leg_time_c": "2018-07-07 05:16:30.700",
          "leg_time_i": "2018-07-07 02:38:32.600"
         },
         {
          "Bib": 774,
          "TeamName": "City Fit SHop PAPER",
          "leg": "TA2",
          "leg_time_c": "2018-07-07 04:49:22.300",
          "leg_time_i": "2018-07-07 02:47:00.500"
         },
         {
          "Bib": 703,
          "TeamName": "Tag, you're it",
          "leg": "TA2",
          "leg_time_c": "2018-07-07 05:15:23.900",
          "leg_time_i": "2018-07-07 03:04:40.200"
         },
         {
          "Bib": 742,
          "TeamName": "Ultra Relay-tionship Goals",
          "leg": "TA2",
          "leg_time_c": "2018-07-07 05:53:31.100",
          "leg_time_i": "2018-07-07 03:22:26.600"
         },
         {
          "Bib": 758,
          "TeamName": "Long distance Relay-tionships",
          "leg": "TA2",
          "leg_time_c": "2018-07-07 05:53:31.100",
          "leg_time_i": "2018-07-07 03:22:26.600"
         },
         {
          "Bib": 729,
          "TeamName": "Ruck Funning",
          "leg": "TA2",
          "leg_time_c": "2018-07-07 06:05:01.200",
          "leg_time_i": "2018-07-07 03:26:39.300"
         },
         {
          "Bib": 797,
          "TeamName": "The Young and the Breathless",
          "leg": "TA2",
          "leg_time_c": "2018-07-07 05:32:31.400",
          "leg_time_i": "2018-07-07 02:41:54.800"
         },
         {
          "Bib": 795,
          "TeamName": "Weary and Draggin",
          "leg": "TA2",
          "leg_time_c": "2018-07-07 05:58:41.300",
          "leg_time_i": "2018-07-07 03:32:02.100"
         },
         {
          "Bib": 915,
          "TeamName": "Running People",
          "leg": "TA2",
          "leg_time_c": "2018-07-07 04:55:23.700",
          "leg_time_i": "2018-07-07 02:19:12.000"
         },
         {
          "Bib": 835,
          "TeamName": "But did you die?",
          "leg": "TA2",
          "leg_time_c": "2018-07-07 05:12:55.600",
          "leg_time_i": "2018-07-07 02:18:14.400"
         },
         {
          "Bib": 716,
          "TeamName": "Battle Star Lacitic A",
          "leg": "TA2",
          "leg_time_c": "2018-07-07 06:47:10.300",
          "leg_time_i": "2018-07-07 03:00:55.800"
         },
         {
          "Bib": 790,
          "TeamName": "The Deadly Medley",
          "leg": "TA2",
          "leg_time_c": "2018-07-07 05:21:46.400",
          "leg_time_i": "2018-07-07 02:43:46.500"
         },
         {
          "Bib": 825,
          "TeamName": "Dirty Threesome In The Woods",
          "leg": "TA2",
          "leg_time_c": "2018-07-07 04:38:58.200",
          "leg_time_i": "2018-07-07 02:16:47.700"
         },
         {
          "Bib": 814,
          "TeamName": "Dark Horse",
          "leg": "TA2",
          "leg_time_c": "2018-07-07 04:52:18.100",
          "leg_time_i": "2018-07-07 02:31:27.900"
         },
         {
          "Bib": 844,
          "TeamName": "The Bear Necessities",
          "leg": "TA2",
          "leg_time_c": "2018-07-07 04:32:28.000",
          "leg_time_i": "2018-07-07 02:25:34.600"
         },
         {
          "Bib": 714,
          "TeamName": "The Kings and Queens of Sin",
          "leg": "TA2",
          "leg_time_c": "2018-07-07 04:01:46.100",
          "leg_time_i": "2018-07-07 02:03:43.200"
         },
         {
          "Bib": 898,
          "TeamName": "Dead Sexy",
          "leg": "TA2",
          "leg_time_c": "2018-07-07 06:00:45.600",
          "leg_time_i": "2018-07-07 03:44:39.800"
         },
         {
          "Bib": 892,
          "TeamName": "Swamp Donkeys",
          "leg": "TA2",
          "leg_time_c": "2018-07-07 05:53:58.100",
          "leg_time_i": "2018-07-07 03:00:05.000"
         },
         {
          "Bib": 888,
          "TeamName": "Running Because We Can",
          "leg": "TA2",
          "leg_time_c": "2018-07-07 04:14:46.900",
          "leg_time_i": "2018-07-07 02:05:29.800"
         },
         {
          "Bib": 754,
          "TeamName": "#OMC3",
          "leg": "TA2",
          "leg_time_c": "2018-07-07 05:29:49.500",
          "leg_time_i": "2018-07-07 02:51:25.300"
         },
         {
          "Bib": 818,
          "TeamName": "Hangry Beers",
          "leg": "TA2",
          "leg_time_c": "2018-07-07 07:11:27.700",
          "leg_time_i": "2018-07-07 03:27:02.600"
         },
         {
          "Bib": 791,
          "TeamName": "Saskatchewan Roughrunners",
          "leg": "TA2",
          "leg_time_c": "2018-07-07 04:09:42.900",
          "leg_time_i": "2018-07-07 02:07:10.500"
         },
         {
          "Bib": 834,
          "TeamName": "TNT - Dynamite!",
          "leg": "TA2",
          "leg_time_c": "2018-07-07 04:56:37.200",
          "leg_time_i": "2018-07-07 02:42:26.400"
         },
         {
          "Bib": 751,
          "TeamName": "Couples Retreat",
          "leg": "TA2",
          "leg_time_c": "2018-07-07 04:07:39.900",
          "leg_time_i": "2018-07-07 02:13:32.600"
         },
         {
          "Bib": 910,
          "TeamName": "Pnut Brittle",
          "leg": "TA2",
          "leg_time_c": "2018-07-07 03:59:15.900",
          "leg_time_i": "2018-07-07 02:18:37.700"
         },
         {
          "Bib": 775,
          "TeamName": "Altra AF",
          "leg": "TA2",
          "leg_time_c": "2018-07-07 04:42:55.100",
          "leg_time_i": "2018-07-07 02:35:30.400"
         },
         {
          "Bib": 710,
          "TeamName": "Original Joes",
          "leg": "TA3",
          "leg_time_c": "2018-07-07 05:31:08.600",
          "leg_time_i": "2018-07-07 02:37:16.200"
         },
         {
          "Bib": 803,
          "TeamName": "Attitude Over Altitude",
          "leg": "TA3",
          "leg_time_c": "2018-07-07 05:36:36.100",
          "leg_time_i": "2018-07-07 02:35:56.200"
         },
         {
          "Bib": 796,
          "TeamName": "runlAB",
          "leg": "TA3",
          "leg_time_c": "2018-07-07 05:56:10.700",
          "leg_time_i": "2018-07-07 03:07:07.900"
         },
         {
          "Bib": 905,
          "TeamName": "The Tragically Tight Hips",
          "leg": "TA3",
          "leg_time_c": "2018-07-07 06:35:30.300",
          "leg_time_i": "2018-07-07 03:11:14.700"
         },
         {
          "Bib": 711,
          "TeamName": "No Limits",
          "leg": "TA3",
          "leg_time_c": "2018-07-07 06:48:36.300",
          "leg_time_i": "2018-07-07 03:14:25.500"
         },
         {
          "Bib": 787,
          "TeamName": "TIGHT HIPS AND SORE NIPS",
          "leg": "TA3",
          "leg_time_c": "2018-07-07 07:02:59.100",
          "leg_time_i": "2018-07-07 03:40:27.800"
         },
         {
          "Bib": 894,
          "TeamName": "The Maddogs",
          "leg": "TA3",
          "leg_time_c": "2018-07-07 06:47:41.900",
          "leg_time_i": "2018-07-07 03:47:17.100"
         },
         {
          "Bib": 812,
          "TeamName": "Vintage Vixens",
          "leg": "TA3",
          "leg_time_c": "2018-07-07 06:48:04.000",
          "leg_time_i": "2018-07-07 03:41:15.400"
         },
         {
          "Bib": 865,
          "TeamName": "Montagne Papis",
          "leg": "TA3",
          "leg_time_c": "2018-07-07 07:22:30.400",
          "leg_time_i": "2018-07-07 03:49:00.500"
         },
         {
          "Bib": 908,
          "TeamName": "Fast Trax YEG Trail Team",
          "leg": "TA3",
          "leg_time_c": "2018-07-07 06:57:31.900",
          "leg_time_i": "2018-07-07 03:26:56.800"
         },
         {
          "Bib": 820,
          "TeamName": "Lactic Asses",
          "leg": "TA3",
          "leg_time_c": "2018-07-07 06:54:29.000",
          "leg_time_i": "2018-07-07 03:31:19.900"
         },
         {
          "Bib": 784,
          "TeamName": "Mantrackers",
          "leg": "TA3",
          "leg_time_c": "2018-07-07 07:44:10.000",
          "leg_time_i": "2018-07-07 03:51:59.100"
         },
         {
          "Bib": 806,
          "TeamName": "Robbie's Rejects",
          "leg": "TA3",
          "leg_time_c": "2018-07-07 06:46:32.400",
          "leg_time_i": "2018-07-07 03:44:06.400"
         },
         {
          "Bib": 809,
          "TeamName": "Child's Play",
          "leg": "TA3",
          "leg_time_c": "2018-07-07 07:23:28.200",
          "leg_time_i": "2018-07-07 03:31:27.100"
         },
         {
          "Bib": 750,
          "TeamName": "Chafing Tail",
          "leg": "TA3",
          "leg_time_c": "2018-07-07 07:48:54.400",
          "leg_time_i": "2018-07-07 03:36:09.600"
         },
         {
          "Bib": 907,
          "TeamName": "Sole Crushers",
          "leg": "TA3",
          "leg_time_c": "2018-07-07 07:43:40.000",
          "leg_time_i": "2018-07-07 04:04:24.300"
         },
         {
          "Bib": 707,
          "TeamName": "STARS Prez-otaur",
          "leg": "TA3",
          "leg_time_c": "2018-07-07 07:55:29.600",
          "leg_time_i": "2018-07-07 04:07:51.000"
         },
         {
          "Bib": 904,
          "TeamName": "Chicks and Sticks",
          "leg": "TA3",
          "leg_time_c": "2018-07-07 07:25:41.500",
          "leg_time_i": "2018-07-07 03:05:52.200"
         },
         {
          "Bib": 869,
          "TeamName": "Steal My Sin-Shine",
          "leg": "TA3",
          "leg_time_c": "2018-07-07 07:00:25.300",
          "leg_time_i": "2018-07-07 03:04:26.900"
         },
         {
          "Bib": 843,
          "TeamName": "Road Kill",
          "leg": "TA3",
          "leg_time_c": "2018-07-07 08:29:47.100",
          "leg_time_i": "2018-07-07 04:20:14.600"
         },
         {
          "Bib": 900,
          "TeamName": "Lil' Runner Cuties",
          "leg": "TA3",
          "leg_time_c": "2018-07-07 07:56:22.500",
          "leg_time_i": "2018-07-07 04:06:36.700"
         },
         {
          "Bib": 845,
          "TeamName": "Garmin Cochrane",
          "leg": "TA3",
          "leg_time_c": "2018-07-07 07:49:51.800",
          "leg_time_i": "2018-07-07 04:14:12.500"
         },
         {
          "Bib": 858,
          "TeamName": "Worst Pace Scenario",
          "leg": "TA3",
          "leg_time_c": "2018-07-07 07:54:56.800",
          "leg_time_i": "2018-07-07 04:04:03.700"
         },
         {
          "Bib": 815,
          "TeamName": "Rum Runners",
          "leg": "TA3",
          "leg_time_c": "2018-07-07 08:36:21.800",
          "leg_time_i": "2018-07-07 04:34:34.400"
         },
         {
          "Bib": 777,
          "TeamName": "Clash of Clans",
          "leg": "TA3",
          "leg_time_c": "2018-07-07 08:00:24.400",
          "leg_time_i": "2018-07-07 03:41:21.900"
         },
         {
          "Bib": 722,
          "TeamName": "Misters, Sisters, and Blisters",
          "leg": "TA3",
          "leg_time_c": "2018-07-07 07:31:40.800",
          "leg_time_i": "2018-07-07 03:52:30.900"
         },
         {
          "Bib": 846,
          "TeamName": "Penisters",
          "leg": "TA3",
          "leg_time_c": "2018-07-07 08:18:24.900",
          "leg_time_i": "2018-07-07 03:54:44.200"
         },
         {
          "Bib": 740,
          "TeamName": "Trail Nuts",
          "leg": "TA3",
          "leg_time_c": "2018-07-07 08:28:45.600",
          "leg_time_i": "2018-07-07 04:19:03.300"
         },
         {
          "Bib": 831,
          "TeamName": "Trans Mountain Plan B",
          "leg": "TA3",
          "leg_time_c": "2018-07-07 07:28:49.700",
          "leg_time_i": "2018-07-07 03:12:22.700"
         },
         {
          "Bib": 853,
          "TeamName": "Scrambled Legs",
          "leg": "TA3",
          "leg_time_c": "2018-07-07 08:05:46.400",
          "leg_time_i": "2018-07-07 03:32:25.900"
         },
         {
          "Bib": 744,
          "TeamName": "Undertrained and Overconfident",
          "leg": "TA3",
          "leg_time_c": "2018-07-07 08:01:59.700",
          "leg_time_i": "2018-07-07 04:11:20.200"
         },
         {
          "Bib": 763,
          "TeamName": "James Baxter",
          "leg": "TA3",
          "leg_time_c": "2018-07-07 08:00:37.500",
          "leg_time_i": "2018-07-07 03:51:10.100"
         },
         {
          "Bib": 755,
          "TeamName": "Run like the winded",
          "leg": "TA3",
          "leg_time_c": "2018-07-07 08:11:59.300",
          "leg_time_i": "2018-07-07 03:47:04.500"
         },
         {
          "Bib": 746,
          "TeamName": "Marmot Whisperers",
          "leg": "TA3",
          "leg_time_c": "2018-07-07 08:36:31.400",
          "leg_time_i": "2018-07-07 04:21:18.600"
         },
         {
          "Bib": 839,
          "TeamName": "The Cruisettes",
          "leg": "TA3",
          "leg_time_c": "2018-07-07 08:26:20.600",
          "leg_time_i": "2018-07-07 03:56:08.400"
         },
         {
          "Bib": 727,
          "TeamName": "Beavers Are Amazing",
          "leg": "TA3",
          "leg_time_c": "2018-07-07 08:34:51.600",
          "leg_time_i": "2018-07-07 04:16:00.500"
         },
         {
          "Bib": 872,
          "TeamName": "Don't Feel Awful, Eat a Waffle!",
          "leg": "TA3",
          "leg_time_c": "2018-07-07 07:58:39.300",
          "leg_time_i": "2018-07-07 03:58:07.400"
         },
         {
          "Bib": 860,
          "TeamName": "Happy Trails",
          "leg": "TA3",
          "leg_time_c": "2018-07-07 09:12:45.700",
          "leg_time_i": "2018-07-07 04:43:24.100"
         },
         {
          "Bib": 757,
          "TeamName": "Chernobyl",
          "leg": "TA3",
          "leg_time_c": "2018-07-07 08:09:41.500",
          "leg_time_i": "2018-07-07 03:54:35.300"
         },
         {
          "Bib": 734,
          "TeamName": "SCRAMBLED LEGS & HAM",
          "leg": "TA3",
          "leg_time_c": "2018-07-07 08:41:00.300",
          "leg_time_i": "2018-07-07 03:47:17.900"
         },
         {
          "Bib": 808,
          "TeamName": "#whatwerewethinking",
          "leg": "TA3",
          "leg_time_c": "2018-07-07 08:39:32.000",
          "leg_time_i": "2018-07-07 04:00:47.600"
         },
         {
          "Bib": 709,
          "TeamName": "Mixed Nuts",
          "leg": "TA3",
          "leg_time_c": "2018-07-07 07:57:40.200",
          "leg_time_i": "2018-07-07 03:24:50.200"
         },
         {
          "Bib": 891,
          "TeamName": "Jordan and the Vagisters",
          "leg": "TA3",
          "leg_time_c": "2018-07-07 07:50:36.600",
          "leg_time_i": "2018-07-07 03:47:43.300"
         },
         {
          "Bib": 867,
          "TeamName": "The Magnificent Seven",
          "leg": "TA3",
          "leg_time_c": "2018-07-07 08:46:01.800",
          "leg_time_i": "2018-07-07 04:17:36.100"
         },
         {
          "Bib": 788,
          "TeamName": "Blue Bayou",
          "leg": "TA3",
          "leg_time_c": "2018-07-07 07:50:35.200",
          "leg_time_i": "2018-07-07 03:39:28.800"
         },
         {
          "Bib": 745,
          "TeamName": "Fat Bastards",
          "leg": "TA3",
          "leg_time_c": "2018-07-07 08:36:20.500",
          "leg_time_i": "2018-07-07 03:47:01.200"
         },
         {
          "Bib": 850,
          "TeamName": "Chasing Trail",
          "leg": "TA3",
          "leg_time_c": "2018-07-07 08:26:24.600",
          "leg_time_i": "2018-07-07 04:22:05.300"
         },
         {
          "Bib": 724,
          "TeamName": "6 Estees & a Teste",
          "leg": "TA3",
          "leg_time_c": "2018-07-07 08:39:33.100",
          "leg_time_i": "2018-07-07 04:20:02.400"
         },
         {
          "Bib": 737,
          "TeamName": "Crow's Feet",
          "leg": "TA3",
          "leg_time_c": "2018-07-07 08:24:12.400",
          "leg_time_i": "2018-07-07 03:37:04.700"
         },
         {
          "Bib": 847,
          "TeamName": "Chasing Trail Volume 2",
          "leg": "TA3",
          "leg_time_c": "2018-07-07 07:55:49.700",
          "leg_time_i": "2018-07-07 03:55:14.200"
         },
         {
          "Bib": 798,
          "TeamName": "River City Front Runners",
          "leg": "TA3",
          "leg_time_c": "2018-07-07 09:17:58.800",
          "leg_time_i": "2018-07-07 05:04:59.300"
         },
         {
          "Bib": 779,
          "TeamName": "Running on a Dream",
          "leg": "TA3",
          "leg_time_c": "2018-07-07 08:03:29.400",
          "leg_time_i": "2018-07-07 04:26:42.800"
         },
         {
          "Bib": 902,
          "TeamName": "www.SLOW",
          "leg": "TA3",
          "leg_time_c": "2018-07-07 08:45:46.800",
          "leg_time_i": "2018-07-07 03:46:39.500"
         },
         {
          "Bib": 824,
          "TeamName": "Flatliners",
          "leg": "TA3",
          "leg_time_c": "2018-07-07 09:20:34.100",
          "leg_time_i": "2018-07-07 04:48:17.300"
         },
         {
          "Bib": 873,
          "TeamName": "Like fun, only different",
          "leg": "TA3",
          "leg_time_c": "2018-07-07 09:23:57.000",
          "leg_time_i": "2018-07-07 04:44:43.200"
         },
         {
          "Bib": 880,
          "TeamName": "Bear Naked",
          "leg": "TA3",
          "leg_time_c": "2018-07-07 08:46:33.400",
          "leg_time_i": "2018-07-07 04:41:46.500"
         },
         {
          "Bib": 840,
          "TeamName": "Another Drunk Idea Gone Wrong",
          "leg": "TA3",
          "leg_time_c": "2018-07-07 08:59:56.300",
          "leg_time_i": "2018-07-07 04:47:24.200"
         },
         {
          "Bib": 816,
          "TeamName": "Mission District Run Crew",
          "leg": "TA3",
          "leg_time_c": "2018-07-07 09:39:55.200",
          "leg_time_i": "2018-07-07 04:42:15.400"
         },
         {
          "Bib": 823,
          "TeamName": "Couple's Retreat",
          "leg": "TA3",
          "leg_time_c": "2018-07-07 08:15:19.000",
          "leg_time_i": "2018-07-07 04:11:41.900"
         },
         {
          "Bib": 897,
          "TeamName": "Bitchymen Plus Three",
          "leg": "TA3",
          "leg_time_c": "2018-07-07 09:01:48.100",
          "leg_time_i": "2018-07-07 04:34:38.300"
         },
         {
          "Bib": 864,
          "TeamName": "Magnificent 7",
          "leg": "TA3",
          "leg_time_c": "2018-07-07 08:51:56.400",
          "leg_time_i": "2018-07-07 04:20:34.400"
         },
         {
          "Bib": 889,
          "TeamName": "Epic Legs",
          "leg": "TA3",
          "leg_time_c": "2018-07-07 08:41:40.800",
          "leg_time_i": "2018-07-07 03:35:27.300"
         },
         {
          "Bib": 776,
          "TeamName": "No \"Olds\" Barred",
          "leg": "TA3",
          "leg_time_c": "2018-07-07 08:08:25.500",
          "leg_time_i": "2018-07-07 03:38:55.000"
         },
         {
          "Bib": 879,
          "TeamName": "TBD",
          "leg": "TA3",
          "leg_time_c": "2018-07-07 08:31:57.100",
          "leg_time_i": "2018-07-07 03:42:35.500"
         },
         {
          "Bib": 732,
          "TeamName": "Team Honey Badgers",
          "leg": "TA3",
          "leg_time_c": "2018-07-07 09:27:33.400",
          "leg_time_i": "2018-07-07 04:32:12.500"
         },
         {
          "Bib": 753,
          "TeamName": "#OMC2",
          "leg": "TA3",
          "leg_time_c": "2018-07-07 08:51:47.700",
          "leg_time_i": "2018-07-07 03:53:06.600"
         },
         {
          "Bib": 836,
          "TeamName": "Prairie dogs",
          "leg": "TA3",
          "leg_time_c": "2018-07-07 09:07:52.700",
          "leg_time_i": "2018-07-07 04:33:07.200"
         },
         {
          "Bib": 859,
          "TeamName": "The Twinkies",
          "leg": "TA3",
          "leg_time_c": "2018-07-07 09:23:34.900",
          "leg_time_i": "2018-07-07 03:59:36.700"
         },
         {
          "Bib": 855,
          "TeamName": "I though you said let's go for a rum!",
          "leg": "TA3",
          "leg_time_c": "2018-07-07 08:47:15.500",
          "leg_time_i": "2018-07-07 04:11:18.900"
         },
         {
          "Bib": 810,
          "TeamName": "Squirtin' Pepperoni",
          "leg": "TA3",
          "leg_time_c": "2018-07-07 07:41:52.900",
          "leg_time_i": "2018-07-07 03:40:22.700"
         },
         {
          "Bib": 701,
          "TeamName": "Sex Panthers",
          "leg": "TA3",
          "leg_time_c": "2018-07-07 08:53:53.700",
          "leg_time_i": "2018-07-07 04:48:35.600"
         },
         {
          "Bib": 893,
          "TeamName": "Sunday Mall Walkers",
          "leg": "TA3",
          "leg_time_c": "2018-07-07 09:03:22.300",
          "leg_time_i": "2018-07-07 04:11:56.900"
         },
         {
          "Bib": 723,
          "TeamName": "Leg Day",
          "leg": "TA3",
          "leg_time_c": "2018-07-07 07:31:19.100",
          "leg_time_i": "2018-07-07 03:48:03.300"
         },
         {
          "Bib": 770,
          "TeamName": "Jelly Bellies",
          "leg": "TA3",
          "leg_time_c": "2018-07-07 08:23:16.800",
          "leg_time_i": "2018-07-07 04:13:08.700"
         },
         {
          "Bib": 856,
          "TeamName": "Forged by Fire",
          "leg": "TA3",
          "leg_time_c": "2018-07-07 08:38:18.300",
          "leg_time_i": "2018-07-07 04:20:08.500"
         },
         {
          "Bib": 764,
          "TeamName": "Sin and Bear It",
          "leg": "TA3",
          "leg_time_c": "2018-07-07 09:15:15.900",
          "leg_time_i": "2018-07-07 04:34:13.300"
         },
         {
          "Bib": 857,
          "TeamName": "Trail Snails",
          "leg": "TA3",
          "leg_time_c": "2018-07-07 09:44:25.400",
          "leg_time_i": "2018-07-07 04:13:20.900"
         },
         {
          "Bib": 826,
          "TeamName": "Burpin' Pepperoni",
          "leg": "TA3",
          "leg_time_c": "2018-07-07 08:58:46.600",
          "leg_time_i": "2018-07-07 04:21:36.300"
         },
         {
          "Bib": 849,
          "TeamName": "6 Inches of Subway",
          "leg": "TA3",
          "leg_time_c": "2018-07-07 08:56:28.800",
          "leg_time_i": "2018-07-07 04:12:47.900"
         },
         {
          "Bib": 786,
          "TeamName": "Trail Droppings",
          "leg": "TA3",
          "leg_time_c": "2018-07-07 08:37:39.800",
          "leg_time_i": "2018-07-07 04:01:41.900"
         },
         {
          "Bib": 733,
          "TeamName": "Mother's Little Helpers",
          "leg": "TA3",
          "leg_time_c": "2018-07-07 09:41:06.900",
          "leg_time_i": "2018-07-07 05:16:24.600"
         },
         {
          "Bib": 717,
          "TeamName": "Rapid Thigh Movement",
          "leg": "TA3",
          "leg_time_c": "2018-07-07 09:34:10.500",
          "leg_time_i": "2018-07-07 05:00:47.300"
         },
         {
          "Bib": 766,
          "TeamName": "Runsofarians",
          "leg": "TA3",
          "leg_time_c": "2018-07-07 08:45:41.200",
          "leg_time_i": "2018-07-07 04:01:03.200"
         },
         {
          "Bib": 761,
          "TeamName": "twisted blisters",
          "leg": "TA3",
          "leg_time_c": "2018-07-07 08:03:07.200",
          "leg_time_i": "2018-07-07 03:42:40.400"
         },
         {
          "Bib": 715,
          "TeamName": "Wandering Souls",
          "leg": "TA3",
          "leg_time_c": "2018-07-07 09:22:39.500",
          "leg_time_i": "2018-07-07 04:26:26.200"
         },
         {
          "Bib": 833,
          "TeamName": "Rough Runners",
          "leg": "TA3",
          "leg_time_c": "2018-07-07 09:45:41.100",
          "leg_time_i": "2018-07-07 05:16:16.800"
         },
         {
          "Bib": 743,
          "TeamName": "All Mixed Up",
          "leg": "TA3",
          "leg_time_c": "2018-07-07 09:48:15.800",
          "leg_time_i": "2018-07-07 04:50:46.100"
         },
         {
          "Bib": 771,
          "TeamName": "Lets get Rocked!",
          "leg": "TA3",
          "leg_time_c": "2018-07-07 08:18:28.300",
          "leg_time_i": "2018-07-07 03:55:37.600"
         },
         {
          "Bib": 822,
          "TeamName": "RAF",
          "leg": "TA3",
          "leg_time_c": "2018-07-07 08:45:47.600",
          "leg_time_i": "2018-07-07 03:56:17.500"
         },
         {
          "Bib": 899,
          "TeamName": "The Young & The Breathless",
          "leg": "TA3",
          "leg_time_c": "2018-07-07 09:57:30.400",
          "leg_time_i": "2018-07-07 04:27:26.700"
         },
         {
          "Bib": 862,
          "TeamName": "Your Pace or Mine?",
          "leg": "TA3",
          "leg_time_c": "2018-07-07 09:23:33.100",
          "leg_time_i": "2018-07-07 04:48:30.400"
         },
         {
          "Bib": 780,
          "TeamName": "Running on the Edge",
          "leg": "TA3",
          "leg_time_c": "2018-07-07 08:02:13.500",
          "leg_time_i": "2018-07-07 03:39:58.500"
         },
         {
          "Bib": 876,
          "TeamName": "Rhabd'oh!",
          "leg": "TA3",
          "leg_time_c": "2018-07-07 08:12:10.600",
          "leg_time_i": "2018-07-07 03:56:30.000"
         },
         {
          "Bib": 878,
          "TeamName": "A Mixed Bag",
          "leg": "TA3",
          "leg_time_c": "2018-07-07 09:56:23.600",
          "leg_time_i": "2018-07-07 04:20:02.000"
         },
         {
          "Bib": 781,
          "TeamName": "Ponoka Path Pounders",
          "leg": "TA3",
          "leg_time_c": "2018-07-07 08:36:20.700",
          "leg_time_i": "2018-07-07 04:28:08.200"
         },
         {
          "Bib": 828,
          "TeamName": "Team Schwetty Balls",
          "leg": "TA3",
          "leg_time_c": "2018-07-07 08:00:23.900",
          "leg_time_i": "2018-07-07 03:43:51.300"
         },
         {
          "Bib": 830,
          "TeamName": "Scrambled Legs",
          "leg": "TA3",
          "leg_time_c": "2018-07-07 08:40:44.700",
          "leg_time_i": "2018-07-07 04:31:13.300"
         },
         {
          "Bib": 760,
          "TeamName": "Bear Bait",
          "leg": "TA3",
          "leg_time_c": "2018-07-07 09:19:45.900",
          "leg_time_i": "2018-07-07 04:37:25.900"
         },
         {
          "Bib": 765,
          "TeamName": "Something Wicked This Way Runs",
          "leg": "TA3",
          "leg_time_c": "2018-07-07 09:25:18.500",
          "leg_time_i": "2018-07-07 05:01:50.300"
         },
         {
          "Bib": 851,
          "TeamName": "ThunderCats",
          "leg": "TA3",
          "leg_time_c": "2018-07-07 09:02:17.500",
          "leg_time_i": "2018-07-07 04:11:29.500"
         },
         {
          "Bib": 756,
          "TeamName": "Dust Bunnies",
          "leg": "TA3",
          "leg_time_c": "2018-07-07 08:41:07.000",
          "leg_time_i": "2018-07-07 04:01:12.200"
         },
         {
          "Bib": 767,
          "TeamName": "It's Your Breath in Our Lungs",
          "leg": "TA3",
          "leg_time_c": "2018-07-07 09:12:31.100",
          "leg_time_i": "2018-07-07 04:39:53.200"
         },
         {
          "Bib": 718,
          "TeamName": "Hot Flashes",
          "leg": "TA3",
          "leg_time_c": "2018-07-07 09:19:29.800",
          "leg_time_i": "2018-07-07 04:27:09.400"
         },
         {
          "Bib": 804,
          "TeamName": "6 Goat Sheeps And A Kid",
          "leg": "TA3",
          "leg_time_c": "2018-07-07 08:00:54.100",
          "leg_time_i": "2018-07-07 03:36:45.700"
         },
         {
          "Bib": 783,
          "TeamName": "Fine Winers",
          "leg": "TA3",
          "leg_time_c": "2018-07-07 09:57:52.400",
          "leg_time_i": "2018-07-07 05:08:38.700"
         },
         {
          "Bib": 866,
          "TeamName": "A-Town Animals",
          "leg": "TA3",
          "leg_time_c": "2018-07-07 08:51:46.900",
          "leg_time_i": "2018-07-07 04:19:26.300"
         },
         {
          "Bib": 913,
          "TeamName": "Hedging on the Kiwi",
          "leg": "TA3",
          "leg_time_c": "2018-07-07 09:42:41.300",
          "leg_time_i": "2018-07-07 04:11:38.700"
         },
         {
          "Bib": 883,
          "TeamName": "I'd HIIT That",
          "leg": "TA3",
          "leg_time_c": "2018-07-07 08:17:45.300",
          "leg_time_i": "2018-07-07 03:47:33.900"
         },
         {
          "Bib": 837,
          "TeamName": "Cougar-BearSnake",
          "leg": "TA3",
          "leg_time_c": "2018-07-07 09:37:56.400",
          "leg_time_i": "2018-07-07 04:50:22.900"
         },
         {
          "Bib": 713,
          "TeamName": "Dangerous Divas",
          "leg": "TA3",
          "leg_time_c": "2018-07-07 09:53:56.300",
          "leg_time_i": "2018-07-07 05:05:49.600"
         },
         {
          "Bib": 726,
          "TeamName": "No One Told Me There'd Be Chafing!",
          "leg": "TA3",
          "leg_time_c": "2018-07-07 09:07:05.700",
          "leg_time_i": "2018-07-07 04:47:20.700"
         },
         {
          "Bib": 747,
          "TeamName": "Hill Humpers",
          "leg": "TA3",
          "leg_time_c": "2018-07-07 09:27:24.500",
          "leg_time_i": "2018-07-07 04:34:31.600"
         },
         {
          "Bib": 871,
          "TeamName": "Recovering Accountaholics",
          "leg": "TA3",
          "leg_time_c": "2018-07-07 08:35:08.000",
          "leg_time_i": "2018-07-07 03:43:59.700"
         },
         {
          "Bib": 854,
          "TeamName": "WarriorPacks",
          "leg": "TA3",
          "leg_time_c": "2018-07-07 09:54:12.400",
          "leg_time_i": "2018-07-07 04:58:04.600"
         },
         {
          "Bib": 730,
          "TeamName": "SWATT",
          "leg": "TA3",
          "leg_time_c": "2018-07-07 08:36:20.600",
          "leg_time_i": "2018-07-07 03:51:39.400"
         },
         {
          "Bib": 738,
          "TeamName": "#OMC1",
          "leg": "TA3",
          "leg_time_c": "2018-07-07 09:12:19.600",
          "leg_time_i": "2018-07-07 03:59:49.400"
         },
         {
          "Bib": 895,
          "TeamName": "Prairie Dogs",
          "leg": "TA3",
          "leg_time_c": "2018-07-07 10:13:08.700",
          "leg_time_i": "2018-07-07 05:12:11.500"
         },
         {
          "Bib": 782,
          "TeamName": "The Brandy Bunch",
          "leg": "TA3",
          "leg_time_c": "2018-07-07 09:04:11.100",
          "leg_time_i": "2018-07-07 04:34:39.900"
         },
         {
          "Bib": 736,
          "TeamName": "Run, Sweat, and Beers",
          "leg": "TA3",
          "leg_time_c": "2018-07-07 09:28:03.600",
          "leg_time_i": "2018-07-07 04:55:49.900"
         },
         {
          "Bib": 903,
          "TeamName": "Clear Lake Crusaders",
          "leg": "TA3",
          "leg_time_c": "2018-07-07 09:55:39.300",
          "leg_time_i": "2018-07-07 05:20:36.100"
         },
         {
          "Bib": 906,
          "TeamName": "Dauntless",
          "leg": "TA3",
          "leg_time_c": "2018-07-07 09:37:58.300",
          "leg_time_i": "2018-07-07 05:33:18.700"
         },
         {
          "Bib": 785,
          "TeamName": "United Cycle Team Lost and Confused",
          "leg": "TA3",
          "leg_time_c": "2018-07-07 09:54:18.700",
          "leg_time_i": "2018-07-07 04:27:18.000"
         },
         {
          "Bib": 882,
          "TeamName": "What The Hill Are We Doing??",
          "leg": "TA3",
          "leg_time_c": "2018-07-07 09:15:13.100",
          "leg_time_i": "2018-07-07 04:42:40.700"
         },
         {
          "Bib": 827,
          "TeamName": "It was all feathers",
          "leg": "TA3",
          "leg_time_c": "2018-07-07 10:56:34.100",
          "leg_time_i": "2018-07-07 04:54:52.200"
         },
         {
          "Bib": 807,
          "TeamName": "Messy Seven",
          "leg": "TA3",
          "leg_time_c": "2018-07-07 09:02:33.500",
          "leg_time_i": "2018-07-07 04:27:13.700"
         },
         {
          "Bib": 741,
          "TeamName": "Blackbird",
          "leg": "TA3",
          "leg_time_c": "2018-07-07 10:19:15.300",
          "leg_time_i": "2018-07-07 04:42:19.500"
         },
         {
          "Bib": 848,
          "TeamName": "Run.Rehab.Run.Repeat.",
          "leg": "TA3",
          "leg_time_c": "2018-07-07 08:45:08.000",
          "leg_time_i": "2018-07-07 04:29:44.400"
         },
         {
          "Bib": 805,
          "TeamName": "Jogander",
          "leg": "TA3",
          "leg_time_c": "2018-07-07 09:23:32.600",
          "leg_time_i": "2018-07-07 04:56:29.400"
         },
         {
          "Bib": 748,
          "TeamName": "Sister Wives",
          "leg": "TA3",
          "leg_time_c": "2018-07-07 08:12:32.800",
          "leg_time_i": "2018-07-07 03:36:13.200"
         },
         {
          "Bib": 794,
          "TeamName": "RIOT - Running is our Therapy",
          "leg": "TA3",
          "leg_time_c": "2018-07-07 10:12:25.100",
          "leg_time_i": "2018-07-07 05:07:58.400"
         },
         {
          "Bib": 739,
          "TeamName": "Toe Nails Are For Sissies.",
          "leg": "TA3",
          "leg_time_c": "2018-07-07 08:52:40.700",
          "leg_time_i": "2018-07-07 04:06:23.800"
         },
         {
          "Bib": 705,
          "TeamName": "JBF Revival",
          "leg": "TA3",
          "leg_time_c": "2018-07-07 10:13:51.300",
          "leg_time_i": "2018-07-07 05:07:49.000"
         },
         {
          "Bib": 793,
          "TeamName": "Ignorance is Blisters",
          "leg": "TA3",
          "leg_time_c": "2018-07-07 11:16:12.400",
          "leg_time_i": "2018-07-07 05:07:13.600"
         },
         {
          "Bib": 852,
          "TeamName": "Minimum Champions",
          "leg": "TA3",
          "leg_time_c": "2018-07-07 10:10:42.200",
          "leg_time_i": "2018-07-07 05:15:19.000"
         },
         {
          "Bib": 819,
          "TeamName": "Team Side Group",
          "leg": "TA3",
          "leg_time_c": "2018-07-07 08:33:38.200",
          "leg_time_i": "2018-07-07 04:29:19.900"
         },
         {
          "Bib": 914,
          "TeamName": "Tears then Beers",
          "leg": "TA3",
          "leg_time_c": "2018-07-07 09:49:17.500",
          "leg_time_i": "2018-07-07 05:22:57.400"
         },
         {
          "Bib": 720,
          "TeamName": "#rundefined",
          "leg": "TA3",
          "leg_time_c": "2018-07-07 09:49:15.100",
          "leg_time_i": "2018-07-07 04:26:43.000"
         },
         {
          "Bib": 870,
          "TeamName": "The Virgins",
          "leg": "TA3",
          "leg_time_c": "2018-07-07 09:55:25.900",
          "leg_time_i": "2018-07-07 04:36:45.300"
         },
         {
          "Bib": 752,
          "TeamName": "All Downhill From Here!",
          "leg": "TA3",
          "leg_time_c": "2018-07-07 09:54:42.100",
          "leg_time_i": "2018-07-07 03:58:23.700"
         },
         {
          "Bib": 802,
          "TeamName": "#runswithwill",
          "leg": "TA3",
          "leg_time_c": "2018-07-07 10:43:03.200",
          "leg_time_i": "2018-07-07 04:33:19.200"
         },
         {
          "Bib": 811,
          "TeamName": "RavenMad",
          "leg": "TA3",
          "leg_time_c": "2018-07-07 10:29:33.100",
          "leg_time_i": "2018-07-07 05:10:57.500"
         },
         {
          "Bib": 800,
          "TeamName": "Run Forest Run!",
          "leg": "TA3",
          "leg_time_c": "2018-07-07 09:39:52.500",
          "leg_time_i": "2018-07-07 04:21:15.100"
         },
         {
          "Bib": 789,
          "TeamName": "Bush Pounders",
          "leg": "TA3",
          "leg_time_c": "2018-07-07 10:21:19.800",
          "leg_time_i": "2018-07-07 04:32:53.400"
         },
         {
          "Bib": 772,
          "TeamName": "Don't suck",
          "leg": "TA3",
          "leg_time_c": "2018-07-07 09:29:51.200",
          "leg_time_i": "2018-07-07 04:40:26.000"
         },
         {
          "Bib": 887,
          "TeamName": "Team Pain",
          "leg": "TA3",
          "leg_time_c": "2018-07-07 09:29:42.100",
          "leg_time_i": "2018-07-07 04:45:30.000"
         },
         {
          "Bib": 881,
          "TeamName": "In Over of Heads",
          "leg": "TA3",
          "leg_time_c": "2018-07-07 09:16:49.600",
          "leg_time_i": "2018-07-07 04:13:23.600"
         },
         {
          "Bib": 813,
          "TeamName": "Team Yellow",
          "leg": "TA3",
          "leg_time_c": "2018-07-07 10:30:41.500",
          "leg_time_i": "2018-07-07 04:47:01.100"
         },
         {
          "Bib": 768,
          "TeamName": "Set Fire to the Wicked Pain",
          "leg": "TA3",
          "leg_time_c": "2018-07-07 09:44:38.200",
          "leg_time_i": "2018-07-07 04:44:29.800"
         },
         {
          "Bib": 801,
          "TeamName": "SWAT - So What About Training",
          "leg": "TA3",
          "leg_time_c": "2018-07-07 10:43:21.800",
          "leg_time_i": "2018-07-07 05:55:31.700"
         },
         {
          "Bib": 792,
          "TeamName": "A Murder of Runners",
          "leg": "TA3",
          "leg_time_c": "2018-07-07 09:44:05.400",
          "leg_time_i": "2018-07-07 04:29:42.100"
         },
         {
          "Bib": 875,
          "TeamName": "Team Wu",
          "leg": "TA3",
          "leg_time_c": "2018-07-07 10:22:53.900",
          "leg_time_i": "2018-07-07 04:32:17.100"
         },
         {
          "Bib": 841,
          "TeamName": "Forced, bribed, or willing?",
          "leg": "TA3",
          "leg_time_c": "2018-07-07 09:53:48.500",
          "leg_time_i": "2018-07-07 04:51:22.600"
         },
         {
          "Bib": 762,
          "TeamName": "Are we there yet?",
          "leg": "TA3",
          "leg_time_c": "2018-07-07 09:50:35.600",
          "leg_time_i": "2018-07-07 05:42:30.700"
         },
         {
          "Bib": 886,
          "TeamName": "Peanut Butter Jelly Legs",
          "leg": "TA3",
          "leg_time_c": "2018-07-07 09:27:24.600",
          "leg_time_i": "2018-07-07 04:33:44.200"
         },
         {
          "Bib": 838,
          "TeamName": "Bear-ly Made It",
          "leg": "TA3",
          "leg_time_c": "2018-07-07 10:00:13.200",
          "leg_time_i": "2018-07-07 05:29:11.300"
         },
         {
          "Bib": 817,
          "TeamName": "Summit Slayers",
          "leg": "TA3",
          "leg_time_c": "2018-07-07 09:44:02.400",
          "leg_time_i": "2018-07-07 05:33:27.300"
         },
         {
          "Bib": 916,
          "TeamName": "Sassy Sinister Sexpots",
          "leg": "TA3",
          "leg_time_c": "2018-07-07 11:41:04.200",
          "leg_time_i": "2018-07-07 05:30:32.000"
         },
         {
          "Bib": 712,
          "TeamName": "S Club 7",
          "leg": "TA3",
          "leg_time_c": "2018-07-07 09:19:34.000",
          "leg_time_i": "2018-07-07 04:19:09.200"
         },
         {
          "Bib": 735,
          "TeamName": "Girls Gone Trail",
          "leg": "TA3",
          "leg_time_c": "2018-07-07 10:45:58.100",
          "leg_time_i": "2018-07-07 05:43:15.700"
         },
         {
          "Bib": 896,
          "TeamName": "Triple Terrain Trail Trekkers",
          "leg": "TA3",
          "leg_time_c": "2018-07-07 09:27:30.100",
          "leg_time_i": "2018-07-07 05:07:39.200"
         },
         {
          "Bib": 829,
          "TeamName": "Pace Jam",
          "leg": "TA3",
          "leg_time_c": "2018-07-07 09:43:07.300",
          "leg_time_i": "2018-07-07 04:20:11.000"
         },
         {
          "Bib": 884,
          "TeamName": "Easier said than run!",
          "leg": "TA3",
          "leg_time_c": "2018-07-07 10:09:03.100",
          "leg_time_i": "2018-07-07 04:56:12.300"
         },
         {
          "Bib": 911,
          "TeamName": "7 Ways to Lose A Runner",
          "leg": "TA3",
          "leg_time_c": "2018-07-07 10:19:24.800",
          "leg_time_i": "2018-07-07 05:18:06.300"
         },
         {
          "Bib": 749,
          "TeamName": "Lactic Acid Flashback",
          "leg": "TA3",
          "leg_time_c": "2018-07-07 08:56:43.900",
          "leg_time_i": "2018-07-07 04:52:05.600"
         },
         {
          "Bib": 702,
          "TeamName": "GFP",
          "leg": "TA3",
          "leg_time_c": "2018-07-07 09:43:09.700",
          "leg_time_i": "2018-07-07 04:42:04.500"
         },
         {
          "Bib": 885,
          "TeamName": "Cobra Kai",
          "leg": "TA3",
          "leg_time_c": "2018-07-07 09:27:31.600",
          "leg_time_i": "2018-07-07 04:09:37.600"
         },
         {
          "Bib": 721,
          "TeamName": "7 Ways to Lose a Runner",
          "leg": "TA3",
          "leg_time_c": "2018-07-07 10:23:55.400",
          "leg_time_i": "2018-07-07 04:53:57.500"
         },
         {
          "Bib": 759,
          "TeamName": "Cougar Bait",
          "leg": "TA3",
          "leg_time_c": "2018-07-07 09:28:16.800",
          "leg_time_i": "2018-07-07 04:57:46.100"
         },
         {
          "Bib": 773,
          "TeamName": "Estrogen Rush",
          "leg": "TA3",
          "leg_time_c": "2018-07-07 10:10:06.100",
          "leg_time_i": "2018-07-07 05:25:06.200"
         },
         {
          "Bib": 778,
          "TeamName": "City Fit Shop Rocks",
          "leg": "TA3",
          "leg_time_c": "2018-07-07 10:38:13.200",
          "leg_time_i": "2018-07-07 05:25:22.500"
         },
         {
          "Bib": 912,
          "TeamName": "Evil Murray and his Badass Bitches",
          "leg": "TA3",
          "leg_time_c": "2018-07-07 10:56:48.700",
          "leg_time_i": "2018-07-07 04:57:59.000"
         },
         {
          "Bib": 708,
          "TeamName": "Strongbow and Deep Fried Pickles",
          "leg": "TA3",
          "leg_time_c": "2018-07-07 08:37:40.400",
          "leg_time_i": "2018-07-07 04:37:57.300"
         },
         {
          "Bib": 706,
          "TeamName": "Just Don't Die FFS",
          "leg": "TA3",
          "leg_time_c": "2018-07-07 10:15:00.300",
          "leg_time_i": "2018-07-07 04:51:58.800"
         },
         {
          "Bib": 877,
          "TeamName": "THe Free Agents",
          "leg": "TA3",
          "leg_time_c": "2018-07-07 10:19:26.600",
          "leg_time_i": "2018-07-07 05:17:52.500"
         },
         {
          "Bib": 719,
          "TeamName": "Faster than Molasses",
          "leg": "TA3",
          "leg_time_c": "2018-07-07 09:52:42.600",
          "leg_time_i": "2018-07-07 05:00:39.500"
         },
         {
          "Bib": 863,
          "TeamName": "SPEED UP RACING",
          "leg": "TA3",
          "leg_time_c": "2018-07-07 10:02:00.400",
          "leg_time_i": "2018-07-07 04:58:42.100"
         },
         {
          "Bib": 725,
          "TeamName": "6 Sinners and a Saint",
          "leg": "TA3",
          "leg_time_c": "2018-07-07 10:32:09.100",
          "leg_time_i": "2018-07-07 05:17:24.400"
         },
         {
          "Bib": 868,
          "TeamName": "Thunder Cats",
          "leg": "TA3",
          "leg_time_c": "2018-07-07 09:45:44.400",
          "leg_time_i": "2018-07-07 04:34:36.000"
         },
         {
          "Bib": 769,
          "TeamName": "Midlife Runners",
          "leg": "TA3",
          "leg_time_c": "2018-07-07 10:16:10.100",
          "leg_time_i": "2018-07-07 05:30:55.800"
         },
         {
          "Bib": 874,
          "TeamName": "City Fit Shop Scissors",
          "leg": "TA3",
          "leg_time_c": "2018-07-07 10:38:15.000",
          "leg_time_i": "2018-07-07 06:04:25.200"
         },
         {
          "Bib": 861,
          "TeamName": "Fuster Clucks",
          "leg": "TA3",
          "leg_time_c": "2018-07-07 09:51:14.700",
          "leg_time_i": "2018-07-07 05:17:30.800"
         },
         {
          "Bib": 909,
          "TeamName": "Male Triple Terrain Trekkers",
          "leg": "TA3",
          "leg_time_c": "2018-07-07 10:06:00.400",
          "leg_time_i": "2018-07-07 05:31:43.200"
         },
         {
          "Bib": 704,
          "TeamName": "Buck Up",
          "leg": "TA3",
          "leg_time_c": "2018-07-07 10:21:17.800",
          "leg_time_i": "2018-07-07 04:29:47.700"
         },
         {
          "Bib": 832,
          "TeamName": "A View to a Hill",
          "leg": "TA3",
          "leg_time_c": "2018-07-07 10:53:33.700",
          "leg_time_i": "2018-07-07 05:29:00.500"
         },
         {
          "Bib": 799,
          "TeamName": "Running Back To Saskatoon",
          "leg": "TA3",
          "leg_time_c": "2018-07-07 09:45:02.300",
          "leg_time_i": "2018-07-07 04:42:00.400"
         },
         {
          "Bib": 731,
          "TeamName": "Never Again",
          "leg": "TA3",
          "leg_time_c": "2018-07-07 10:27:40.000",
          "leg_time_i": "2018-07-07 04:43:25.300"
         },
         {
          "Bib": 901,
          "TeamName": "12 feet 1 footz",
          "leg": "TA3",
          "leg_time_c": "2018-07-07 09:51:10.900",
          "leg_time_i": "2018-07-07 04:22:25.400"
         },
         {
          "Bib": 890,
          "TeamName": "More legs than a bucket of chicken",
          "leg": "TA3",
          "leg_time_c": "2018-07-07 09:55:41.200",
          "leg_time_i": "2018-07-07 04:39:10.500"
         },
         {
          "Bib": 774,
          "TeamName": "City Fit SHop PAPER",
          "leg": "TA3",
          "leg_time_c": "2018-07-07 10:38:13.600",
          "leg_time_i": "2018-07-07 05:48:51.300"
         },
         {
          "Bib": 703,
          "TeamName": "Tag, you're it",
          "leg": "TA3",
          "leg_time_c": "2018-07-07 10:19:21.300",
          "leg_time_i": "2018-07-07 05:03:57.400"
         },
         {
          "Bib": 742,
          "TeamName": "Ultra Relay-tionship Goals",
          "leg": "TA3",
          "leg_time_c": "2018-07-07 10:25:53.400",
          "leg_time_i": "2018-07-07 04:32:22.300"
         },
         {
          "Bib": 758,
          "TeamName": "Long distance Relay-tionships",
          "leg": "TA3",
          "leg_time_c": "2018-07-07 10:25:54.000",
          "leg_time_i": "2018-07-07 04:32:22.900"
         },
         {
          "Bib": 729,
          "TeamName": "Ruck Funning",
          "leg": "TA3",
          "leg_time_c": "2018-07-07 12:12:54.200",
          "leg_time_i": "2018-07-07 06:07:53.000"
         },
         {
          "Bib": 797,
          "TeamName": "The Young and the Breathless",
          "leg": "TA3",
          "leg_time_c": "2018-07-07 11:07:18.500",
          "leg_time_i": "2018-07-07 05:34:47.100"
         },
         {
          "Bib": 795,
          "TeamName": "Weary and Draggin",
          "leg": "TA3",
          "leg_time_c": "2018-07-07 11:02:12.600",
          "leg_time_i": "2018-07-07 05:03:31.300"
         },
         {
          "Bib": 915,
          "TeamName": "Running People",
          "leg": "TA3",
          "leg_time_c": "2018-07-07 09:55:44.800",
          "leg_time_i": "2018-07-07 05:00:21.100"
         },
         {
          "Bib": 835,
          "TeamName": "But did you die?",
          "leg": "TA3",
          "leg_time_c": "2018-07-07 11:38:26.200",
          "leg_time_i": "2018-07-07 06:25:30.600"
         },
         {
          "Bib": 790,
          "TeamName": "The Deadly Medley",
          "leg": "TA3",
          "leg_time_c": "2018-07-07 10:12:21.700",
          "leg_time_i": "2018-07-07 04:50:35.300"
         },
         {
          "Bib": 825,
          "TeamName": "Dirty Threesome In The Woods",
          "leg": "TA3",
          "leg_time_c": "2018-07-07 11:07:57.900",
          "leg_time_i": "2018-07-07 06:28:59.700"
         },
         {
          "Bib": 814,
          "TeamName": "Dark Horse",
          "leg": "TA3",
          "leg_time_c": "2018-07-07 10:17:26.200",
          "leg_time_i": "2018-07-07 05:25:08.100"
         },
         {
          "Bib": 844,
          "TeamName": "The Bear Necessities",
          "leg": "TA3",
          "leg_time_c": "2018-07-07 09:55:25.000",
          "leg_time_i": "2018-07-07 05:22:57.000"
         },
         {
          "Bib": 714,
          "TeamName": "The Kings and Queens of Sin",
          "leg": "TA3",
          "leg_time_c": "2018-07-07 09:42:52.700",
          "leg_time_i": "2018-07-07 05:41:06.600"
         },
         {
          "Bib": 898,
          "TeamName": "Dead Sexy",
          "leg": "TA3",
          "leg_time_c": "2018-07-07 11:30:37.100",
          "leg_time_i": "2018-07-07 05:29:51.500"
         },
         {
          "Bib": 892,
          "TeamName": "Swamp Donkeys",
          "leg": "TA3",
          "leg_time_c": "2018-07-07 11:16:02.900",
          "leg_time_i": "2018-07-07 05:22:04.800"
         },
         {
          "Bib": 888,
          "TeamName": "Running Because We Can",
          "leg": "TA3",
          "leg_time_c": "2018-07-07 08:57:46.400",
          "leg_time_i": "2018-07-07 04:42:59.500"
         },
         {
          "Bib": 754,
          "TeamName": "#OMC3",
          "leg": "TA3",
          "leg_time_c": "2018-07-07 10:02:09.100",
          "leg_time_i": "2018-07-07 04:32:19.600"
         },
         {
          "Bib": 818,
          "TeamName": "Hangry Beers",
          "leg": "TA3",
          "leg_time_c": "2018-07-07 12:34:20.800",
          "leg_time_i": "2018-07-07 05:22:53.100"
         },
         {
          "Bib": 791,
          "TeamName": "Saskatchewan Roughrunners",
          "leg": "TA3",
          "leg_time_c": "2018-07-07 09:19:57.300",
          "leg_time_i": "2018-07-07 05:10:14.400"
         },
         {
          "Bib": 834,
          "TeamName": "TNT - Dynamite!",
          "leg": "TA3",
          "leg_time_c": "2018-07-07 10:53:56.400",
          "leg_time_i": "2018-07-07 05:57:19.200"
         },
         {
          "Bib": 751,
          "TeamName": "Couples Retreat",
          "leg": "TA3",
          "leg_time_c": "2018-07-07 09:31:21.700",
          "leg_time_i": "2018-07-07 05:23:41.800"
         },
         {
          "Bib": 910,
          "TeamName": "Pnut Brittle",
          "leg": "TA3",
          "leg_time_c": "2018-07-07 08:17:44.400",
          "leg_time_i": "2018-07-07 04:18:28.500"
         },
         {
          "Bib": 775,
          "TeamName": "Altra AF",
          "leg": "TA3",
          "leg_time_c": "2018-07-07 10:18:26.500",
          "leg_time_i": "2018-07-07 05:35:31.400"
         },
         {
          "Bib": 710,
          "TeamName": "Original Joes",
          "leg": "TA4",
          "leg_time_c": "2018-07-07 08:08:37.900",
          "leg_time_i": "2018-07-07 02:37:29.300"
         },
         {
          "Bib": 803,
          "TeamName": "Attitude Over Altitude",
          "leg": "TA4",
          "leg_time_c": "2018-07-07 07:52:57.500",
          "leg_time_i": "2018-07-07 02:16:21.400"
         },
         {
          "Bib": 796,
          "TeamName": "runlAB",
          "leg": "TA4",
          "leg_time_c": "2018-07-07 08:46:10.200",
          "leg_time_i": "2018-07-07 02:49:59.500"
         },
         {
          "Bib": 905,
          "TeamName": "The Tragically Tight Hips",
          "leg": "TA4",
          "leg_time_c": "2018-07-07 09:09:03.600",
          "leg_time_i": "2018-07-07 02:33:33.300"
         },
         {
          "Bib": 711,
          "TeamName": "No Limits",
          "leg": "TA4",
          "leg_time_c": "2018-07-07 09:53:48.400",
          "leg_time_i": "2018-07-07 03:05:12.100"
         },
         {
          "Bib": 787,
          "TeamName": "TIGHT HIPS AND SORE NIPS",
          "leg": "TA4",
          "leg_time_c": "2018-07-07 09:45:02.800",
          "leg_time_i": "2018-07-07 02:42:03.700"
         },
         {
          "Bib": 894,
          "TeamName": "The Maddogs",
          "leg": "TA4",
          "leg_time_c": "2018-07-07 09:37:48.500",
          "leg_time_i": "2018-07-07 02:50:06.600"
         },
         {
          "Bib": 812,
          "TeamName": "Vintage Vixens",
          "leg": "TA4",
          "leg_time_c": "2018-07-07 09:46:29.400",
          "leg_time_i": "2018-07-07 02:58:25.400"
         },
         {
          "Bib": 865,
          "TeamName": "Montagne Papis",
          "leg": "TA4",
          "leg_time_c": "2018-07-07 10:07:59.900",
          "leg_time_i": "2018-07-07 02:45:29.500"
         },
         {
          "Bib": 908,
          "TeamName": "Fast Trax YEG Trail Team",
          "leg": "TA4",
          "leg_time_c": "2018-07-07 09:45:04.100",
          "leg_time_i": "2018-07-07 02:47:32.200"
         },
         {
          "Bib": 820,
          "TeamName": "Lactic Asses",
          "leg": "TA4",
          "leg_time_c": "2018-07-07 10:11:20.400",
          "leg_time_i": "2018-07-07 03:16:51.400"
         },
         {
          "Bib": 784,
          "TeamName": "Mantrackers",
          "leg": "TA4",
          "leg_time_c": "2018-07-07 11:01:41.300",
          "leg_time_i": "2018-07-07 03:17:31.300"
         },
         {
          "Bib": 806,
          "TeamName": "Robbie's Rejects",
          "leg": "TA4",
          "leg_time_c": "2018-07-07 10:07:18.500",
          "leg_time_i": "2018-07-07 03:20:46.100"
         },
         {
          "Bib": 809,
          "TeamName": "Child's Play",
          "leg": "TA4",
          "leg_time_c": "2018-07-07 10:05:50.000",
          "leg_time_i": "2018-07-07 02:42:21.800"
         },
         {
          "Bib": 750,
          "TeamName": "Chafing Tail",
          "leg": "TA4",
          "leg_time_c": "2018-07-07 10:51:34.000",
          "leg_time_i": "2018-07-07 03:02:39.600"
         },
         {
          "Bib": 907,
          "TeamName": "Sole Crushers",
          "leg": "TA4",
          "leg_time_c": "2018-07-07 10:58:01.300",
          "leg_time_i": "2018-07-07 03:14:21.300"
         },
         {
          "Bib": 707,
          "TeamName": "STARS Prez-otaur",
          "leg": "TA4",
          "leg_time_c": "2018-07-07 11:15:56.400",
          "leg_time_i": "2018-07-07 03:20:26.800"
         },
         {
          "Bib": 904,
          "TeamName": "Chicks and Sticks",
          "leg": "TA4",
          "leg_time_c": "2018-07-07 10:19:14.000",
          "leg_time_i": "2018-07-07 02:53:32.500"
         },
         {
          "Bib": 869,
          "TeamName": "Steal My Sin-Shine",
          "leg": "TA4",
          "leg_time_c": "2018-07-07 10:24:26.500",
          "leg_time_i": "2018-07-07 03:24:01.200"
         },
         {
          "Bib": 843,
          "TeamName": "Road Kill",
          "leg": "TA4",
          "leg_time_c": "2018-07-07 11:20:24.000",
          "leg_time_i": "2018-07-07 02:50:36.900"
         },
         {
          "Bib": 900,
          "TeamName": "Lil' Runner Cuties",
          "leg": "TA4",
          "leg_time_c": "2018-07-07 11:05:05.600",
          "leg_time_i": "2018-07-07 03:08:43.100"
         },
         {
          "Bib": 845,
          "TeamName": "Garmin Cochrane",
          "leg": "TA4",
          "leg_time_c": "2018-07-07 11:17:28.100",
          "leg_time_i": "2018-07-07 03:27:36.300"
         },
         {
          "Bib": 858,
          "TeamName": "Worst Pace Scenario",
          "leg": "TA4",
          "leg_time_c": "2018-07-07 11:22:34.400",
          "leg_time_i": "2018-07-07 03:27:37.600"
         },
         {
          "Bib": 815,
          "TeamName": "Rum Runners",
          "leg": "TA4",
          "leg_time_c": "2018-07-07 11:36:32.100",
          "leg_time_i": "2018-07-07 03:00:10.300"
         },
         {
          "Bib": 777,
          "TeamName": "Clash of Clans",
          "leg": "TA4",
          "leg_time_c": "2018-07-07 11:16:10.100",
          "leg_time_i": "2018-07-07 03:15:45.700"
         },
         {
          "Bib": 722,
          "TeamName": "Misters, Sisters, and Blisters",
          "leg": "TA4",
          "leg_time_c": "2018-07-07 10:59:42.500",
          "leg_time_i": "2018-07-07 03:28:01.700"
         },
         {
          "Bib": 846,
          "TeamName": "Penisters",
          "leg": "TA4",
          "leg_time_c": "2018-07-07 11:11:10.000",
          "leg_time_i": "2018-07-07 02:52:45.100"
         },
         {
          "Bib": 740,
          "TeamName": "Trail Nuts",
          "leg": "TA4",
          "leg_time_c": "2018-07-07 11:28:49.900",
          "leg_time_i": "2018-07-07 03:00:04.300"
         },
         {
          "Bib": 831,
          "TeamName": "Trans Mountain Plan B",
          "leg": "TA4",
          "leg_time_c": "2018-07-07 10:55:10.600",
          "leg_time_i": "2018-07-07 03:26:20.900"
         },
         {
          "Bib": 853,
          "TeamName": "Scrambled Legs",
          "leg": "TA4",
          "leg_time_c": "2018-07-07 11:09:30.200",
          "leg_time_i": "2018-07-07 03:03:43.800"
         },
         {
          "Bib": 744,
          "TeamName": "Undertrained and Overconfident",
          "leg": "TA4",
          "leg_time_c": "2018-07-07 11:00:25.300",
          "leg_time_i": "2018-07-07 02:58:25.600"
         },
         {
          "Bib": 763,
          "TeamName": "James Baxter",
          "leg": "TA4",
          "leg_time_c": "2018-07-07 11:06:27.300",
          "leg_time_i": "2018-07-07 03:05:49.800"
         },
         {
          "Bib": 755,
          "TeamName": "Run like the winded",
          "leg": "TA4",
          "leg_time_c": "2018-07-07 11:25:25.000",
          "leg_time_i": "2018-07-07 03:13:25.700"
         },
         {
          "Bib": 746,
          "TeamName": "Marmot Whisperers",
          "leg": "TA4",
          "leg_time_c": "2018-07-07 11:55:41.200",
          "leg_time_i": "2018-07-07 03:19:09.800"
         },
         {
          "Bib": 839,
          "TeamName": "The Cruisettes",
          "leg": "TA4",
          "leg_time_c": "2018-07-07 11:42:29.300",
          "leg_time_i": "2018-07-07 03:16:08.700"
         },
         {
          "Bib": 727,
          "TeamName": "Beavers Are Amazing",
          "leg": "TA4",
          "leg_time_c": "2018-07-07 11:33:46.100",
          "leg_time_i": "2018-07-07 02:58:54.500"
         },
         {
          "Bib": 872,
          "TeamName": "Don't Feel Awful, Eat a Waffle!",
          "leg": "TA4",
          "leg_time_c": "2018-07-07 11:22:21.700",
          "leg_time_i": "2018-07-07 03:23:42.400"
         },
         {
          "Bib": 860,
          "TeamName": "Happy Trails",
          "leg": "TA4",
          "leg_time_c": "2018-07-07 11:33:27.500",
          "leg_time_i": "2018-07-07 02:20:41.800"
         },
         {
          "Bib": 757,
          "TeamName": "Chernobyl",
          "leg": "TA4",
          "leg_time_c": "2018-07-07 11:19:32.400",
          "leg_time_i": "2018-07-07 03:09:50.900"
         },
         {
          "Bib": 734,
          "TeamName": "SCRAMBLED LEGS & HAM",
          "leg": "TA4",
          "leg_time_c": "2018-07-07 12:08:17.100",
          "leg_time_i": "2018-07-07 03:27:16.800"
         },
         {
          "Bib": 808,
          "TeamName": "#whatwerewethinking",
          "leg": "TA4",
          "leg_time_c": "2018-07-07 11:56:45.000",
          "leg_time_i": "2018-07-07 03:17:13.000"
         },
         {
          "Bib": 709,
          "TeamName": "Mixed Nuts",
          "leg": "TA4",
          "leg_time_c": "2018-07-07 11:03:01.800",
          "leg_time_i": "2018-07-07 03:05:21.600"
         },
         {
          "Bib": 891,
          "TeamName": "Jordan and the Vagisters",
          "leg": "TA4",
          "leg_time_c": "2018-07-07 12:41:51.200",
          "leg_time_i": "2018-07-07 04:51:14.600"
         },
         {
          "Bib": 867,
          "TeamName": "The Magnificent Seven",
          "leg": "TA4",
          "leg_time_c": "2018-07-07 11:45:43.100",
          "leg_time_i": "2018-07-07 02:59:41.300"
         },
         {
          "Bib": 788,
          "TeamName": "Blue Bayou",
          "leg": "TA4",
          "leg_time_c": "2018-07-07 11:22:19.400",
          "leg_time_i": "2018-07-07 03:31:44.200"
         },
         {
          "Bib": 745,
          "TeamName": "Fat Bastards",
          "leg": "TA4",
          "leg_time_c": "2018-07-07 12:28:50.200",
          "leg_time_i": "2018-07-07 03:52:29.700"
         },
         {
          "Bib": 850,
          "TeamName": "Chasing Trail",
          "leg": "TA4",
          "leg_time_c": "2018-07-07 11:45:44.600",
          "leg_time_i": "2018-07-07 03:19:20.000"
         },
         {
          "Bib": 724,
          "TeamName": "6 Estees & a Teste",
          "leg": "TA4",
          "leg_time_c": "2018-07-07 12:31:04.000",
          "leg_time_i": "2018-07-07 03:51:30.900"
         },
         {
          "Bib": 737,
          "TeamName": "Crow's Feet",
          "leg": "TA4",
          "leg_time_c": "2018-07-07 11:54:21.900",
          "leg_time_i": "2018-07-07 03:30:09.500"
         },
         {
          "Bib": 847,
          "TeamName": "Chasing Trail Volume 2",
          "leg": "TA4",
          "leg_time_c": "2018-07-07 11:27:51.200",
          "leg_time_i": "2018-07-07 03:32:01.500"
         },
         {
          "Bib": 798,
          "TeamName": "River City Front Runners",
          "leg": "TA4",
          "leg_time_c": "2018-07-07 12:40:30.300",
          "leg_time_i": "2018-07-07 03:22:31.500"
         },
         {
          "Bib": 779,
          "TeamName": "Running on a Dream",
          "leg": "TA4",
          "leg_time_c": "2018-07-07 11:57:21.300",
          "leg_time_i": "2018-07-07 03:53:51.900"
         },
         {
          "Bib": 902,
          "TeamName": "www.SLOW",
          "leg": "TA4",
          "leg_time_c": "2018-07-07 12:28:03.500",
          "leg_time_i": "2018-07-07 03:42:16.700"
         },
         {
          "Bib": 824,
          "TeamName": "Flatliners",
          "leg": "TA4",
          "leg_time_c": "2018-07-07 12:42:22.200",
          "leg_time_i": "2018-07-07 03:21:48.100"
         },
         {
          "Bib": 873,
          "TeamName": "Like fun, only different",
          "leg": "TA4",
          "leg_time_c": "2018-07-07 12:57:42.100",
          "leg_time_i": "2018-07-07 03:33:45.100"
         },
         {
          "Bib": 880,
          "TeamName": "Bear Naked",
          "leg": "TA4",
          "leg_time_c": "2018-07-07 11:48:19.000",
          "leg_time_i": "2018-07-07 03:01:45.600"
         },
         {
          "Bib": 840,
          "TeamName": "Another Drunk Idea Gone Wrong",
          "leg": "TA4",
          "leg_time_c": "2018-07-07 11:46:59.100",
          "leg_time_i": "2018-07-07 02:47:02.800"
         },
         {
          "Bib": 816,
          "TeamName": "Mission District Run Crew",
          "leg": "TA4",
          "leg_time_c": "2018-07-07 12:58:45.500",
          "leg_time_i": "2018-07-07 03:18:50.300"
         },
         {
          "Bib": 823,
          "TeamName": "Couple's Retreat",
          "leg": "TA4",
          "leg_time_c": "2018-07-07 11:40:33.300",
          "leg_time_i": "2018-07-07 03:25:14.300"
         },
         {
          "Bib": 897,
          "TeamName": "Bitchymen Plus Three",
          "leg": "TA4",
          "leg_time_c": "2018-07-07 12:20:11.500",
          "leg_time_i": "2018-07-07 03:18:23.400"
         },
         {
          "Bib": 864,
          "TeamName": "Magnificent 7",
          "leg": "TA4",
          "leg_time_c": "2018-07-07 12:42:01.500",
          "leg_time_i": "2018-07-07 03:50:05.100"
         },
         {
          "Bib": 889,
          "TeamName": "Epic Legs",
          "leg": "TA4",
          "leg_time_c": "2018-07-07 11:47:26.000",
          "leg_time_i": "2018-07-07 03:05:45.200"
         },
         {
          "Bib": 776,
          "TeamName": "No \"Olds\" Barred",
          "leg": "TA4",
          "leg_time_c": "2018-07-07 11:58:27.000",
          "leg_time_i": "2018-07-07 03:50:01.500"
         },
         {
          "Bib": 879,
          "TeamName": "TBD",
          "leg": "TA4",
          "leg_time_c": "2018-07-07 12:20:09.000",
          "leg_time_i": "2018-07-07 03:48:11.900"
         },
         {
          "Bib": 732,
          "TeamName": "Team Honey Badgers",
          "leg": "TA4",
          "leg_time_c": "2018-07-07 12:43:38.800",
          "leg_time_i": "2018-07-07 03:16:05.400"
         },
         {
          "Bib": 753,
          "TeamName": "#OMC2",
          "leg": "TA4",
          "leg_time_c": "2018-07-07 13:08:23.200",
          "leg_time_i": "2018-07-07 04:16:35.500"
         },
         {
          "Bib": 836,
          "TeamName": "Prairie dogs",
          "leg": "TA4",
          "leg_time_c": "2018-07-07 12:37:00.600",
          "leg_time_i": "2018-07-07 03:29:07.900"
         },
         {
          "Bib": 859,
          "TeamName": "The Twinkies",
          "leg": "TA4",
          "leg_time_c": "2018-07-07 12:29:52.200",
          "leg_time_i": "2018-07-07 03:06:17.300"
         },
         {
          "Bib": 855,
          "TeamName": "I though you said let's go for a rum!",
          "leg": "TA4",
          "leg_time_c": "2018-07-07 12:12:57.900",
          "leg_time_i": "2018-07-07 03:25:42.400"
         },
         {
          "Bib": 810,
          "TeamName": "Squirtin' Pepperoni",
          "leg": "TA4",
          "leg_time_c": "2018-07-07 11:23:59.200",
          "leg_time_i": "2018-07-07 03:42:06.300"
         },
         {
          "Bib": 701,
          "TeamName": "Sex Panthers",
          "leg": "TA4",
          "leg_time_c": "2018-07-07 12:19:25.200",
          "leg_time_i": "2018-07-07 03:25:31.500"
         },
         {
          "Bib": 893,
          "TeamName": "Sunday Mall Walkers",
          "leg": "TA4",
          "leg_time_c": "2018-07-07 12:24:31.500",
          "leg_time_i": "2018-07-07 03:21:09.200"
         },
         {
          "Bib": 723,
          "TeamName": "Leg Day",
          "leg": "TA4",
          "leg_time_c": "2018-07-07 11:23:50.700",
          "leg_time_i": "2018-07-07 03:52:31.600"
         },
         {
          "Bib": 770,
          "TeamName": "Jelly Bellies",
          "leg": "TA4",
          "leg_time_c": "2018-07-07 11:27:09.900",
          "leg_time_i": "2018-07-07 03:03:53.100"
         },
         {
          "Bib": 856,
          "TeamName": "Forged by Fire",
          "leg": "TA4",
          "leg_time_c": "2018-07-07 12:40:06.500",
          "leg_time_i": "2018-07-07 04:01:48.200"
         },
         {
          "Bib": 764,
          "TeamName": "Sin and Bear It",
          "leg": "TA4",
          "leg_time_c": "2018-07-07 13:39:03.700",
          "leg_time_i": "2018-07-07 04:23:47.800"
         },
         {
          "Bib": 857,
          "TeamName": "Trail Snails",
          "leg": "TA4",
          "leg_time_c": "2018-07-07 12:51:46.500",
          "leg_time_i": "2018-07-07 03:07:21.100"
         },
         {
          "Bib": 826,
          "TeamName": "Burpin' Pepperoni",
          "leg": "TA4",
          "leg_time_c": "2018-07-07 12:38:51.600",
          "leg_time_i": "2018-07-07 03:40:05.000"
         },
         {
          "Bib": 849,
          "TeamName": "6 Inches of Subway",
          "leg": "TA4",
          "leg_time_c": "2018-07-07 12:18:36.000",
          "leg_time_i": "2018-07-07 03:22:07.200"
         },
         {
          "Bib": 786,
          "TeamName": "Trail Droppings",
          "leg": "TA4",
          "leg_time_c": "2018-07-07 12:54:42.100",
          "leg_time_i": "2018-07-07 04:17:02.300"
         },
         {
          "Bib": 733,
          "TeamName": "Mother's Little Helpers",
          "leg": "TA4",
          "leg_time_c": "2018-07-07 12:47:27.300",
          "leg_time_i": "2018-07-07 03:06:20.400"
         },
         {
          "Bib": 717,
          "TeamName": "Rapid Thigh Movement",
          "leg": "TA4",
          "leg_time_c": "2018-07-07 13:22:49.200",
          "leg_time_i": "2018-07-07 03:48:38.700"
         },
         {
          "Bib": 766,
          "TeamName": "Runsofarians",
          "leg": "TA4",
          "leg_time_c": "2018-07-07 12:42:39.800",
          "leg_time_i": "2018-07-07 03:56:58.600"
         },
         {
          "Bib": 761,
          "TeamName": "twisted blisters",
          "leg": "TA4",
          "leg_time_c": "2018-07-07 11:57:08.400",
          "leg_time_i": "2018-07-07 03:54:01.200"
         },
         {
          "Bib": 715,
          "TeamName": "Wandering Souls",
          "leg": "TA4",
          "leg_time_c": "2018-07-07 13:03:12.400",
          "leg_time_i": "2018-07-07 03:40:32.900"
         },
         {
          "Bib": 833,
          "TeamName": "Rough Runners",
          "leg": "TA4",
          "leg_time_c": "2018-07-07 13:21:19.000",
          "leg_time_i": "2018-07-07 03:35:37.900"
         },
         {
          "Bib": 743,
          "TeamName": "All Mixed Up",
          "leg": "TA4",
          "leg_time_c": "2018-07-07 13:26:39.400",
          "leg_time_i": "2018-07-07 03:38:23.600"
         },
         {
          "Bib": 771,
          "TeamName": "Lets get Rocked!",
          "leg": "TA4",
          "leg_time_c": "2018-07-07 11:59:35.700",
          "leg_time_i": "2018-07-07 03:41:07.400"
         },
         {
          "Bib": 822,
          "TeamName": "RAF",
          "leg": "TA4",
          "leg_time_c": "2018-07-07 12:41:52.900",
          "leg_time_i": "2018-07-07 03:56:05.300"
         },
         {
          "Bib": 899,
          "TeamName": "The Young & The Breathless",
          "leg": "TA4",
          "leg_time_c": "2018-07-07 13:16:43.400",
          "leg_time_i": "2018-07-07 03:19:13.000"
         },
         {
          "Bib": 862,
          "TeamName": "Your Pace or Mine?",
          "leg": "TA4",
          "leg_time_c": "2018-07-07 12:29:18.900",
          "leg_time_i": "2018-07-07 03:05:45.800"
         },
         {
          "Bib": 780,
          "TeamName": "Running on the Edge",
          "leg": "TA4",
          "leg_time_c": "2018-07-07 11:36:07.800",
          "leg_time_i": "2018-07-07 03:33:54.300"
         },
         {
          "Bib": 876,
          "TeamName": "Rhabd'oh!",
          "leg": "TA4",
          "leg_time_c": "2018-07-07 12:29:49.800",
          "leg_time_i": "2018-07-07 04:17:39.200"
         },
         {
          "Bib": 878,
          "TeamName": "A Mixed Bag",
          "leg": "TA4",
          "leg_time_c": "2018-07-07 14:07:47.800",
          "leg_time_i": "2018-07-07 04:11:24.200"
         },
         {
          "Bib": 781,
          "TeamName": "Ponoka Path Pounders",
          "leg": "TA4",
          "leg_time_c": "2018-07-07 12:02:49.300",
          "leg_time_i": "2018-07-07 03:26:28.600"
         },
         {
          "Bib": 828,
          "TeamName": "Team Schwetty Balls",
          "leg": "TA4",
          "leg_time_c": "2018-07-07 11:48:35.200",
          "leg_time_i": "2018-07-07 03:48:11.300"
         },
         {
          "Bib": 830,
          "TeamName": "Scrambled Legs",
          "leg": "TA4",
          "leg_time_c": "2018-07-07 12:30:25.100",
          "leg_time_i": "2018-07-07 03:49:40.400"
         },
         {
          "Bib": 760,
          "TeamName": "Bear Bait",
          "leg": "TA4",
          "leg_time_c": "2018-07-07 12:42:41.700",
          "leg_time_i": "2018-07-07 03:22:55.800"
         },
         {
          "Bib": 765,
          "TeamName": "Something Wicked This Way Runs",
          "leg": "TA4",
          "leg_time_c": "2018-07-07 12:36:48.300",
          "leg_time_i": "2018-07-07 03:11:29.800"
         },
         {
          "Bib": 851,
          "TeamName": "ThunderCats",
          "leg": "TA4",
          "leg_time_c": "2018-07-07 12:58:38.800",
          "leg_time_i": "2018-07-07 03:56:21.300"
         },
         {
          "Bib": 756,
          "TeamName": "Dust Bunnies",
          "leg": "TA4",
          "leg_time_c": "2018-07-07 12:43:37.800",
          "leg_time_i": "2018-07-07 04:02:30.800"
         },
         {
          "Bib": 767,
          "TeamName": "It's Your Breath in Our Lungs",
          "leg": "TA4",
          "leg_time_c": "2018-07-07 13:06:46.200",
          "leg_time_i": "2018-07-07 03:54:15.100"
         },
         {
          "Bib": 718,
          "TeamName": "Hot Flashes",
          "leg": "TA4",
          "leg_time_c": "2018-07-07 12:11:59.900",
          "leg_time_i": "2018-07-07 02:52:30.100"
         },
         {
          "Bib": 804,
          "TeamName": "6 Goat Sheeps And A Kid",
          "leg": "TA4",
          "leg_time_c": "2018-07-07 11:51:09.500",
          "leg_time_i": "2018-07-07 03:50:15.400"
         },
         {
          "Bib": 783,
          "TeamName": "Fine Winers",
          "leg": "TA4",
          "leg_time_c": "2018-07-07 13:17:00.000",
          "leg_time_i": "2018-07-07 03:19:07.600"
         },
         {
          "Bib": 866,
          "TeamName": "A-Town Animals",
          "leg": "TA4",
          "leg_time_c": "2018-07-07 12:27:41.500",
          "leg_time_i": "2018-07-07 03:35:54.600"
         },
         {
          "Bib": 913,
          "TeamName": "Hedging on the Kiwi",
          "leg": "TA4",
          "leg_time_c": "2018-07-07 14:01:02.100",
          "leg_time_i": "2018-07-07 04:18:20.800"
         },
         {
          "Bib": 883,
          "TeamName": "I'd HIIT That",
          "leg": "TA4",
          "leg_time_c": "2018-07-07 11:52:12.300",
          "leg_time_i": "2018-07-07 03:34:27.000"
         },
         {
          "Bib": 837,
          "TeamName": "Cougar-BearSnake",
          "leg": "TA4",
          "leg_time_c": "2018-07-07 13:45:56.200",
          "leg_time_i": "2018-07-07 04:07:59.800"
         },
         {
          "Bib": 713,
          "TeamName": "Dangerous Divas",
          "leg": "TA4",
          "leg_time_c": "2018-07-07 13:09:08.000",
          "leg_time_i": "2018-07-07 03:15:11.700"
         },
         {
          "Bib": 726,
          "TeamName": "No One Told Me There'd Be Chafing!",
          "leg": "TA4",
          "leg_time_c": "2018-07-07 12:27:11.600",
          "leg_time_i": "2018-07-07 03:20:05.900"
         },
         {
          "Bib": 747,
          "TeamName": "Hill Humpers",
          "leg": "TA4",
          "leg_time_c": "2018-07-07 12:23:32.400",
          "leg_time_i": "2018-07-07 02:56:07.900"
         },
         {
          "Bib": 871,
          "TeamName": "Recovering Accountaholics",
          "leg": "TA4",
          "leg_time_c": "2018-07-07 12:24:29.000",
          "leg_time_i": "2018-07-07 03:49:21.000"
         },
         {
          "Bib": 854,
          "TeamName": "WarriorPacks",
          "leg": "TA4",
          "leg_time_c": "2018-07-07 13:12:06.000",
          "leg_time_i": "2018-07-07 03:17:53.600"
         },
         {
          "Bib": 730,
          "TeamName": "SWATT",
          "leg": "TA4",
          "leg_time_c": "2018-07-07 12:37:50.000",
          "leg_time_i": "2018-07-07 04:01:29.400"
         },
         {
          "Bib": 738,
          "TeamName": "#OMC1",
          "leg": "TA4",
          "leg_time_c": "2018-07-07 13:31:20.400",
          "leg_time_i": "2018-07-07 04:19:00.800"
         },
         {
          "Bib": 895,
          "TeamName": "Prairie Dogs",
          "leg": "TA4",
          "leg_time_c": "2018-07-07 13:58:42.300",
          "leg_time_i": "2018-07-07 03:45:33.600"
         },
         {
          "Bib": 782,
          "TeamName": "The Brandy Bunch",
          "leg": "TA4",
          "leg_time_c": "2018-07-07 12:51:53.100",
          "leg_time_i": "2018-07-07 03:47:42.000"
         },
         {
          "Bib": 736,
          "TeamName": "Run, Sweat, and Beers",
          "leg": "TA4",
          "leg_time_c": "2018-07-07 13:16:58.900",
          "leg_time_i": "2018-07-07 03:48:55.300"
         },
         {
          "Bib": 903,
          "TeamName": "Clear Lake Crusaders",
          "leg": "TA4",
          "leg_time_c": "2018-07-07 12:58:45.900",
          "leg_time_i": "2018-07-07 03:03:06.600"
         },
         {
          "Bib": 906,
          "TeamName": "Dauntless",
          "leg": "TA4",
          "leg_time_c": "2018-07-07 13:13:59.200",
          "leg_time_i": "2018-07-07 03:36:00.900"
         },
         {
          "Bib": 785,
          "TeamName": "United Cycle Team Lost and Confused",
          "leg": "TA4",
          "leg_time_c": "2018-07-07 13:29:38.100",
          "leg_time_i": "2018-07-07 03:35:19.400"
         },
         {
          "Bib": 882,
          "TeamName": "What The Hill Are We Doing??",
          "leg": "TA4",
          "leg_time_c": "2018-07-07 13:09:36.700",
          "leg_time_i": "2018-07-07 03:54:23.600"
         },
         {
          "Bib": 827,
          "TeamName": "It was all feathers",
          "leg": "TA4",
          "leg_time_c": "2018-07-07 14:14:10.900",
          "leg_time_i": "2018-07-07 03:17:36.800"
         },
         {
          "Bib": 807,
          "TeamName": "Messy Seven",
          "leg": "TA4",
          "leg_time_c": "2018-07-07 12:05:09.700",
          "leg_time_i": "2018-07-07 03:02:36.200"
         },
         {
          "Bib": 741,
          "TeamName": "Blackbird",
          "leg": "TA4",
          "leg_time_c": "2018-07-07 13:35:54.500",
          "leg_time_i": "2018-07-07 03:16:39.200"
         },
         {
          "Bib": 848,
          "TeamName": "Run.Rehab.Run.Repeat.",
          "leg": "TA4",
          "leg_time_c": "2018-07-07 13:25:14.200",
          "leg_time_i": "2018-07-07 04:40:06.200"
         },
         {
          "Bib": 805,
          "TeamName": "Jogander",
          "leg": "TA4",
          "leg_time_c": "2018-07-07 13:04:10.100",
          "leg_time_i": "2018-07-07 03:40:37.500"
         },
         {
          "Bib": 748,
          "TeamName": "Sister Wives",
          "leg": "TA4",
          "leg_time_c": "2018-07-07 12:45:34.800",
          "leg_time_i": "2018-07-07 04:33:02.000"
         },
         {
          "Bib": 794,
          "TeamName": "RIOT - Running is our Therapy",
          "leg": "TA4",
          "leg_time_c": "2018-07-07 13:23:42.600",
          "leg_time_i": "2018-07-07 03:11:17.500"
         },
         {
          "Bib": 739,
          "TeamName": "Toe Nails Are For Sissies.",
          "leg": "TA4",
          "leg_time_c": "2018-07-07 12:47:49.500",
          "leg_time_i": "2018-07-07 03:55:08.800"
         },
         {
          "Bib": 705,
          "TeamName": "JBF Revival",
          "leg": "TA4",
          "leg_time_c": "2018-07-07 14:05:21.200",
          "leg_time_i": "2018-07-07 03:51:29.900"
         },
         {
          "Bib": 793,
          "TeamName": "Ignorance is Blisters",
          "leg": "TA4",
          "leg_time_c": "2018-07-07 15:17:53.700",
          "leg_time_i": "2018-07-07 04:01:41.300"
         },
         {
          "Bib": 852,
          "TeamName": "Minimum Champions",
          "leg": "TA4",
          "leg_time_c": "2018-07-07 13:39:35.700",
          "leg_time_i": "2018-07-07 03:28:53.500"
         },
         {
          "Bib": 819,
          "TeamName": "Team Side Group",
          "leg": "TA4",
          "leg_time_c": "2018-07-07 14:18:46.100",
          "leg_time_i": "2018-07-07 05:45:07.900"
         },
         {
          "Bib": 914,
          "TeamName": "Tears then Beers",
          "leg": "TA4",
          "leg_time_c": "2018-07-07 13:21:22.000",
          "leg_time_i": "2018-07-07 03:32:04.500"
         },
         {
          "Bib": 720,
          "TeamName": "#rundefined",
          "leg": "TA4",
          "leg_time_c": "2018-07-07 13:40:00.200",
          "leg_time_i": "2018-07-07 03:50:45.100"
         },
         {
          "Bib": 870,
          "TeamName": "The Virgins",
          "leg": "TA4",
          "leg_time_c": "2018-07-07 13:29:53.200",
          "leg_time_i": "2018-07-07 03:34:27.300"
         },
         {
          "Bib": 752,
          "TeamName": "All Downhill From Here!",
          "leg": "TA4",
          "leg_time_c": "2018-07-07 13:47:18.600",
          "leg_time_i": "2018-07-07 03:52:36.500"
         },
         {
          "Bib": 802,
          "TeamName": "#runswithwill",
          "leg": "TA4",
          "leg_time_c": "2018-07-07 14:32:18.500",
          "leg_time_i": "2018-07-07 03:49:15.300"
         },
         {
          "Bib": 811,
          "TeamName": "RavenMad",
          "leg": "TA4",
          "leg_time_c": "2018-07-07 13:52:37.300",
          "leg_time_i": "2018-07-07 03:23:04.200"
         },
         {
          "Bib": 800,
          "TeamName": "Run Forest Run!",
          "leg": "TA4",
          "leg_time_c": "2018-07-07 14:07:57.200",
          "leg_time_i": "2018-07-07 04:28:04.700"
         },
         {
          "Bib": 789,
          "TeamName": "Bush Pounders",
          "leg": "TA4",
          "leg_time_c": "2018-07-07 13:27:53.300",
          "leg_time_i": "2018-07-07 03:06:33.500"
         },
         {
          "Bib": 772,
          "TeamName": "Don't suck",
          "leg": "TA4",
          "leg_time_c": "2018-07-07 14:38:09.300",
          "leg_time_i": "2018-07-07 05:08:18.100"
         },
         {
          "Bib": 887,
          "TeamName": "Team Pain",
          "leg": "TA4",
          "leg_time_c": "2018-07-07 13:30:14.900",
          "leg_time_i": "2018-07-07 04:00:32.800"
         },
         {
          "Bib": 881,
          "TeamName": "In Over of Heads",
          "leg": "TA4",
          "leg_time_c": "2018-07-07 13:54:12.300",
          "leg_time_i": "2018-07-07 04:37:22.700"
         },
         {
          "Bib": 813,
          "TeamName": "Team Yellow",
          "leg": "TA4",
          "leg_time_c": "2018-07-07 14:43:33.700",
          "leg_time_i": "2018-07-07 04:12:52.200"
         },
         {
          "Bib": 768,
          "TeamName": "Set Fire to the Wicked Pain",
          "leg": "TA4",
          "leg_time_c": "2018-07-07 13:59:10.200",
          "leg_time_i": "2018-07-07 04:14:32.000"
         },
         {
          "Bib": 801,
          "TeamName": "SWAT - So What About Training",
          "leg": "TA4",
          "leg_time_c": "2018-07-07 14:11:52.600",
          "leg_time_i": "2018-07-07 03:28:30.800"
         },
         {
          "Bib": 792,
          "TeamName": "A Murder of Runners",
          "leg": "TA4",
          "leg_time_c": "2018-07-07 14:49:42.200",
          "leg_time_i": "2018-07-07 05:05:36.800"
         },
         {
          "Bib": 875,
          "TeamName": "Team Wu",
          "leg": "TA4",
          "leg_time_c": "2018-07-07 14:01:30.300",
          "leg_time_i": "2018-07-07 03:38:36.400"
         },
         {
          "Bib": 841,
          "TeamName": "Forced, bribed, or willing?",
          "leg": "TA4",
          "leg_time_c": "2018-07-07 14:24:28.200",
          "leg_time_i": "2018-07-07 04:30:39.700"
         },
         {
          "Bib": 762,
          "TeamName": "Are we there yet?",
          "leg": "TA4",
          "leg_time_c": "2018-07-07 13:25:43.100",
          "leg_time_i": "2018-07-07 03:35:07.500"
         },
         {
          "Bib": 886,
          "TeamName": "Peanut Butter Jelly Legs",
          "leg": "TA4",
          "leg_time_c": "2018-07-07 12:40:18.500",
          "leg_time_i": "2018-07-07 03:12:53.900"
         },
         {
          "Bib": 838,
          "TeamName": "Bear-ly Made It",
          "leg": "TA4",
          "leg_time_c": "2018-07-07 13:52:11.200",
          "leg_time_i": "2018-07-07 03:51:58.000"
         },
         {
          "Bib": 817,
          "TeamName": "Summit Slayers",
          "leg": "TA4",
          "leg_time_c": "2018-07-07 14:16:52.700",
          "leg_time_i": "2018-07-07 04:32:50.300"
         },
         {
          "Bib": 916,
          "TeamName": "Sassy Sinister Sexpots",
          "leg": "TA4",
          "leg_time_c": "2018-07-07 15:52:45.300",
          "leg_time_i": "2018-07-07 04:11:41.100"
         },
         {
          "Bib": 712,
          "TeamName": "S Club 7",
          "leg": "TA4",
          "leg_time_c": "2018-07-07 12:57:50.700",
          "leg_time_i": "2018-07-07 03:38:16.700"
         },
         {
          "Bib": 735,
          "TeamName": "Girls Gone Trail",
          "leg": "TA4",
          "leg_time_c": "2018-07-07 13:49:08.400",
          "leg_time_i": "2018-07-07 03:03:10.300"
         },
         {
          "Bib": 896,
          "TeamName": "Triple Terrain Trail Trekkers",
          "leg": "TA4",
          "leg_time_c": "2018-07-07 13:09:50.400",
          "leg_time_i": "2018-07-07 03:42:20.300"
         },
         {
          "Bib": 829,
          "TeamName": "Pace Jam",
          "leg": "TA4",
          "leg_time_c": "2018-07-07 14:47:55.200",
          "leg_time_i": "2018-07-07 05:04:47.900"
         },
         {
          "Bib": 884,
          "TeamName": "Easier said than run!",
          "leg": "TA4",
          "leg_time_c": "2018-07-07 13:44:58.900",
          "leg_time_i": "2018-07-07 03:35:55.800"
         },
         {
          "Bib": 911,
          "TeamName": "7 Ways to Lose A Runner",
          "leg": "TA4",
          "leg_time_c": "2018-07-07 14:24:51.700",
          "leg_time_i": "2018-07-07 04:05:26.900"
         },
         {
          "Bib": 749,
          "TeamName": "Lactic Acid Flashback",
          "leg": "TA4",
          "leg_time_c": "2018-07-07 13:38:39.300",
          "leg_time_i": "2018-07-07 04:41:55.400"
         },
         {
          "Bib": 702,
          "TeamName": "GFP",
          "leg": "TA4",
          "leg_time_c": "2018-07-07 14:01:01.100",
          "leg_time_i": "2018-07-07 04:17:51.400"
         },
         {
          "Bib": 885,
          "TeamName": "Cobra Kai",
          "leg": "TA4",
          "leg_time_c": "2018-07-07 13:48:00.900",
          "leg_time_i": "2018-07-07 04:20:29.300"
         },
         {
          "Bib": 721,
          "TeamName": "7 Ways to Lose a Runner",
          "leg": "TA4",
          "leg_time_c": "2018-07-07 15:01:33.900",
          "leg_time_i": "2018-07-07 04:37:38.500"
         },
         {
          "Bib": 759,
          "TeamName": "Cougar Bait",
          "leg": "TA4",
          "leg_time_c": "2018-07-07 12:20:34.100",
          "leg_time_i": "2018-07-07 02:52:17.300"
         },
         {
          "Bib": 773,
          "TeamName": "Estrogen Rush",
          "leg": "TA4",
          "leg_time_c": "2018-07-07 14:22:05.300",
          "leg_time_i": "2018-07-07 04:11:59.200"
         },
         {
          "Bib": 778,
          "TeamName": "City Fit Shop Rocks",
          "leg": "TA4",
          "leg_time_c": "2018-07-07 14:19:08.000",
          "leg_time_i": "2018-07-07 03:40:54.800"
         },
         {
          "Bib": 912,
          "TeamName": "Evil Murray and his Badass Bitches",
          "leg": "TA4",
          "leg_time_c": "2018-07-07 15:16:24.100",
          "leg_time_i": "2018-07-07 04:19:35.400"
         },
         {
          "Bib": 708,
          "TeamName": "Strongbow and Deep Fried Pickles",
          "leg": "TA4",
          "leg_time_c": "2018-07-07 12:51:18.700",
          "leg_time_i": "2018-07-07 04:13:38.300"
         },
         {
          "Bib": 706,
          "TeamName": "Just Don't Die FFS",
          "leg": "TA4",
          "leg_time_c": "2018-07-07 14:50:22.300",
          "leg_time_i": "2018-07-07 04:35:22.000"
         },
         {
          "Bib": 877,
          "TeamName": "THe Free Agents",
          "leg": "TA4",
          "leg_time_c": "2018-07-07 13:52:24.900",
          "leg_time_i": "2018-07-07 03:32:58.300"
         },
         {
          "Bib": 719,
          "TeamName": "Faster than Molasses",
          "leg": "TA4",
          "leg_time_c": "2018-07-07 13:45:23.700",
          "leg_time_i": "2018-07-07 03:52:41.100"
         },
         {
          "Bib": 863,
          "TeamName": "SPEED UP RACING",
          "leg": "TA4",
          "leg_time_c": "2018-07-07 13:56:01.100",
          "leg_time_i": "2018-07-07 03:54:00.700"
         },
         {
          "Bib": 725,
          "TeamName": "6 Sinners and a Saint",
          "leg": "TA4",
          "leg_time_c": "2018-07-07 14:39:46.300",
          "leg_time_i": "2018-07-07 04:07:37.200"
         },
         {
          "Bib": 868,
          "TeamName": "Thunder Cats",
          "leg": "TA4",
          "leg_time_c": "2018-07-07 14:50:36.300",
          "leg_time_i": "2018-07-07 05:04:51.900"
         },
         {
          "Bib": 769,
          "TeamName": "Midlife Runners",
          "leg": "TA4",
          "leg_time_c": "2018-07-07 14:52:30.800",
          "leg_time_i": "2018-07-07 04:36:20.700"
         },
         {
          "Bib": 874,
          "TeamName": "City Fit Shop Scissors",
          "leg": "TA4",
          "leg_time_c": "2018-07-07 14:23:37.400",
          "leg_time_i": "2018-07-07 03:45:22.400"
         },
         {
          "Bib": 861,
          "TeamName": "Fuster Clucks",
          "leg": "TA4",
          "leg_time_c": "2018-07-07 14:40:19.700",
          "leg_time_i": "2018-07-07 04:49:05.000"
         },
         {
          "Bib": 909,
          "TeamName": "Male Triple Terrain Trekkers",
          "leg": "TA4",
          "leg_time_c": "2018-07-07 13:19:45.400",
          "leg_time_i": "2018-07-07 03:13:45.000"
         },
         {
          "Bib": 704,
          "TeamName": "Buck Up",
          "leg": "TA4",
          "leg_time_c": "2018-07-07 13:45:21.000",
          "leg_time_i": "2018-07-07 03:24:03.200"
         },
         {
          "Bib": 832,
          "TeamName": "A View to a Hill",
          "leg": "TA4",
          "leg_time_c": "2018-07-07 14:02:19.700",
          "leg_time_i": "2018-07-07 03:08:46.000"
         },
         {
          "Bib": 799,
          "TeamName": "Running Back To Saskatoon",
          "leg": "TA4",
          "leg_time_c": "2018-07-07 14:01:34.700",
          "leg_time_i": "2018-07-07 04:16:32.400"
         },
         {
          "Bib": 731,
          "TeamName": "Never Again",
          "leg": "TA4",
          "leg_time_c": "2018-07-07 15:39:43.200",
          "leg_time_i": "2018-07-07 05:12:03.200"
         },
         {
          "Bib": 901,
          "TeamName": "12 feet 1 footz",
          "leg": "TA4",
          "leg_time_c": "2018-07-07 13:37:30.200",
          "leg_time_i": "2018-07-07 03:46:19.300"
         },
         {
          "Bib": 890,
          "TeamName": "More legs than a bucket of chicken",
          "leg": "TA4",
          "leg_time_c": "2018-07-07 13:36:11.400",
          "leg_time_i": "2018-07-07 03:40:30.200"
         },
         {
          "Bib": 774,
          "TeamName": "City Fit SHop PAPER",
          "leg": "TA4",
          "leg_time_c": "2018-07-07 14:19:08.600",
          "leg_time_i": "2018-07-07 03:40:55.000"
         },
         {
          "Bib": 703,
          "TeamName": "Tag, you're it",
          "leg": "TA4",
          "leg_time_c": "2018-07-07 14:14:09.700",
          "leg_time_i": "2018-07-07 03:54:48.400"
         },
         {
          "Bib": 742,
          "TeamName": "Ultra Relay-tionship Goals",
          "leg": "TA4",
          "leg_time_c": "2018-07-07 14:21:12.600",
          "leg_time_i": "2018-07-07 03:55:19.200"
         },
         {
          "Bib": 758,
          "TeamName": "Long distance Relay-tionships",
          "leg": "TA4",
          "leg_time_c": "2018-07-07 14:21:12.600",
          "leg_time_i": "2018-07-07 03:55:18.600"
         },
         {
          "Bib": 729,
          "TeamName": "Ruck Funning",
          "leg": "TA4",
          "leg_time_c": "2018-07-07 16:18:04.000",
          "leg_time_i": "2018-07-07 04:05:09.800"
         },
         {
          "Bib": 797,
          "TeamName": "The Young and the Breathless",
          "leg": "TA4",
          "leg_time_c": "2018-07-07 15:07:15.500",
          "leg_time_i": "2018-07-07 03:59:57.000"
         },
         {
          "Bib": 795,
          "TeamName": "Weary and Draggin",
          "leg": "TA4",
          "leg_time_c": "2018-07-07 16:03:30.000",
          "leg_time_i": "2018-07-07 05:01:17.400"
         },
         {
          "Bib": 915,
          "TeamName": "Running People",
          "leg": "TA4",
          "leg_time_c": "2018-07-07 14:43:12.800",
          "leg_time_i": "2018-07-07 04:47:28.000"
         },
         {
          "Bib": 835,
          "TeamName": "But did you die?",
          "leg": "TA4",
          "leg_time_c": "2018-07-07 15:52:46.700",
          "leg_time_i": "2018-07-07 04:14:20.500"
         },
         {
          "Bib": 790,
          "TeamName": "The Deadly Medley",
          "leg": "TA4",
          "leg_time_c": "2018-07-07 15:39:50.500",
          "leg_time_i": "2018-07-07 05:27:28.800"
         },
         {
          "Bib": 825,
          "TeamName": "Dirty Threesome In The Woods",
          "leg": "TA4",
          "leg_time_c": "2018-07-07 15:00:01.100",
          "leg_time_i": "2018-07-07 03:52:03.200"
         },
         {
          "Bib": 814,
          "TeamName": "Dark Horse",
          "leg": "TA4",
          "leg_time_c": "2018-07-07 14:51:26.500",
          "leg_time_i": "2018-07-07 04:34:00.300"
         },
         {
          "Bib": 844,
          "TeamName": "The Bear Necessities",
          "leg": "TA4",
          "leg_time_c": "2018-07-07 15:11:07.800",
          "leg_time_i": "2018-07-07 05:15:42.800"
         },
         {
          "Bib": 714,
          "TeamName": "The Kings and Queens of Sin",
          "leg": "TA4",
          "leg_time_c": "2018-07-07 17:02:59.200",
          "leg_time_i": "2018-07-07 07:20:06.500"
         },
         {
          "Bib": 898,
          "TeamName": "Dead Sexy",
          "leg": "TA4",
          "leg_time_c": "2018-07-07 15:53:58.200",
          "leg_time_i": "2018-07-07 04:23:21.100"
         },
         {
          "Bib": 892,
          "TeamName": "Swamp Donkeys",
          "leg": "TA4",
          "leg_time_c": "2018-07-07 15:08:29.700",
          "leg_time_i": "2018-07-07 03:52:26.800"
         },
         {
          "Bib": 888,
          "TeamName": "Running Because We Can",
          "leg": "TA4",
          "leg_time_c": "2018-07-07 13:27:19.900",
          "leg_time_i": "2018-07-07 04:29:33.500"
         },
         {
          "Bib": 754,
          "TeamName": "#OMC3",
          "leg": "TA4",
          "leg_time_c": "2018-07-07 14:48:14.700",
          "leg_time_i": "2018-07-07 04:46:05.600"
         },
         {
          "Bib": 818,
          "TeamName": "Hangry Beers",
          "leg": "TA4",
          "leg_time_c": "2018-07-07 16:55:00.200",
          "leg_time_i": "2018-07-07 04:20:39.400"
         },
         {
          "Bib": 791,
          "TeamName": "Saskatchewan Roughrunners",
          "leg": "TA4",
          "leg_time_c": "2018-07-07 12:52:02.300",
          "leg_time_i": "2018-07-07 03:32:05.000"
         },
         {
          "Bib": 834,
          "TeamName": "TNT - Dynamite!",
          "leg": "TA4",
          "leg_time_c": "2018-07-07 16:14:58.100",
          "leg_time_i": "2018-07-07 05:21:01.700"
         },
         {
          "Bib": 751,
          "TeamName": "Couples Retreat",
          "leg": "TA4",
          "leg_time_c": "2018-07-07 12:25:00.700",
          "leg_time_i": "2018-07-07 02:53:39.000"
         },
         {
          "Bib": 910,
          "TeamName": "Pnut Brittle",
          "leg": "TA4",
          "leg_time_c": "2018-07-07 12:13:38.700",
          "leg_time_i": "2018-07-07 03:55:54.300"
         },
         {
          "Bib": 775,
          "TeamName": "Altra AF",
          "leg": "TA4",
          "leg_time_c": "2018-07-07 16:21:57.600",
          "leg_time_i": "2018-07-07 06:03:31.100"
         },
         {
          "Bib": 710,
          "TeamName": "Original Joes",
          "leg": "TA5",
          "leg_time_c": "2018-07-07 10:14:26.800",
          "leg_time_i": "2018-07-07 02:05:48.900"
         },
         {
          "Bib": 803,
          "TeamName": "Attitude Over Altitude",
          "leg": "TA5",
          "leg_time_c": "2018-07-07 10:25:27.800",
          "leg_time_i": "2018-07-07 02:32:30.300"
         },
         {
          "Bib": 796,
          "TeamName": "runlAB",
          "leg": "TA5",
          "leg_time_c": "2018-07-07 10:54:56.900",
          "leg_time_i": "2018-07-07 02:08:46.700"
         },
         {
          "Bib": 905,
          "TeamName": "The Tragically Tight Hips",
          "leg": "TA5",
          "leg_time_c": "2018-07-07 11:38:42.500",
          "leg_time_i": "2018-07-07 02:29:38.900"
         },
         {
          "Bib": 711,
          "TeamName": "No Limits",
          "leg": "TA5",
          "leg_time_c": "2018-07-07 12:16:52.700",
          "leg_time_i": "2018-07-07 02:23:04.300"
         },
         {
          "Bib": 787,
          "TeamName": "TIGHT HIPS AND SORE NIPS",
          "leg": "TA5",
          "leg_time_c": "2018-07-07 12:18:57.300",
          "leg_time_i": "2018-07-07 02:33:54.500"
         },
         {
          "Bib": 894,
          "TeamName": "The Maddogs",
          "leg": "TA5",
          "leg_time_c": "2018-07-07 12:04:55.600",
          "leg_time_i": "2018-07-07 02:27:07.100"
         },
         {
          "Bib": 812,
          "TeamName": "Vintage Vixens",
          "leg": "TA5",
          "leg_time_c": "2018-07-07 12:14:57.700",
          "leg_time_i": "2018-07-07 02:28:28.300"
         },
         {
          "Bib": 865,
          "TeamName": "Montagne Papis",
          "leg": "TA5",
          "leg_time_c": "2018-07-07 12:33:11.700",
          "leg_time_i": "2018-07-07 02:25:11.800"
         },
         {
          "Bib": 908,
          "TeamName": "Fast Trax YEG Trail Team",
          "leg": "TA5",
          "leg_time_c": "2018-07-07 12:52:15.700",
          "leg_time_i": "2018-07-07 03:07:11.600"
         },
         {
          "Bib": 820,
          "TeamName": "Lactic Asses",
          "leg": "TA5",
          "leg_time_c": "2018-07-07 13:11:14.600",
          "leg_time_i": "2018-07-07 02:59:54.200"
         },
         {
          "Bib": 784,
          "TeamName": "Mantrackers",
          "leg": "TA5",
          "leg_time_c": "2018-07-07 13:48:47.500",
          "leg_time_i": "2018-07-07 02:47:06.200"
         },
         {
          "Bib": 806,
          "TeamName": "Robbie's Rejects",
          "leg": "TA5",
          "leg_time_c": "2018-07-07 12:37:05.600",
          "leg_time_i": "2018-07-07 02:29:47.100"
         },
         {
          "Bib": 809,
          "TeamName": "Child's Play",
          "leg": "TA5",
          "leg_time_c": "2018-07-07 12:58:03.300",
          "leg_time_i": "2018-07-07 02:52:13.300"
         },
         {
          "Bib": 750,
          "TeamName": "Chafing Tail",
          "leg": "TA5",
          "leg_time_c": "2018-07-07 14:10:23.500",
          "leg_time_i": "2018-07-07 03:18:49.500"
         },
         {
          "Bib": 907,
          "TeamName": "Sole Crushers",
          "leg": "TA5",
          "leg_time_c": "2018-07-07 13:47:37.100",
          "leg_time_i": "2018-07-07 02:49:35.800"
         },
         {
          "Bib": 707,
          "TeamName": "STARS Prez-otaur",
          "leg": "TA5",
          "leg_time_c": "2018-07-07 13:19:58.000",
          "leg_time_i": "2018-07-07 02:04:01.600"
         },
         {
          "Bib": 904,
          "TeamName": "Chicks and Sticks",
          "leg": "TA5",
          "leg_time_c": "2018-07-07 13:37:47.200",
          "leg_time_i": "2018-07-07 03:18:33.200"
         },
         {
          "Bib": 869,
          "TeamName": "Steal My Sin-Shine",
          "leg": "TA5",
          "leg_time_c": "2018-07-07 13:19:41.900",
          "leg_time_i": "2018-07-07 02:55:15.400"
         },
         {
          "Bib": 843,
          "TeamName": "Road Kill",
          "leg": "TA5",
          "leg_time_c": "2018-07-07 13:57:20.100",
          "leg_time_i": "2018-07-07 02:36:56.100"
         },
         {
          "Bib": 900,
          "TeamName": "Lil' Runner Cuties",
          "leg": "TA5",
          "leg_time_c": "2018-07-07 13:39:37.400",
          "leg_time_i": "2018-07-07 02:34:31.800"
         },
         {
          "Bib": 845,
          "TeamName": "Garmin Cochrane",
          "leg": "TA5",
          "leg_time_c": "2018-07-07 14:11:34.200",
          "leg_time_i": "2018-07-07 02:54:06.100"
         },
         {
          "Bib": 858,
          "TeamName": "Worst Pace Scenario",
          "leg": "TA5",
          "leg_time_c": "2018-07-07 14:23:43.600",
          "leg_time_i": "2018-07-07 03:01:09.200"
         },
         {
          "Bib": 815,
          "TeamName": "Rum Runners",
          "leg": "TA5",
          "leg_time_c": "2018-07-07 14:21:12.200",
          "leg_time_i": "2018-07-07 02:44:40.100"
         },
         {
          "Bib": 777,
          "TeamName": "Clash of Clans",
          "leg": "TA5",
          "leg_time_c": "2018-07-07 14:22:38.400",
          "leg_time_i": "2018-07-07 03:06:28.300"
         },
         {
          "Bib": 722,
          "TeamName": "Misters, Sisters, and Blisters",
          "leg": "TA5",
          "leg_time_c": "2018-07-07 13:58:41.600",
          "leg_time_i": "2018-07-07 02:58:59.100"
         },
         {
          "Bib": 846,
          "TeamName": "Penisters",
          "leg": "TA5",
          "leg_time_c": "2018-07-07 13:50:47.500",
          "leg_time_i": "2018-07-07 02:39:37.500"
         },
         {
          "Bib": 740,
          "TeamName": "Trail Nuts",
          "leg": "TA5",
          "leg_time_c": "2018-07-07 14:32:29.500",
          "leg_time_i": "2018-07-07 03:03:39.600"
         },
         {
          "Bib": 831,
          "TeamName": "Trans Mountain Plan B",
          "leg": "TA5",
          "leg_time_c": "2018-07-07 13:58:54.900",
          "leg_time_i": "2018-07-07 03:03:44.300"
         },
         {
          "Bib": 853,
          "TeamName": "Scrambled Legs",
          "leg": "TA5",
          "leg_time_c": "2018-07-07 14:01:51.800",
          "leg_time_i": "2018-07-07 02:52:21.600"
         },
         {
          "Bib": 744,
          "TeamName": "Undertrained and Overconfident",
          "leg": "TA5",
          "leg_time_c": "2018-07-07 14:29:24.900",
          "leg_time_i": "2018-07-07 03:28:59.600"
         },
         {
          "Bib": 763,
          "TeamName": "James Baxter",
          "leg": "TA5",
          "leg_time_c": "2018-07-07 14:10:59.500",
          "leg_time_i": "2018-07-07 03:04:32.200"
         },
         {
          "Bib": 755,
          "TeamName": "Run like the winded",
          "leg": "TA5",
          "leg_time_c": "2018-07-07 14:13:16.200",
          "leg_time_i": "2018-07-07 02:47:51.200"
         },
         {
          "Bib": 746,
          "TeamName": "Marmot Whisperers",
          "leg": "TA5",
          "leg_time_c": "2018-07-07 14:34:38.100",
          "leg_time_i": "2018-07-07 02:38:56.900"
         },
         {
          "Bib": 839,
          "TeamName": "The Cruisettes",
          "leg": "TA5",
          "leg_time_c": "2018-07-07 15:18:10.000",
          "leg_time_i": "2018-07-07 03:35:40.700"
         },
         {
          "Bib": 727,
          "TeamName": "Beavers Are Amazing",
          "leg": "TA5",
          "leg_time_c": "2018-07-07 14:45:35.600",
          "leg_time_i": "2018-07-07 03:11:49.500"
         },
         {
          "Bib": 872,
          "TeamName": "Don't Feel Awful, Eat a Waffle!",
          "leg": "TA5",
          "leg_time_c": "2018-07-07 15:27:38.200",
          "leg_time_i": "2018-07-07 04:05:16.500"
         },
         {
          "Bib": 860,
          "TeamName": "Happy Trails",
          "leg": "TA5",
          "leg_time_c": "2018-07-07 14:45:54.500",
          "leg_time_i": "2018-07-07 03:12:27.000"
         },
         {
          "Bib": 757,
          "TeamName": "Chernobyl",
          "leg": "TA5",
          "leg_time_c": "2018-07-07 14:27:29.300",
          "leg_time_i": "2018-07-07 03:07:56.900"
         },
         {
          "Bib": 734,
          "TeamName": "SCRAMBLED LEGS & HAM",
          "leg": "TA5",
          "leg_time_c": "2018-07-07 15:30:32.900",
          "leg_time_i": "2018-07-07 03:22:15.800"
         },
         {
          "Bib": 808,
          "TeamName": "#whatwerewethinking",
          "leg": "TA5",
          "leg_time_c": "2018-07-07 15:31:12.500",
          "leg_time_i": "2018-07-07 03:34:27.500"
         },
         {
          "Bib": 709,
          "TeamName": "Mixed Nuts",
          "leg": "TA5",
          "leg_time_c": "2018-07-07 14:04:18.000",
          "leg_time_i": "2018-07-07 03:01:16.200"
         },
         {
          "Bib": 891,
          "TeamName": "Jordan and the Vagisters",
          "leg": "TA5",
          "leg_time_c": "2018-07-07 15:18:27.100",
          "leg_time_i": "2018-07-07 02:36:35.900"
         },
         {
          "Bib": 867,
          "TeamName": "The Magnificent Seven",
          "leg": "TA5",
          "leg_time_c": "2018-07-07 15:26:44.500",
          "leg_time_i": "2018-07-07 03:41:01.400"
         },
         {
          "Bib": 788,
          "TeamName": "Blue Bayou",
          "leg": "TA5",
          "leg_time_c": "2018-07-07 14:59:45.000",
          "leg_time_i": "2018-07-07 03:37:25.600"
         },
         {
          "Bib": 745,
          "TeamName": "Fat Bastards",
          "leg": "TA5",
          "leg_time_c": "2018-07-07 15:02:44.000",
          "leg_time_i": "2018-07-07 02:33:53.800"
         },
         {
          "Bib": 850,
          "TeamName": "Chasing Trail",
          "leg": "TA5",
          "leg_time_c": "2018-07-07 15:04:39.400",
          "leg_time_i": "2018-07-07 03:18:54.800"
         },
         {
          "Bib": 724,
          "TeamName": "6 Estees & a Teste",
          "leg": "TA5",
          "leg_time_c": "2018-07-07 15:30:05.100",
          "leg_time_i": "2018-07-07 02:59:01.100"
         },
         {
          "Bib": 737,
          "TeamName": "Crow's Feet",
          "leg": "TA5",
          "leg_time_c": "2018-07-07 14:56:29.900",
          "leg_time_i": "2018-07-07 03:02:08.000"
         },
         {
          "Bib": 847,
          "TeamName": "Chasing Trail Volume 2",
          "leg": "TA5",
          "leg_time_c": "2018-07-07 14:58:02.900",
          "leg_time_i": "2018-07-07 03:30:11.700"
         },
         {
          "Bib": 798,
          "TeamName": "River City Front Runners",
          "leg": "TA5",
          "leg_time_c": "2018-07-07 15:22:37.400",
          "leg_time_i": "2018-07-07 02:42:07.100"
         },
         {
          "Bib": 779,
          "TeamName": "Running on a Dream",
          "leg": "TA5",
          "leg_time_c": "2018-07-07 15:55:31.700",
          "leg_time_i": "2018-07-07 03:58:10.400"
         },
         {
          "Bib": 902,
          "TeamName": "www.SLOW",
          "leg": "TA5",
          "leg_time_c": "2018-07-07 15:20:49.100",
          "leg_time_i": "2018-07-07 02:52:45.600"
         },
         {
          "Bib": 824,
          "TeamName": "Flatliners",
          "leg": "TA5",
          "leg_time_c": "2018-07-07 15:10:19.200",
          "leg_time_i": "2018-07-07 02:27:57.000"
         },
         {
          "Bib": 873,
          "TeamName": "Like fun, only different",
          "leg": "TA5",
          "leg_time_c": "2018-07-07 16:08:58.000",
          "leg_time_i": "2018-07-07 03:11:15.900"
         },
         {
          "Bib": 880,
          "TeamName": "Bear Naked",
          "leg": "TA5",
          "leg_time_c": "2018-07-07 15:12:48.900",
          "leg_time_i": "2018-07-07 03:24:29.900"
         },
         {
          "Bib": 840,
          "TeamName": "Another Drunk Idea Gone Wrong",
          "leg": "TA5",
          "leg_time_c": "2018-07-07 14:53:13.000",
          "leg_time_i": "2018-07-07 03:06:13.900"
         },
         {
          "Bib": 816,
          "TeamName": "Mission District Run Crew",
          "leg": "TA5",
          "leg_time_c": "2018-07-07 16:10:51.500",
          "leg_time_i": "2018-07-07 03:12:06.000"
         },
         {
          "Bib": 823,
          "TeamName": "Couple's Retreat",
          "leg": "TA5",
          "leg_time_c": "2018-07-07 15:05:09.000",
          "leg_time_i": "2018-07-07 03:24:35.700"
         },
         {
          "Bib": 897,
          "TeamName": "Bitchymen Plus Three",
          "leg": "TA5",
          "leg_time_c": "2018-07-07 15:47:40.000",
          "leg_time_i": "2018-07-07 03:27:28.500"
         },
         {
          "Bib": 864,
          "TeamName": "Magnificent 7",
          "leg": "TA5",
          "leg_time_c": "2018-07-07 15:52:54.300",
          "leg_time_i": "2018-07-07 03:10:52.800"
         },
         {
          "Bib": 889,
          "TeamName": "Epic Legs",
          "leg": "TA5",
          "leg_time_c": "2018-07-07 15:21:10.900",
          "leg_time_i": "2018-07-07 03:33:44.900"
         },
         {
          "Bib": 776,
          "TeamName": "No \"Olds\" Barred",
          "leg": "TA5",
          "leg_time_c": "2018-07-07 14:15:20.100",
          "leg_time_i": "2018-07-07 02:16:53.100"
         },
         {
          "Bib": 879,
          "TeamName": "TBD",
          "leg": "TA5",
          "leg_time_c": "2018-07-07 15:57:55.400",
          "leg_time_i": "2018-07-07 03:37:46.400"
         },
         {
          "Bib": 732,
          "TeamName": "Team Honey Badgers",
          "leg": "TA5",
          "leg_time_c": "2018-07-07 16:00:35.200",
          "leg_time_i": "2018-07-07 03:16:56.400"
         },
         {
          "Bib": 753,
          "TeamName": "#OMC2",
          "leg": "TA5",
          "leg_time_c": "2018-07-07 16:11:58.000",
          "leg_time_i": "2018-07-07 03:03:34.800"
         },
         {
          "Bib": 836,
          "TeamName": "Prairie dogs",
          "leg": "TA5",
          "leg_time_c": "2018-07-07 16:03:55.200",
          "leg_time_i": "2018-07-07 03:26:54.600"
         },
         {
          "Bib": 859,
          "TeamName": "The Twinkies",
          "leg": "TA5",
          "leg_time_c": "2018-07-07 15:55:31.400",
          "leg_time_i": "2018-07-07 03:25:39.200"
         },
         {
          "Bib": 855,
          "TeamName": "I though you said let's go for a rum!",
          "leg": "TA5",
          "leg_time_c": "2018-07-07 15:08:09.500",
          "leg_time_i": "2018-07-07 02:55:11.600"
         },
         {
          "Bib": 810,
          "TeamName": "Squirtin' Pepperoni",
          "leg": "TA5",
          "leg_time_c": "2018-07-07 14:48:58.200",
          "leg_time_i": "2018-07-07 03:24:59.000"
         },
         {
          "Bib": 701,
          "TeamName": "Sex Panthers",
          "leg": "TA5",
          "leg_time_c": "2018-07-07 15:45:40.000",
          "leg_time_i": "2018-07-07 03:26:14.800"
         },
         {
          "Bib": 893,
          "TeamName": "Sunday Mall Walkers",
          "leg": "TA5",
          "leg_time_c": "2018-07-07 15:44:46.800",
          "leg_time_i": "2018-07-07 03:20:15.300"
         },
         {
          "Bib": 723,
          "TeamName": "Leg Day",
          "leg": "TA5",
          "leg_time_c": "2018-07-07 15:02:50.200",
          "leg_time_i": "2018-07-07 03:38:59.500"
         },
         {
          "Bib": 770,
          "TeamName": "Jelly Bellies",
          "leg": "TA5",
          "leg_time_c": "2018-07-07 14:46:45.400",
          "leg_time_i": "2018-07-07 03:19:35.500"
         },
         {
          "Bib": 856,
          "TeamName": "Forged by Fire",
          "leg": "TA5",
          "leg_time_c": "2018-07-07 16:12:01.600",
          "leg_time_i": "2018-07-07 03:31:55.100"
         },
         {
          "Bib": 764,
          "TeamName": "Sin and Bear It",
          "leg": "TA5",
          "leg_time_c": "2018-07-07 17:10:35.400",
          "leg_time_i": "2018-07-07 03:31:31.700"
         },
         {
          "Bib": 857,
          "TeamName": "Trail Snails",
          "leg": "TA5",
          "leg_time_c": "2018-07-07 16:10:52.500",
          "leg_time_i": "2018-07-07 03:19:06.000"
         },
         {
          "Bib": 826,
          "TeamName": "Burpin' Pepperoni",
          "leg": "TA5",
          "leg_time_c": "2018-07-07 16:00:31.500",
          "leg_time_i": "2018-07-07 03:21:39.900"
         },
         {
          "Bib": 849,
          "TeamName": "6 Inches of Subway",
          "leg": "TA5",
          "leg_time_c": "2018-07-07 15:45:33.100",
          "leg_time_i": "2018-07-07 03:26:57.100"
         },
         {
          "Bib": 786,
          "TeamName": "Trail Droppings",
          "leg": "TA5",
          "leg_time_c": "2018-07-07 16:26:14.500",
          "leg_time_i": "2018-07-07 03:31:32.400"
         },
         {
          "Bib": 733,
          "TeamName": "Mother's Little Helpers",
          "leg": "TA5",
          "leg_time_c": "2018-07-07 16:24:40.500",
          "leg_time_i": "2018-07-07 03:37:13.200"
         },
         {
          "Bib": 717,
          "TeamName": "Rapid Thigh Movement",
          "leg": "TA5",
          "leg_time_c": "2018-07-07 16:31:47.100",
          "leg_time_i": "2018-07-07 03:08:57.900"
         },
         {
          "Bib": 766,
          "TeamName": "Runsofarians",
          "leg": "TA5",
          "leg_time_c": "2018-07-07 15:47:22.400",
          "leg_time_i": "2018-07-07 03:04:42.600"
         },
         {
          "Bib": 761,
          "TeamName": "twisted blisters",
          "leg": "TA5",
          "leg_time_c": "2018-07-07 15:19:55.900",
          "leg_time_i": "2018-07-07 03:22:47.500"
         },
         {
          "Bib": 715,
          "TeamName": "Wandering Souls",
          "leg": "TA5",
          "leg_time_c": "2018-07-07 17:16:57.900",
          "leg_time_i": "2018-07-07 04:13:45.500"
         },
         {
          "Bib": 833,
          "TeamName": "Rough Runners",
          "leg": "TA5",
          "leg_time_c": "2018-07-07 16:27:37.900",
          "leg_time_i": "2018-07-07 03:06:18.900"
         },
         {
          "Bib": 743,
          "TeamName": "All Mixed Up",
          "leg": "TA5",
          "leg_time_c": "2018-07-07 16:50:41.000",
          "leg_time_i": "2018-07-07 03:24:01.600"
         },
         {
          "Bib": 771,
          "TeamName": "Lets get Rocked!",
          "leg": "TA5",
          "leg_time_c": "2018-07-07 15:30:40.000",
          "leg_time_i": "2018-07-07 03:31:04.300"
         },
         {
          "Bib": 822,
          "TeamName": "RAF",
          "leg": "TA5",
          "leg_time_c": "2018-07-07 15:26:45.200",
          "leg_time_i": "2018-07-07 02:44:52.300"
         },
         {
          "Bib": 899,
          "TeamName": "The Young & The Breathless",
          "leg": "TA5",
          "leg_time_c": "2018-07-07 16:19:05.100",
          "leg_time_i": "2018-07-07 03:02:21.700"
         },
         {
          "Bib": 862,
          "TeamName": "Your Pace or Mine?",
          "leg": "TA5",
          "leg_time_c": "2018-07-07 15:57:56.000",
          "leg_time_i": "2018-07-07 03:28:37.100"
         },
         {
          "Bib": 780,
          "TeamName": "Running on the Edge",
          "leg": "TA5",
          "leg_time_c": "2018-07-07 15:15:04.000",
          "leg_time_i": "2018-07-07 03:38:56.200"
         },
         {
          "Bib": 876,
          "TeamName": "Rhabd'oh!",
          "leg": "TA5",
          "leg_time_c": "2018-07-07 16:17:57.700",
          "leg_time_i": "2018-07-07 03:48:07.900"
         },
         {
          "Bib": 878,
          "TeamName": "A Mixed Bag",
          "leg": "TA5",
          "leg_time_c": "2018-07-07 17:37:04.100",
          "leg_time_i": "2018-07-07 03:29:16.300"
         },
         {
          "Bib": 781,
          "TeamName": "Ponoka Path Pounders",
          "leg": "TA5",
          "leg_time_c": "2018-07-07 16:18:39.800",
          "leg_time_i": "2018-07-07 04:15:50.500"
         },
         {
          "Bib": 828,
          "TeamName": "Team Schwetty Balls",
          "leg": "TA5",
          "leg_time_c": "2018-07-07 15:44:43.300",
          "leg_time_i": "2018-07-07 03:56:08.100"
         },
         {
          "Bib": 830,
          "TeamName": "Scrambled Legs",
          "leg": "TA5",
          "leg_time_c": "2018-07-07 15:37:53.300",
          "leg_time_i": "2018-07-07 03:07:28.200"
         },
         {
          "Bib": 760,
          "TeamName": "Bear Bait",
          "leg": "TA5",
          "leg_time_c": "2018-07-07 17:07:16.000",
          "leg_time_i": "2018-07-07 04:24:34.300"
         },
         {
          "Bib": 765,
          "TeamName": "Something Wicked This Way Runs",
          "leg": "TA5",
          "leg_time_c": "2018-07-07 16:22:49.200",
          "leg_time_i": "2018-07-07 03:46:00.900"
         },
         {
          "Bib": 851,
          "TeamName": "ThunderCats",
          "leg": "TA5",
          "leg_time_c": "2018-07-07 16:13:22.700",
          "leg_time_i": "2018-07-07 03:14:43.900"
         },
         {
          "Bib": 756,
          "TeamName": "Dust Bunnies",
          "leg": "TA5",
          "leg_time_c": "2018-07-07 16:42:31.600",
          "leg_time_i": "2018-07-07 03:58:53.800"
         },
         {
          "Bib": 767,
          "TeamName": "It's Your Breath in Our Lungs",
          "leg": "TA5",
          "leg_time_c": "2018-07-07 16:20:54.100",
          "leg_time_i": "2018-07-07 03:14:07.900"
         },
         {
          "Bib": 718,
          "TeamName": "Hot Flashes",
          "leg": "TA5",
          "leg_time_c": "2018-07-07 15:27:04.000",
          "leg_time_i": "2018-07-07 03:15:04.100"
         },
         {
          "Bib": 804,
          "TeamName": "6 Goat Sheeps And A Kid",
          "leg": "TA5",
          "leg_time_c": "2018-07-07 15:43:30.100",
          "leg_time_i": "2018-07-07 03:52:20.600"
         },
         {
          "Bib": 783,
          "TeamName": "Fine Winers",
          "leg": "TA5",
          "leg_time_c": "2018-07-07 16:28:33.400",
          "leg_time_i": "2018-07-07 03:11:33.400"
         },
         {
          "Bib": 866,
          "TeamName": "A-Town Animals",
          "leg": "TA5",
          "leg_time_c": "2018-07-07 16:21:09.900",
          "leg_time_i": "2018-07-07 03:53:28.400"
         },
         {
          "Bib": 913,
          "TeamName": "Hedging on the Kiwi",
          "leg": "TA5",
          "leg_time_c": "2018-07-07 17:13:03.300",
          "leg_time_i": "2018-07-07 03:12:01.200"
         },
         {
          "Bib": 883,
          "TeamName": "I'd HIIT That",
          "leg": "TA5",
          "leg_time_c": "2018-07-07 16:16:56.300",
          "leg_time_i": "2018-07-07 04:24:44.000"
         },
         {
          "Bib": 837,
          "TeamName": "Cougar-BearSnake",
          "leg": "TA5",
          "leg_time_c": "2018-07-07 17:30:32.900",
          "leg_time_i": "2018-07-07 03:44:36.700"
         },
         {
          "Bib": 713,
          "TeamName": "Dangerous Divas",
          "leg": "TA5",
          "leg_time_c": "2018-07-07 16:39:08.200",
          "leg_time_i": "2018-07-07 03:30:00.200"
         },
         {
          "Bib": 726,
          "TeamName": "No One Told Me There'd Be Chafing!",
          "leg": "TA5",
          "leg_time_c": "2018-07-07 15:40:18.100",
          "leg_time_i": "2018-07-07 03:13:06.500"
         },
         {
          "Bib": 747,
          "TeamName": "Hill Humpers",
          "leg": "TA5",
          "leg_time_c": "2018-07-07 16:18:39.700",
          "leg_time_i": "2018-07-07 03:55:07.300"
         },
         {
          "Bib": 871,
          "TeamName": "Recovering Accountaholics",
          "leg": "TA5",
          "leg_time_c": "2018-07-07 16:42:58.500",
          "leg_time_i": "2018-07-07 04:18:29.500"
         },
         {
          "Bib": 854,
          "TeamName": "WarriorPacks",
          "leg": "TA5",
          "leg_time_c": "2018-07-07 16:38:48.100",
          "leg_time_i": "2018-07-07 03:26:42.100"
         },
         {
          "Bib": 730,
          "TeamName": "SWATT",
          "leg": "TA5",
          "leg_time_c": "2018-07-07 16:26:14.500",
          "leg_time_i": "2018-07-07 03:48:24.500"
         },
         {
          "Bib": 738,
          "TeamName": "#OMC1",
          "leg": "TA5",
          "leg_time_c": "2018-07-07 17:21:29.900",
          "leg_time_i": "2018-07-07 03:50:09.500"
         },
         {
          "Bib": 895,
          "TeamName": "Prairie Dogs",
          "leg": "TA5",
          "leg_time_c": "2018-07-07 16:52:19.000",
          "leg_time_i": "2018-07-07 02:53:36.700"
         },
         {
          "Bib": 782,
          "TeamName": "The Brandy Bunch",
          "leg": "TA5",
          "leg_time_c": "2018-07-07 15:33:17.300",
          "leg_time_i": "2018-07-07 02:41:24.200"
         },
         {
          "Bib": 736,
          "TeamName": "Run, Sweat, and Beers",
          "leg": "TA5",
          "leg_time_c": "2018-07-07 16:42:33.000",
          "leg_time_i": "2018-07-07 03:25:34.100"
         },
         {
          "Bib": 903,
          "TeamName": "Clear Lake Crusaders",
          "leg": "TA5",
          "leg_time_c": "2018-07-07 16:24:38.900",
          "leg_time_i": "2018-07-07 03:25:53.000"
         },
         {
          "Bib": 906,
          "TeamName": "Dauntless",
          "leg": "TA5",
          "leg_time_c": "2018-07-07 16:27:24.600",
          "leg_time_i": "2018-07-07 03:13:25.400"
         },
         {
          "Bib": 785,
          "TeamName": "United Cycle Team Lost and Confused",
          "leg": "TA5",
          "leg_time_c": "2018-07-07 16:26:48.700",
          "leg_time_i": "2018-07-07 02:57:10.600"
         },
         {
          "Bib": 882,
          "TeamName": "What The Hill Are We Doing??",
          "leg": "TA5",
          "leg_time_c": "2018-07-07 17:55:27.900",
          "leg_time_i": "2018-07-07 04:45:51.200"
         },
         {
          "Bib": 827,
          "TeamName": "It was all feathers",
          "leg": "TA5",
          "leg_time_c": "2018-07-07 17:45:57.300",
          "leg_time_i": "2018-07-07 03:31:46.400"
         },
         {
          "Bib": 807,
          "TeamName": "Messy Seven",
          "leg": "TA5",
          "leg_time_c": "2018-07-07 14:56:21.100",
          "leg_time_i": "2018-07-07 02:51:11.400"
         },
         {
          "Bib": 741,
          "TeamName": "Blackbird",
          "leg": "TA5",
          "leg_time_c": "2018-07-07 17:52:27.200",
          "leg_time_i": "2018-07-07 04:16:32.700"
         },
         {
          "Bib": 848,
          "TeamName": "Run.Rehab.Run.Repeat.",
          "leg": "TA5",
          "leg_time_c": "2018-07-07 17:17:57.400",
          "leg_time_i": "2018-07-07 03:52:43.200"
         },
         {
          "Bib": 805,
          "TeamName": "Jogander",
          "leg": "TA5",
          "leg_time_c": "2018-07-07 16:31:03.000",
          "leg_time_i": "2018-07-07 03:26:52.900"
         },
         {
          "Bib": 748,
          "TeamName": "Sister Wives",
          "leg": "TA5",
          "leg_time_c": "2018-07-07 17:10:34.800",
          "leg_time_i": "2018-07-07 04:25:00.000"
         },
         {
          "Bib": 794,
          "TeamName": "RIOT - Running is our Therapy",
          "leg": "TA5",
          "leg_time_c": "2018-07-07 17:10:27.000",
          "leg_time_i": "2018-07-07 03:46:44.400"
         },
         {
          "Bib": 739,
          "TeamName": "Toe Nails Are For Sissies.",
          "leg": "TA5",
          "leg_time_c": "2018-07-07 16:43:30.300",
          "leg_time_i": "2018-07-07 03:55:40.800"
         },
         {
          "Bib": 705,
          "TeamName": "JBF Revival",
          "leg": "TA5",
          "leg_time_c": "2018-07-07 17:18:12.600",
          "leg_time_i": "2018-07-07 03:12:51.400"
         },
         {
          "Bib": 793,
          "TeamName": "Ignorance is Blisters",
          "leg": "TA5",
          "leg_time_c": "2018-07-07 18:24:46.900",
          "leg_time_i": "2018-07-07 03:06:53.200"
         },
         {
          "Bib": 852,
          "TeamName": "Minimum Champions",
          "leg": "TA5",
          "leg_time_c": "2018-07-07 16:38:40.200",
          "leg_time_i": "2018-07-07 02:59:04.500"
         },
         {
          "Bib": 819,
          "TeamName": "Team Side Group",
          "leg": "TA5",
          "leg_time_c": "2018-07-07 17:45:19.400",
          "leg_time_i": "2018-07-07 03:26:33.300"
         },
         {
          "Bib": 914,
          "TeamName": "Tears then Beers",
          "leg": "TA5",
          "leg_time_c": "2018-07-07 15:59:29.500",
          "leg_time_i": "2018-07-07 02:38:07.500"
         },
         {
          "Bib": 720,
          "TeamName": "#rundefined",
          "leg": "TA5",
          "leg_time_c": "2018-07-07 16:54:29.600",
          "leg_time_i": "2018-07-07 03:14:29.400"
         },
         {
          "Bib": 870,
          "TeamName": "The Virgins",
          "leg": "TA5",
          "leg_time_c": "2018-07-07 17:55:27.700",
          "leg_time_i": "2018-07-07 04:25:34.500"
         },
         {
          "Bib": 752,
          "TeamName": "All Downhill From Here!",
          "leg": "TA5",
          "leg_time_c": "2018-07-07 18:22:38.600",
          "leg_time_i": "2018-07-07 04:35:20.000"
         },
         {
          "Bib": 802,
          "TeamName": "#runswithwill",
          "leg": "TA5",
          "leg_time_c": "2018-07-07 17:56:55.300",
          "leg_time_i": "2018-07-07 03:24:36.800"
         },
         {
          "Bib": 811,
          "TeamName": "RavenMad",
          "leg": "TA5",
          "leg_time_c": "2018-07-07 17:34:46.700",
          "leg_time_i": "2018-07-07 03:42:09.400"
         },
         {
          "Bib": 800,
          "TeamName": "Run Forest Run!",
          "leg": "TA5",
          "leg_time_c": "2018-07-07 17:03:42.100",
          "leg_time_i": "2018-07-07 02:55:44.900"
         },
         {
          "Bib": 789,
          "TeamName": "Bush Pounders",
          "leg": "TA5",
          "leg_time_c": "2018-07-07 16:28:41.200",
          "leg_time_i": "2018-07-07 03:00:47.900"
         },
         {
          "Bib": 772,
          "TeamName": "Don't suck",
          "leg": "TA5",
          "leg_time_c": "2018-07-07 17:48:21.700",
          "leg_time_i": "2018-07-07 03:10:12.400"
         },
         {
          "Bib": 887,
          "TeamName": "Team Pain",
          "leg": "TA5",
          "leg_time_c": "2018-07-07 17:45:54.400",
          "leg_time_i": "2018-07-07 04:15:39.500"
         },
         {
          "Bib": 881,
          "TeamName": "In Over of Heads",
          "leg": "TA5",
          "leg_time_c": "2018-07-07 17:12:36.600",
          "leg_time_i": "2018-07-07 03:18:24.300"
         },
         {
          "Bib": 813,
          "TeamName": "Team Yellow",
          "leg": "TA5",
          "leg_time_c": "2018-07-07 18:20:13.200",
          "leg_time_i": "2018-07-07 03:36:39.500"
         },
         {
          "Bib": 768,
          "TeamName": "Set Fire to the Wicked Pain",
          "leg": "TA5",
          "leg_time_c": "2018-07-07 18:14:43.900",
          "leg_time_i": "2018-07-07 04:15:33.700"
         },
         {
          "Bib": 801,
          "TeamName": "SWAT - So What About Training",
          "leg": "TA5",
          "leg_time_c": "2018-07-07 18:58:27.400",
          "leg_time_i": "2018-07-07 04:46:34.800"
         },
         {
          "Bib": 792,
          "TeamName": "A Murder of Runners",
          "leg": "TA5",
          "leg_time_c": "2018-07-07 18:51:14.500",
          "leg_time_i": "2018-07-07 04:01:32.300"
         },
         {
          "Bib": 875,
          "TeamName": "Team Wu",
          "leg": "TA5",
          "leg_time_c": "2018-07-07 18:36:36.900",
          "leg_time_i": "2018-07-07 04:35:06.600"
         },
         {
          "Bib": 841,
          "TeamName": "Forced, bribed, or willing?",
          "leg": "TA5",
          "leg_time_c": "2018-07-07 18:24:56.900",
          "leg_time_i": "2018-07-07 04:00:28.700"
         },
         {
          "Bib": 762,
          "TeamName": "Are we there yet?",
          "leg": "TA5",
          "leg_time_c": "2018-07-07 17:30:01.700",
          "leg_time_i": "2018-07-07 04:04:18.600"
         },
         {
          "Bib": 886,
          "TeamName": "Peanut Butter Jelly Legs",
          "leg": "TA5",
          "leg_time_c": "2018-07-07 16:57:46.400",
          "leg_time_i": "2018-07-07 04:17:27.900"
         },
         {
          "Bib": 838,
          "TeamName": "Bear-ly Made It",
          "leg": "TA5",
          "leg_time_c": "2018-07-07 19:17:30.000",
          "leg_time_i": "2018-07-07 05:25:18.800"
         },
         {
          "Bib": 817,
          "TeamName": "Summit Slayers",
          "leg": "TA5",
          "leg_time_c": "2018-07-07 18:31:29.000",
          "leg_time_i": "2018-07-07 04:14:36.300"
         },
         {
          "Bib": 916,
          "TeamName": "Sassy Sinister Sexpots",
          "leg": "TA5",
          "leg_time_c": "2018-07-07 19:42:41.100",
          "leg_time_i": "2018-07-07 03:49:55.800"
         },
         {
          "Bib": 712,
          "TeamName": "S Club 7",
          "leg": "TA5",
          "leg_time_c": "2018-07-07 16:36:21.600",
          "leg_time_i": "2018-07-07 03:38:30.900"
         },
         {
          "Bib": 735,
          "TeamName": "Girls Gone Trail",
          "leg": "TA5",
          "leg_time_c": "2018-07-07 18:16:02.100",
          "leg_time_i": "2018-07-07 04:26:53.700"
         },
         {
          "Bib": 896,
          "TeamName": "Triple Terrain Trail Trekkers",
          "leg": "TA5",
          "leg_time_c": "2018-07-07 17:38:51.700",
          "leg_time_i": "2018-07-07 04:29:01.300"
         },
         {
          "Bib": 829,
          "TeamName": "Pace Jam",
          "leg": "TA5",
          "leg_time_c": "2018-07-07 19:32:30.600",
          "leg_time_i": "2018-07-07 04:44:35.400"
         },
         {
          "Bib": 884,
          "TeamName": "Easier said than run!",
          "leg": "TA5",
          "leg_time_c": "2018-07-07 18:14:58.600",
          "leg_time_i": "2018-07-07 04:29:59.700"
         },
         {
          "Bib": 911,
          "TeamName": "7 Ways to Lose A Runner",
          "leg": "TA5",
          "leg_time_c": "2018-07-07 18:00:28.500",
          "leg_time_i": "2018-07-07 03:35:36.800"
         },
         {
          "Bib": 749,
          "TeamName": "Lactic Acid Flashback",
          "leg": "TA5",
          "leg_time_c": "2018-07-07 18:57:14.600",
          "leg_time_i": "2018-07-07 05:18:35.300"
         },
         {
          "Bib": 702,
          "TeamName": "GFP",
          "leg": "TA5",
          "leg_time_c": "2018-07-07 18:45:23.000",
          "leg_time_i": "2018-07-07 04:44:21.900"
         },
         {
          "Bib": 885,
          "TeamName": "Cobra Kai",
          "leg": "TA5",
          "leg_time_c": "2018-07-07 18:07:53.600",
          "leg_time_i": "2018-07-07 04:19:52.700"
         },
         {
          "Bib": 721,
          "TeamName": "7 Ways to Lose a Runner",
          "leg": "TA5",
          "leg_time_c": "2018-07-07 19:07:59.000",
          "leg_time_i": "2018-07-07 04:06:25.100"
         },
         {
          "Bib": 759,
          "TeamName": "Cougar Bait",
          "leg": "TA5",
          "leg_time_c": "2018-07-07 17:07:16.200",
          "leg_time_i": "2018-07-07 04:46:42.100"
         },
         {
          "Bib": 773,
          "TeamName": "Estrogen Rush",
          "leg": "TA5",
          "leg_time_c": "2018-07-07 17:58:21.800",
          "leg_time_i": "2018-07-07 03:36:16.500"
         },
         {
          "Bib": 778,
          "TeamName": "City Fit Shop Rocks",
          "leg": "TA5",
          "leg_time_c": "2018-07-07 18:59:01.000",
          "leg_time_i": "2018-07-07 04:39:53.000"
         },
         {
          "Bib": 912,
          "TeamName": "Evil Murray and his Badass Bitches",
          "leg": "TA5",
          "leg_time_c": "2018-07-07 19:58:57.900",
          "leg_time_i": "2018-07-07 04:42:33.800"
         },
         {
          "Bib": 708,
          "TeamName": "Strongbow and Deep Fried Pickles",
          "leg": "TA5",
          "leg_time_c": "2018-07-07 17:10:47.900",
          "leg_time_i": "2018-07-07 04:19:29.200"
         },
         {
          "Bib": 706,
          "TeamName": "Just Don't Die FFS",
          "leg": "TA5",
          "leg_time_c": "2018-07-07 18:15:22.000",
          "leg_time_i": "2018-07-07 03:24:59.700"
         },
         {
          "Bib": 877,
          "TeamName": "THe Free Agents",
          "leg": "TA5",
          "leg_time_c": "2018-07-07 17:52:26.500",
          "leg_time_i": "2018-07-07 04:00:01.600"
         },
         {
          "Bib": 719,
          "TeamName": "Faster than Molasses",
          "leg": "TA5",
          "leg_time_c": "2018-07-07 18:32:27.200",
          "leg_time_i": "2018-07-07 04:47:03.500"
         },
         {
          "Bib": 863,
          "TeamName": "SPEED UP RACING",
          "leg": "TA5",
          "leg_time_c": "2018-07-07 17:55:29.600",
          "leg_time_i": "2018-07-07 03:59:28.500"
         },
         {
          "Bib": 725,
          "TeamName": "6 Sinners and a Saint",
          "leg": "TA5",
          "leg_time_c": "2018-07-07 18:33:04.500",
          "leg_time_i": "2018-07-07 03:53:18.200"
         },
         {
          "Bib": 868,
          "TeamName": "Thunder Cats",
          "leg": "TA5",
          "leg_time_c": "2018-07-07 18:40:33.900",
          "leg_time_i": "2018-07-07 03:49:57.600"
         },
         {
          "Bib": 769,
          "TeamName": "Midlife Runners",
          "leg": "TA5",
          "leg_time_c": "2018-07-07 19:37:45.000",
          "leg_time_i": "2018-07-07 04:45:14.200"
         },
         {
          "Bib": 874,
          "TeamName": "City Fit Shop Scissors",
          "leg": "TA5",
          "leg_time_c": "2018-07-07 18:59:01.700",
          "leg_time_i": "2018-07-07 04:35:24.300"
         },
         {
          "Bib": 861,
          "TeamName": "Fuster Clucks",
          "leg": "TA5",
          "leg_time_c": "2018-07-07 19:32:40.000",
          "leg_time_i": "2018-07-07 04:52:20.300"
         },
         {
          "Bib": 909,
          "TeamName": "Male Triple Terrain Trekkers",
          "leg": "TA5",
          "leg_time_c": "2018-07-07 18:14:58.700",
          "leg_time_i": "2018-07-07 04:55:13.300"
         },
         {
          "Bib": 704,
          "TeamName": "Buck Up",
          "leg": "TA5",
          "leg_time_c": "2018-07-07 18:10:49.600",
          "leg_time_i": "2018-07-07 04:25:28.600"
         },
         {
          "Bib": 832,
          "TeamName": "A View to a Hill",
          "leg": "TA5",
          "leg_time_c": "2018-07-07 18:14:09.600",
          "leg_time_i": "2018-07-07 04:11:49.900"
         },
         {
          "Bib": 799,
          "TeamName": "Running Back To Saskatoon",
          "leg": "TA5",
          "leg_time_c": "2018-07-07 17:48:23.300",
          "leg_time_i": "2018-07-07 03:46:48.600"
         },
         {
          "Bib": 731,
          "TeamName": "Never Again",
          "leg": "TA5",
          "leg_time_c": "2018-07-07 19:23:14.500",
          "leg_time_i": "2018-07-07 03:43:31.300"
         },
         {
          "Bib": 901,
          "TeamName": "12 feet 1 footz",
          "leg": "TA5",
          "leg_time_c": "2018-07-07 18:16:00.400",
          "leg_time_i": "2018-07-07 04:38:30.200"
         },
         {
          "Bib": 890,
          "TeamName": "More legs than a bucket of chicken",
          "leg": "TA5",
          "leg_time_c": "2018-07-07 17:50:42.600",
          "leg_time_i": "2018-07-07 04:14:31.200"
         },
         {
          "Bib": 774,
          "TeamName": "City Fit SHop PAPER",
          "leg": "TA5",
          "leg_time_c": "2018-07-07 18:59:01.100",
          "leg_time_i": "2018-07-07 04:39:52.500"
         },
         {
          "Bib": 703,
          "TeamName": "Tag, you're it",
          "leg": "TA5",
          "leg_time_c": "2018-07-07 18:07:52.200",
          "leg_time_i": "2018-07-07 03:53:42.500"
         },
         {
          "Bib": 742,
          "TeamName": "Ultra Relay-tionship Goals",
          "leg": "TA5",
          "leg_time_c": "2018-07-07 19:10:38.800",
          "leg_time_i": "2018-07-07 04:49:26.200"
         },
         {
          "Bib": 758,
          "TeamName": "Long distance Relay-tionships",
          "leg": "TA5",
          "leg_time_c": "2018-07-07 19:10:38.300",
          "leg_time_i": "2018-07-07 04:49:25.700"
         },
         {
          "Bib": 729,
          "TeamName": "Ruck Funning",
          "leg": "TA5",
          "leg_time_c": "2018-07-07 20:33:38.100",
          "leg_time_i": "2018-07-07 04:15:34.100"
         },
         {
          "Bib": 797,
          "TeamName": "The Young and the Breathless",
          "leg": "TA5",
          "leg_time_c": "2018-07-07 19:33:34.200",
          "leg_time_i": "2018-07-07 04:26:18.700"
         },
         {
          "Bib": 795,
          "TeamName": "Weary and Draggin",
          "leg": "TA5",
          "leg_time_c": "2018-07-07 21:00:00.000",
          "leg_time_i": "2018-07-07 04:56:30.000"
         },
         {
          "Bib": 915,
          "TeamName": "Running People",
          "leg": "TA5",
          "leg_time_c": "2018-07-07 19:04:36.500",
          "leg_time_i": "2018-07-07 04:21:23.700"
         },
         {
          "Bib": 835,
          "TeamName": "But did you die?",
          "leg": "TA5",
          "leg_time_c": "2018-07-07 20:07:40.000",
          "leg_time_i": "2018-07-07 04:14:53.300"
         },
         {
          "Bib": 716,
          "TeamName": "Battle Star Lacitic A",
          "leg": "TA5",
          "leg_time_c": "2018-07-07 20:12:11.900",
          "leg_time_i": "2018-07-07 03:56:52.500"
         },
         {
          "Bib": 790,
          "TeamName": "The Deadly Medley",
          "leg": "TA5",
          "leg_time_c": "2018-07-07 21:18:39.000",
          "leg_time_i": "2018-07-07 05:38:48.500"
         },
         {
          "Bib": 825,
          "TeamName": "Dirty Threesome In The Woods",
          "leg": "TA5",
          "leg_time_c": "2018-07-07 19:17:36.500",
          "leg_time_i": "2018-07-07 04:17:35.400"
         },
         {
          "Bib": 814,
          "TeamName": "Dark Horse",
          "leg": "TA5",
          "leg_time_c": "2018-07-07 19:28:18.300",
          "leg_time_i": "2018-07-07 04:36:51.800"
         },
         {
          "Bib": 844,
          "TeamName": "The Bear Necessities",
          "leg": "TA5",
          "leg_time_c": "2018-07-07 19:33:33.400",
          "leg_time_i": "2018-07-07 04:22:25.600"
         },
         {
          "Bib": 714,
          "TeamName": "The Kings and Queens of Sin",
          "leg": "TA5",
          "leg_time_c": "2018-07-07 21:43:18.400",
          "leg_time_i": "2018-07-07 04:40:19.200"
         },
         {
          "Bib": 898,
          "TeamName": "Dead Sexy",
          "leg": "TA5",
          "leg_time_c": "2018-07-07 20:33:40.900",
          "leg_time_i": "2018-07-07 04:39:42.700"
         },
         {
          "Bib": 892,
          "TeamName": "Swamp Donkeys",
          "leg": "TA5",
          "leg_time_c": "2018-07-07 19:04:23.000",
          "leg_time_i": "2018-07-07 03:55:53.300"
         },
         {
          "Bib": 888,
          "TeamName": "Running Because We Can",
          "leg": "TA5",
          "leg_time_c": "2018-07-07 16:54:56.200",
          "leg_time_i": "2018-07-07 03:27:36.300"
         },
         {
          "Bib": 754,
          "TeamName": "#OMC3",
          "leg": "TA5",
          "leg_time_c": "2018-07-07 18:52:14.100",
          "leg_time_i": "2018-07-07 04:03:59.400"
         },
         {
          "Bib": 818,
          "TeamName": "Hangry Beers",
          "leg": "TA5",
          "leg_time_c": "2018-07-07 21:25:11.200",
          "leg_time_i": "2018-07-07 04:30:11.000"
         },
         {
          "Bib": 791,
          "TeamName": "Saskatchewan Roughrunners",
          "leg": "TA5",
          "leg_time_c": "2018-07-07 16:42:32.200",
          "leg_time_i": "2018-07-07 03:50:29.900"
         },
         {
          "Bib": 834,
          "TeamName": "TNT - Dynamite!",
          "leg": "TA5",
          "leg_time_c": "2018-07-07 22:35:58.800",
          "leg_time_i": "2018-07-07 06:21:00.700"
         },
         {
          "Bib": 751,
          "TeamName": "Couples Retreat",
          "leg": "TA5",
          "leg_time_c": "2018-07-07 16:35:41.600",
          "leg_time_i": "2018-07-07 04:10:40.900"
         },
         {
          "Bib": 910,
          "TeamName": "Pnut Brittle",
          "leg": "TA5",
          "leg_time_c": "2018-07-07 16:26:05.300",
          "leg_time_i": "2018-07-07 04:12:26.600"
         },
         {
          "Bib": 710,
          "TeamName": "Original Joes",
          "leg": "TA6",
          "leg_time_c": "2018-07-07 13:01:19.000",
          "leg_time_i": "2018-07-07 02:46:52.200"
         },
         {
          "Bib": 803,
          "TeamName": "Attitude Over Altitude",
          "leg": "TA6",
          "leg_time_c": "2018-07-07 13:27:34.900",
          "leg_time_i": "2018-07-07 03:02:07.100"
         },
         {
          "Bib": 796,
          "TeamName": "runlAB",
          "leg": "TA6",
          "leg_time_c": "2018-07-07 13:59:24.200",
          "leg_time_i": "2018-07-07 03:04:27.300"
         },
         {
          "Bib": 905,
          "TeamName": "The Tragically Tight Hips",
          "leg": "TA6",
          "leg_time_c": "2018-07-07 14:56:30.900",
          "leg_time_i": "2018-07-07 03:17:48.400"
         },
         {
          "Bib": 711,
          "TeamName": "No Limits",
          "leg": "TA6",
          "leg_time_c": "2018-07-07 15:13:04.000",
          "leg_time_i": "2018-07-07 02:56:11.300"
         },
         {
          "Bib": 787,
          "TeamName": "TIGHT HIPS AND SORE NIPS",
          "leg": "TA6",
          "leg_time_c": "2018-07-07 15:32:33.500",
          "leg_time_i": "2018-07-07 03:13:36.200"
         },
         {
          "Bib": 894,
          "TeamName": "The Maddogs",
          "leg": "TA6",
          "leg_time_c": "2018-07-07 15:37:40.000",
          "leg_time_i": "2018-07-07 03:32:44.400"
         },
         {
          "Bib": 812,
          "TeamName": "Vintage Vixens",
          "leg": "TA6",
          "leg_time_c": "2018-07-07 15:32:13.200",
          "leg_time_i": "2018-07-07 03:17:15.500"
         },
         {
          "Bib": 865,
          "TeamName": "Montagne Papis",
          "leg": "TA6",
          "leg_time_c": "2018-07-07 15:46:44.700",
          "leg_time_i": "2018-07-07 03:13:33.000"
         },
         {
          "Bib": 908,
          "TeamName": "Fast Trax YEG Trail Team",
          "leg": "TA6",
          "leg_time_c": "2018-07-07 16:11:24.800",
          "leg_time_i": "2018-07-07 03:19:09.100"
         },
         {
          "Bib": 820,
          "TeamName": "Lactic Asses",
          "leg": "TA6",
          "leg_time_c": "2018-07-07 16:37:32.100",
          "leg_time_i": "2018-07-07 03:26:17.500"
         },
         {
          "Bib": 784,
          "TeamName": "Mantrackers",
          "leg": "TA6",
          "leg_time_c": "2018-07-07 16:27:26.000",
          "leg_time_i": "2018-07-07 02:38:38.500"
         },
         {
          "Bib": 806,
          "TeamName": "Robbie's Rejects",
          "leg": "TA6",
          "leg_time_c": "2018-07-07 16:30:49.000",
          "leg_time_i": "2018-07-07 03:53:43.400"
         },
         {
          "Bib": 809,
          "TeamName": "Child's Play",
          "leg": "TA6",
          "leg_time_c": "2018-07-07 16:51:05.400",
          "leg_time_i": "2018-07-07 03:53:02.100"
         },
         {
          "Bib": 750,
          "TeamName": "Chafing Tail",
          "leg": "TA6",
          "leg_time_c": "2018-07-07 17:13:04.800",
          "leg_time_i": "2018-07-07 03:02:41.300"
         },
         {
          "Bib": 907,
          "TeamName": "Sole Crushers",
          "leg": "TA6",
          "leg_time_c": "2018-07-07 17:23:37.400",
          "leg_time_i": "2018-07-07 03:36:00.300"
         },
         {
          "Bib": 707,
          "TeamName": "STARS Prez-otaur",
          "leg": "TA6",
          "leg_time_c": "2018-07-07 17:25:26.600",
          "leg_time_i": "2018-07-07 04:05:28.600"
         },
         {
          "Bib": 904,
          "TeamName": "Chicks and Sticks",
          "leg": "TA6",
          "leg_time_c": "2018-07-07 17:26:18.100",
          "leg_time_i": "2018-07-07 03:48:30.900"
         },
         {
          "Bib": 869,
          "TeamName": "Steal My Sin-Shine",
          "leg": "TA6",
          "leg_time_c": "2018-07-07 17:42:15.800",
          "leg_time_i": "2018-07-07 04:22:33.900"
         },
         {
          "Bib": 843,
          "TeamName": "Road Kill",
          "leg": "TA6",
          "leg_time_c": "2018-07-07 17:39:10.400",
          "leg_time_i": "2018-07-07 03:41:50.300"
         },
         {
          "Bib": 900,
          "TeamName": "Lil' Runner Cuties",
          "leg": "TA6",
          "leg_time_c": "2018-07-07 17:40:55.200",
          "leg_time_i": "2018-07-07 04:01:17.800"
         },
         {
          "Bib": 845,
          "TeamName": "Garmin Cochrane",
          "leg": "TA6",
          "leg_time_c": "2018-07-07 18:11:02.200",
          "leg_time_i": "2018-07-07 03:59:28.000"
         },
         {
          "Bib": 858,
          "TeamName": "Worst Pace Scenario",
          "leg": "TA6",
          "leg_time_c": "2018-07-07 18:16:43.600",
          "leg_time_i": "2018-07-07 03:53:00.000"
         },
         {
          "Bib": 815,
          "TeamName": "Rum Runners",
          "leg": "TA6",
          "leg_time_c": "2018-07-07 18:26:27.600",
          "leg_time_i": "2018-07-07 04:05:15.400"
         },
         {
          "Bib": 777,
          "TeamName": "Clash of Clans",
          "leg": "TA6",
          "leg_time_c": "2018-07-07 17:58:11.200",
          "leg_time_i": "2018-07-07 03:35:32.800"
         },
         {
          "Bib": 722,
          "TeamName": "Misters, Sisters, and Blisters",
          "leg": "TA6",
          "leg_time_c": "2018-07-07 18:36:19.100",
          "leg_time_i": "2018-07-07 04:37:37.500"
         },
         {
          "Bib": 846,
          "TeamName": "Penisters",
          "leg": "TA6",
          "leg_time_c": "2018-07-07 18:37:19.000",
          "leg_time_i": "2018-07-07 04:46:31.500"
         },
         {
          "Bib": 740,
          "TeamName": "Trail Nuts",
          "leg": "TA6",
          "leg_time_c": "2018-07-07 18:38:13.800",
          "leg_time_i": "2018-07-07 04:05:44.300"
         },
         {
          "Bib": 831,
          "TeamName": "Trans Mountain Plan B",
          "leg": "TA6",
          "leg_time_c": "2018-07-07 18:36:18.400",
          "leg_time_i": "2018-07-07 04:37:23.500"
         },
         {
          "Bib": 853,
          "TeamName": "Scrambled Legs",
          "leg": "TA6",
          "leg_time_c": "2018-07-07 18:25:33.000",
          "leg_time_i": "2018-07-07 04:23:41.200"
         },
         {
          "Bib": 744,
          "TeamName": "Undertrained and Overconfident",
          "leg": "TA6",
          "leg_time_c": "2018-07-07 18:25:32.900",
          "leg_time_i": "2018-07-07 03:56:08.000"
         },
         {
          "Bib": 763,
          "TeamName": "James Baxter",
          "leg": "TA6",
          "leg_time_c": "2018-07-07 18:51:18.000",
          "leg_time_i": "2018-07-07 04:40:18.500"
         },
         {
          "Bib": 755,
          "TeamName": "Run like the winded",
          "leg": "TA6",
          "leg_time_c": "2018-07-07 18:56:38.800",
          "leg_time_i": "2018-07-07 04:43:22.600"
         },
         {
          "Bib": 746,
          "TeamName": "Marmot Whisperers",
          "leg": "TA6",
          "leg_time_c": "2018-07-07 19:04:19.300",
          "leg_time_i": "2018-07-07 04:29:41.200"
         },
         {
          "Bib": 839,
          "TeamName": "The Cruisettes",
          "leg": "TA6",
          "leg_time_c": "2018-07-07 19:08:04.000",
          "leg_time_i": "2018-07-07 03:49:54.000"
         },
         {
          "Bib": 727,
          "TeamName": "Beavers Are Amazing",
          "leg": "TA6",
          "leg_time_c": "2018-07-07 18:21:35.900",
          "leg_time_i": "2018-07-07 03:36:00.300"
         },
         {
          "Bib": 872,
          "TeamName": "Don't Feel Awful, Eat a Waffle!",
          "leg": "TA6",
          "leg_time_c": "2018-07-07 19:30:56.300",
          "leg_time_i": "2018-07-07 04:03:18.100"
         },
         {
          "Bib": 860,
          "TeamName": "Happy Trails",
          "leg": "TA6",
          "leg_time_c": "2018-07-07 19:30:58.300",
          "leg_time_i": "2018-07-07 04:45:03.800"
         },
         {
          "Bib": 757,
          "TeamName": "Chernobyl",
          "leg": "TA6",
          "leg_time_c": "2018-07-07 19:00:29.200",
          "leg_time_i": "2018-07-07 04:32:59.900"
         },
         {
          "Bib": 734,
          "TeamName": "SCRAMBLED LEGS & HAM",
          "leg": "TA6",
          "leg_time_c": "2018-07-07 19:39:52.800",
          "leg_time_i": "2018-07-07 04:09:19.900"
         },
         {
          "Bib": 808,
          "TeamName": "#whatwerewethinking",
          "leg": "TA6",
          "leg_time_c": "2018-07-07 19:39:52.800",
          "leg_time_i": "2018-07-07 04:08:40.300"
         },
         {
          "Bib": 709,
          "TeamName": "Mixed Nuts",
          "leg": "TA6",
          "leg_time_c": "2018-07-07 19:09:18.600",
          "leg_time_i": "2018-07-07 05:05:00.600"
         },
         {
          "Bib": 891,
          "TeamName": "Jordan and the Vagisters",
          "leg": "TA6",
          "leg_time_c": "2018-07-07 19:20:46.300",
          "leg_time_i": "2018-07-07 04:02:19.200"
         },
         {
          "Bib": 867,
          "TeamName": "The Magnificent Seven",
          "leg": "TA6",
          "leg_time_c": "2018-07-07 19:19:51.200",
          "leg_time_i": "2018-07-07 03:53:06.700"
         },
         {
          "Bib": 788,
          "TeamName": "Blue Bayou",
          "leg": "TA6",
          "leg_time_c": "2018-07-07 19:25:59.800",
          "leg_time_i": "2018-07-07 04:26:14.800"
         },
         {
          "Bib": 745,
          "TeamName": "Fat Bastards",
          "leg": "TA6",
          "leg_time_c": "2018-07-07 19:27:17.600",
          "leg_time_i": "2018-07-07 04:24:33.600"
         },
         {
          "Bib": 850,
          "TeamName": "Chasing Trail",
          "leg": "TA6",
          "leg_time_c": "2018-07-07 19:14:42.700",
          "leg_time_i": "2018-07-07 04:10:03.300"
         },
         {
          "Bib": 724,
          "TeamName": "6 Estees & a Teste",
          "leg": "TA6",
          "leg_time_c": "2018-07-07 19:47:54.500",
          "leg_time_i": "2018-07-07 04:17:49.400"
         },
         {
          "Bib": 737,
          "TeamName": "Crow's Feet",
          "leg": "TA6",
          "leg_time_c": "2018-07-07 19:28:57.400",
          "leg_time_i": "2018-07-07 04:32:27.500"
         },
         {
          "Bib": 847,
          "TeamName": "Chasing Trail Volume 2",
          "leg": "TA6",
          "leg_time_c": "2018-07-07 19:25:43.900",
          "leg_time_i": "2018-07-07 04:27:41.000"
         },
         {
          "Bib": 798,
          "TeamName": "River City Front Runners",
          "leg": "TA6",
          "leg_time_c": "2018-07-07 20:10:02.600",
          "leg_time_i": "2018-07-07 04:47:25.200"
         },
         {
          "Bib": 779,
          "TeamName": "Running on a Dream",
          "leg": "TA6",
          "leg_time_c": "2018-07-07 20:18:05.400",
          "leg_time_i": "2018-07-07 04:22:33.700"
         },
         {
          "Bib": 902,
          "TeamName": "www.SLOW",
          "leg": "TA6",
          "leg_time_c": "2018-07-07 20:15:34.500",
          "leg_time_i": "2018-07-07 04:54:45.400"
         },
         {
          "Bib": 824,
          "TeamName": "Flatliners",
          "leg": "TA6",
          "leg_time_c": "2018-07-07 20:15:34.900",
          "leg_time_i": "2018-07-07 05:05:15.700"
         },
         {
          "Bib": 873,
          "TeamName": "Like fun, only different",
          "leg": "TA6",
          "leg_time_c": "2018-07-07 20:15:02.300",
          "leg_time_i": "2018-07-07 04:06:04.300"
         },
         {
          "Bib": 880,
          "TeamName": "Bear Naked",
          "leg": "TA6",
          "leg_time_c": "2018-07-07 20:21:34.700",
          "leg_time_i": "2018-07-07 05:08:45.800"
         },
         {
          "Bib": 840,
          "TeamName": "Another Drunk Idea Gone Wrong",
          "leg": "TA6",
          "leg_time_c": "2018-07-07 19:43:47.300",
          "leg_time_i": "2018-07-07 04:50:34.300"
         },
         {
          "Bib": 816,
          "TeamName": "Mission District Run Crew",
          "leg": "TA6",
          "leg_time_c": "2018-07-07 20:12:28.400",
          "leg_time_i": "2018-07-07 04:01:36.900"
         },
         {
          "Bib": 823,
          "TeamName": "Couple's Retreat",
          "leg": "TA6",
          "leg_time_c": "2018-07-07 19:56:58.900",
          "leg_time_i": "2018-07-07 04:51:49.900"
         },
         {
          "Bib": 897,
          "TeamName": "Bitchymen Plus Three",
          "leg": "TA6",
          "leg_time_c": "2018-07-07 19:58:34.100",
          "leg_time_i": "2018-07-07 04:10:54.100"
         },
         {
          "Bib": 864,
          "TeamName": "Magnificent 7",
          "leg": "TA6",
          "leg_time_c": "2018-07-07 20:24:21.500",
          "leg_time_i": "2018-07-07 04:31:27.200"
         },
         {
          "Bib": 889,
          "TeamName": "Epic Legs",
          "leg": "TA6",
          "leg_time_c": "2018-07-07 20:11:46.000",
          "leg_time_i": "2018-07-07 04:50:35.100"
         },
         {
          "Bib": 776,
          "TeamName": "No \"Olds\" Barred",
          "leg": "TA6",
          "leg_time_c": "2018-07-07 19:38:43.800",
          "leg_time_i": "2018-07-07 05:23:23.700"
         },
         {
          "Bib": 879,
          "TeamName": "TBD",
          "leg": "TA6",
          "leg_time_c": "2018-07-07 19:57:17.300",
          "leg_time_i": "2018-07-07 03:59:21.900"
         },
         {
          "Bib": 732,
          "TeamName": "Team Honey Badgers",
          "leg": "TA6",
          "leg_time_c": "2018-07-07 20:33:25.900",
          "leg_time_i": "2018-07-07 04:32:50.700"
         },
         {
          "Bib": 753,
          "TeamName": "#OMC2",
          "leg": "TA6",
          "leg_time_c": "2018-07-07 20:45:13.300",
          "leg_time_i": "2018-07-07 04:33:15.300"
         },
         {
          "Bib": 836,
          "TeamName": "Prairie dogs",
          "leg": "TA6",
          "leg_time_c": "2018-07-07 20:35:35.800",
          "leg_time_i": "2018-07-07 04:31:40.600"
         },
         {
          "Bib": 859,
          "TeamName": "The Twinkies",
          "leg": "TA6",
          "leg_time_c": "2018-07-07 20:36:42.000",
          "leg_time_i": "2018-07-07 04:41:10.600"
         },
         {
          "Bib": 855,
          "TeamName": "I though you said let's go for a rum!",
          "leg": "TA6",
          "leg_time_c": "2018-07-07 20:29:16.700",
          "leg_time_i": "2018-07-07 05:21:07.200"
         },
         {
          "Bib": 810,
          "TeamName": "Squirtin' Pepperoni",
          "leg": "TA6",
          "leg_time_c": "2018-07-07 20:28:32.400",
          "leg_time_i": "2018-07-07 05:39:34.200"
         },
         {
          "Bib": 701,
          "TeamName": "Sex Panthers",
          "leg": "TA6",
          "leg_time_c": "2018-07-07 20:29:37.600",
          "leg_time_i": "2018-07-07 04:43:57.600"
         },
         {
          "Bib": 893,
          "TeamName": "Sunday Mall Walkers",
          "leg": "TA6",
          "leg_time_c": "2018-07-07 20:27:34.300",
          "leg_time_i": "2018-07-07 04:42:47.500"
         },
         {
          "Bib": 723,
          "TeamName": "Leg Day",
          "leg": "TA6",
          "leg_time_c": "2018-07-07 20:21:26.800",
          "leg_time_i": "2018-07-07 05:18:36.600"
         },
         {
          "Bib": 770,
          "TeamName": "Jelly Bellies",
          "leg": "TA6",
          "leg_time_c": "2018-07-07 20:07:49.800",
          "leg_time_i": "2018-07-07 05:21:04.400"
         },
         {
          "Bib": 856,
          "TeamName": "Forged by Fire",
          "leg": "TA6",
          "leg_time_c": "2018-07-07 20:38:04.000",
          "leg_time_i": "2018-07-07 04:26:02.400"
         },
         {
          "Bib": 764,
          "TeamName": "Sin and Bear It",
          "leg": "TA6",
          "leg_time_c": "2018-07-07 20:27:18.000",
          "leg_time_i": "2018-07-07 03:16:42.600"
         },
         {
          "Bib": 857,
          "TeamName": "Trail Snails",
          "leg": "TA6",
          "leg_time_c": "2018-07-07 21:08:23.800",
          "leg_time_i": "2018-07-07 04:57:31.300"
         },
         {
          "Bib": 826,
          "TeamName": "Burpin' Pepperoni",
          "leg": "TA6",
          "leg_time_c": "2018-07-07 20:46:38.600",
          "leg_time_i": "2018-07-07 04:46:07.100"
         },
         {
          "Bib": 849,
          "TeamName": "6 Inches of Subway",
          "leg": "TA6",
          "leg_time_c": "2018-07-07 20:45:08.900",
          "leg_time_i": "2018-07-07 04:59:35.800"
         },
         {
          "Bib": 786,
          "TeamName": "Trail Droppings",
          "leg": "TA6",
          "leg_time_c": "2018-07-07 20:27:18.300",
          "leg_time_i": "2018-07-07 04:01:03.800"
         },
         {
          "Bib": 733,
          "TeamName": "Mother's Little Helpers",
          "leg": "TA6",
          "leg_time_c": "2018-07-07 20:24:27.100",
          "leg_time_i": "2018-07-07 03:59:46.600"
         },
         {
          "Bib": 717,
          "TeamName": "Rapid Thigh Movement",
          "leg": "TA6",
          "leg_time_c": "2018-07-07 20:18:25.500",
          "leg_time_i": "2018-07-07 03:46:38.400"
         },
         {
          "Bib": 766,
          "TeamName": "Runsofarians",
          "leg": "TA6",
          "leg_time_c": "2018-07-07 20:59:13.000",
          "leg_time_i": "2018-07-07 05:11:50.600"
         },
         {
          "Bib": 761,
          "TeamName": "twisted blisters",
          "leg": "TA6",
          "leg_time_c": "2018-07-07 20:35:59.700",
          "leg_time_i": "2018-07-07 05:16:03.800"
         },
         {
          "Bib": 715,
          "TeamName": "Wandering Souls",
          "leg": "TA6",
          "leg_time_c": "2018-07-07 21:16:07.800",
          "leg_time_i": "2018-07-07 03:59:09.900"
         },
         {
          "Bib": 833,
          "TeamName": "Rough Runners",
          "leg": "TA6",
          "leg_time_c": "2018-07-07 20:45:32.700",
          "leg_time_i": "2018-07-07 04:17:54.800"
         },
         {
          "Bib": 743,
          "TeamName": "All Mixed Up",
          "leg": "TA6",
          "leg_time_c": "2018-07-07 21:16:31.500",
          "leg_time_i": "2018-07-07 04:25:50.500"
         },
         {
          "Bib": 771,
          "TeamName": "Lets get Rocked!",
          "leg": "TA6",
          "leg_time_c": "2018-07-07 21:28:26.800",
          "leg_time_i": "2018-07-07 05:57:46.800"
         },
         {
          "Bib": 822,
          "TeamName": "RAF",
          "leg": "TA6",
          "leg_time_c": "2018-07-07 21:08:14.600",
          "leg_time_i": "2018-07-07 05:41:29.400"
         },
         {
          "Bib": 899,
          "TeamName": "The Young & The Breathless",
          "leg": "TA6",
          "leg_time_c": "2018-07-07 21:11:45.400",
          "leg_time_i": "2018-07-07 04:52:40.300"
         },
         {
          "Bib": 862,
          "TeamName": "Your Pace or Mine?",
          "leg": "TA6",
          "leg_time_c": "2018-07-07 21:11:54.400",
          "leg_time_i": "2018-07-07 05:13:58.400"
         },
         {
          "Bib": 780,
          "TeamName": "Running on the Edge",
          "leg": "TA6",
          "leg_time_c": "2018-07-07 21:24:47.900",
          "leg_time_i": "2018-07-07 06:09:43.900"
         },
         {
          "Bib": 876,
          "TeamName": "Rhabd'oh!",
          "leg": "TA6",
          "leg_time_c": "2018-07-07 21:10:10.500",
          "leg_time_i": "2018-07-07 04:52:12.800"
         },
         {
          "Bib": 878,
          "TeamName": "A Mixed Bag",
          "leg": "TA6",
          "leg_time_c": "2018-07-07 21:31:54.000",
          "leg_time_i": "2018-07-07 03:54:49.900"
         },
         {
          "Bib": 781,
          "TeamName": "Ponoka Path Pounders",
          "leg": "TA6",
          "leg_time_c": "2018-07-07 21:36:22.500",
          "leg_time_i": "2018-07-07 05:17:42.700"
         },
         {
          "Bib": 828,
          "TeamName": "Team Schwetty Balls",
          "leg": "TA6",
          "leg_time_c": "2018-07-07 21:38:32.000",
          "leg_time_i": "2018-07-07 05:53:48.700"
         },
         {
          "Bib": 830,
          "TeamName": "Scrambled Legs",
          "leg": "TA6",
          "leg_time_c": "2018-07-07 21:29:11.900",
          "leg_time_i": "2018-07-07 05:51:18.600"
         },
         {
          "Bib": 760,
          "TeamName": "Bear Bait",
          "leg": "TA6",
          "leg_time_c": "2018-07-07 21:22:04.900",
          "leg_time_i": "2018-07-07 04:14:48.900"
         },
         {
          "Bib": 765,
          "TeamName": "Something Wicked This Way Runs",
          "leg": "TA6",
          "leg_time_c": "2018-07-07 21:36:50.200",
          "leg_time_i": "2018-07-07 05:14:01.000"
         },
         {
          "Bib": 851,
          "TeamName": "ThunderCats",
          "leg": "TA6",
          "leg_time_c": "2018-07-07 21:13:55.900",
          "leg_time_i": "2018-07-07 05:00:33.200"
         },
         {
          "Bib": 756,
          "TeamName": "Dust Bunnies",
          "leg": "TA6",
          "leg_time_c": "2018-07-07 21:14:14.600",
          "leg_time_i": "2018-07-07 04:31:43.000"
         },
         {
          "Bib": 767,
          "TeamName": "It's Your Breath in Our Lungs",
          "leg": "TA6",
          "leg_time_c": "2018-07-07 21:23:40.200",
          "leg_time_i": "2018-07-07 05:02:46.100"
         },
         {
          "Bib": 718,
          "TeamName": "Hot Flashes",
          "leg": "TA6",
          "leg_time_c": "2018-07-07 21:16:30.800",
          "leg_time_i": "2018-07-07 05:49:26.800"
         },
         {
          "Bib": 804,
          "TeamName": "6 Goat Sheeps And A Kid",
          "leg": "TA6",
          "leg_time_c": "2018-07-07 21:29:17.600",
          "leg_time_i": "2018-07-07 05:45:47.500"
         },
         {
          "Bib": 783,
          "TeamName": "Fine Winers",
          "leg": "TA6",
          "leg_time_c": "2018-07-07 21:59:37.500",
          "leg_time_i": "2018-07-07 05:31:04.100"
         },
         {
          "Bib": 866,
          "TeamName": "A-Town Animals",
          "leg": "TA6",
          "leg_time_c": "2018-07-07 21:00:01.100",
          "leg_time_i": "2018-07-07 04:38:51.200"
         },
         {
          "Bib": 913,
          "TeamName": "Hedging on the Kiwi",
          "leg": "TA6",
          "leg_time_c": "2018-07-07 21:31:20.700",
          "leg_time_i": "2018-07-07 04:18:17.400"
         },
         {
          "Bib": 883,
          "TeamName": "I'd HIIT That",
          "leg": "TA6",
          "leg_time_c": "2018-07-07 21:38:30.700",
          "leg_time_i": "2018-07-07 05:21:34.400"
         },
         {
          "Bib": 837,
          "TeamName": "Cougar-BearSnake",
          "leg": "TA6",
          "leg_time_c": "2018-07-07 21:46:51.900",
          "leg_time_i": "2018-07-07 04:16:19.000"
         },
         {
          "Bib": 713,
          "TeamName": "Dangerous Divas",
          "leg": "TA6",
          "leg_time_c": "2018-07-07 21:58:47.200",
          "leg_time_i": "2018-07-07 05:19:39.000"
         },
         {
          "Bib": 726,
          "TeamName": "No One Told Me There'd Be Chafing!",
          "leg": "TA6",
          "leg_time_c": "2018-07-07 21:19:03.200",
          "leg_time_i": "2018-07-07 05:38:45.100"
         },
         {
          "Bib": 747,
          "TeamName": "Hill Humpers",
          "leg": "TA6",
          "leg_time_c": "2018-07-07 21:58:47.200",
          "leg_time_i": "2018-07-07 05:40:07.500"
         },
         {
          "Bib": 871,
          "TeamName": "Recovering Accountaholics",
          "leg": "TA6",
          "leg_time_c": "2018-07-07 22:11:16.700",
          "leg_time_i": "2018-07-07 05:28:18.200"
         },
         {
          "Bib": 854,
          "TeamName": "WarriorPacks",
          "leg": "TA6",
          "leg_time_c": "2018-07-07 22:07:54.000",
          "leg_time_i": "2018-07-07 05:29:05.900"
         },
         {
          "Bib": 730,
          "TeamName": "SWATT",
          "leg": "TA6",
          "leg_time_c": "2018-07-07 21:14:55.100",
          "leg_time_i": "2018-07-07 04:48:40.600"
         },
         {
          "Bib": 738,
          "TeamName": "#OMC1",
          "leg": "TA6",
          "leg_time_c": "2018-07-07 22:06:03.900",
          "leg_time_i": "2018-07-07 04:44:34.000"
         },
         {
          "Bib": 895,
          "TeamName": "Prairie Dogs",
          "leg": "TA6",
          "leg_time_c": "2018-07-07 22:03:26.600",
          "leg_time_i": "2018-07-07 05:11:07.600"
         },
         {
          "Bib": 782,
          "TeamName": "The Brandy Bunch",
          "leg": "TA6",
          "leg_time_c": "2018-07-07 21:26:23.200",
          "leg_time_i": "2018-07-07 05:53:05.900"
         },
         {
          "Bib": 736,
          "TeamName": "Run, Sweat, and Beers",
          "leg": "TA6",
          "leg_time_c": "2018-07-07 21:57:41.100",
          "leg_time_i": "2018-07-07 05:15:08.100"
         },
         {
          "Bib": 903,
          "TeamName": "Clear Lake Crusaders",
          "leg": "TA6",
          "leg_time_c": "2018-07-07 21:51:19.900",
          "leg_time_i": "2018-07-07 05:26:41.000"
         },
         {
          "Bib": 906,
          "TeamName": "Dauntless",
          "leg": "TA6",
          "leg_time_c": "2018-07-07 22:06:03.300",
          "leg_time_i": "2018-07-07 05:38:38.700"
         },
         {
          "Bib": 785,
          "TeamName": "United Cycle Team Lost and Confused",
          "leg": "TA6",
          "leg_time_c": "2018-07-07 22:26:26.200",
          "leg_time_i": "2018-07-07 05:59:37.500"
         },
         {
          "Bib": 882,
          "TeamName": "What The Hill Are We Doing??",
          "leg": "TA6",
          "leg_time_c": "2018-07-07 22:15:39.800",
          "leg_time_i": "2018-07-07 04:20:11.900"
         },
         {
          "Bib": 827,
          "TeamName": "It was all feathers",
          "leg": "TA6",
          "leg_time_c": "2018-07-07 22:25:14.600",
          "leg_time_i": "2018-07-07 04:39:17.300"
         },
         {
          "Bib": 807,
          "TeamName": "Messy Seven",
          "leg": "TA6",
          "leg_time_c": "2018-07-07 20:07:34.700",
          "leg_time_i": "2018-07-07 05:11:13.600"
         },
         {
          "Bib": 741,
          "TeamName": "Blackbird",
          "leg": "TA6",
          "leg_time_c": "2018-07-07 22:29:39.000",
          "leg_time_i": "2018-07-07 04:37:11.800"
         },
         {
          "Bib": 848,
          "TeamName": "Run.Rehab.Run.Repeat.",
          "leg": "TA6",
          "leg_time_c": "2018-07-07 22:16:31.000",
          "leg_time_i": "2018-07-07 04:58:33.600"
         },
         {
          "Bib": 805,
          "TeamName": "Jogander",
          "leg": "TA6",
          "leg_time_c": "2018-07-07 22:08:29.000",
          "leg_time_i": "2018-07-07 05:37:26.000"
         },
         {
          "Bib": 748,
          "TeamName": "Sister Wives",
          "leg": "TA6",
          "leg_time_c": "2018-07-07 22:32:22.300",
          "leg_time_i": "2018-07-07 05:21:47.500"
         },
         {
          "Bib": 794,
          "TeamName": "RIOT - Running is our Therapy",
          "leg": "TA6",
          "leg_time_c": "2018-07-07 22:18:31.000",
          "leg_time_i": "2018-07-07 05:08:04.000"
         },
         {
          "Bib": 739,
          "TeamName": "Toe Nails Are For Sissies.",
          "leg": "TA6",
          "leg_time_c": "2018-07-07 22:22:32.800",
          "leg_time_i": "2018-07-07 05:39:02.500"
         },
         {
          "Bib": 705,
          "TeamName": "JBF Revival",
          "leg": "TA6",
          "leg_time_c": "2018-07-07 22:54:25.300",
          "leg_time_i": "2018-07-07 05:36:12.700"
         },
         {
          "Bib": 793,
          "TeamName": "Ignorance is Blisters",
          "leg": "TA6",
          "leg_time_c": "2018-07-07 22:14:31.200",
          "leg_time_i": "2018-07-07 03:49:44.300"
         },
         {
          "Bib": 852,
          "TeamName": "Minimum Champions",
          "leg": "TA6",
          "leg_time_c": "2018-07-07 22:30:16.300",
          "leg_time_i": "2018-07-07 05:51:36.100"
         },
         {
          "Bib": 819,
          "TeamName": "Team Side Group",
          "leg": "TA6",
          "leg_time_c": "2018-07-07 23:16:06.100",
          "leg_time_i": "2018-07-07 05:30:46.700"
         },
         {
          "Bib": 914,
          "TeamName": "Tears then Beers",
          "leg": "TA6",
          "leg_time_c": "2018-07-07 23:12:57.800",
          "leg_time_i": "2018-07-07 07:13:28.300"
         },
         {
          "Bib": 720,
          "TeamName": "#rundefined",
          "leg": "TA6",
          "leg_time_c": "2018-07-07 22:50:27.800",
          "leg_time_i": "2018-07-07 05:55:58.200"
         },
         {
          "Bib": 870,
          "TeamName": "The Virgins",
          "leg": "TA6",
          "leg_time_c": "2018-07-07 22:46:00.800",
          "leg_time_i": "2018-07-07 04:50:33.100"
         },
         {
          "Bib": 752,
          "TeamName": "All Downhill From Here!",
          "leg": "TA6",
          "leg_time_c": "2018-07-07 22:04:10.500",
          "leg_time_i": "2018-07-07 03:41:31.900"
         },
         {
          "Bib": 802,
          "TeamName": "#runswithwill",
          "leg": "TA6",
          "leg_time_c": "2018-07-07 22:56:47.000",
          "leg_time_i": "2018-07-07 04:59:51.700"
         },
         {
          "Bib": 811,
          "TeamName": "RavenMad",
          "leg": "TA6",
          "leg_time_c": "2018-07-07 22:24:41.800",
          "leg_time_i": "2018-07-07 04:49:55.100"
         },
         {
          "Bib": 800,
          "TeamName": "Run Forest Run!",
          "leg": "TA6",
          "leg_time_c": "2018-07-07 22:53:20.400",
          "leg_time_i": "2018-07-07 05:49:38.300"
         },
         {
          "Bib": 789,
          "TeamName": "Bush Pounders",
          "leg": "TA6",
          "leg_time_c": "2018-07-07 22:19:04.700",
          "leg_time_i": "2018-07-07 05:50:23.500"
         },
         {
          "Bib": 772,
          "TeamName": "Don't suck",
          "leg": "TA6",
          "leg_time_c": "2018-07-07 22:53:20.300",
          "leg_time_i": "2018-07-07 05:04:58.600"
         },
         {
          "Bib": 887,
          "TeamName": "Team Pain",
          "leg": "TA6",
          "leg_time_c": "2018-07-07 23:19:07.700",
          "leg_time_i": "2018-07-07 05:33:13.300"
         },
         {
          "Bib": 881,
          "TeamName": "In Over of Heads",
          "leg": "TA6",
          "leg_time_c": "2018-07-07 22:59:55.900",
          "leg_time_i": "2018-07-07 05:47:19.300"
         },
         {
          "Bib": 813,
          "TeamName": "Team Yellow",
          "leg": "TA6",
          "leg_time_c": "2018-07-07 23:23:28.400",
          "leg_time_i": "2018-07-07 05:03:15.200"
         },
         {
          "Bib": 768,
          "TeamName": "Set Fire to the Wicked Pain",
          "leg": "TA6",
          "leg_time_c": "2018-07-07 23:24:01.100",
          "leg_time_i": "2018-07-07 05:09:17.200"
         },
         {
          "Bib": 801,
          "TeamName": "SWAT - So What About Training",
          "leg": "TA6",
          "leg_time_c": "2018-07-07 22:39:17.900",
          "leg_time_i": "2018-07-07 03:40:50.500"
         },
         {
          "Bib": 792,
          "TeamName": "A Murder of Runners",
          "leg": "TA6",
          "leg_time_c": "2018-07-07 23:20:12.600",
          "leg_time_i": "2018-07-07 04:28:58.100"
         },
         {
          "Bib": 875,
          "TeamName": "Team Wu",
          "leg": "TA6",
          "leg_time_c": "2018-07-08 00:03:12.300",
          "leg_time_i": "2018-07-07 05:26:35.400"
         },
         {
          "Bib": 841,
          "TeamName": "Forced, bribed, or willing?",
          "leg": "TA6",
          "leg_time_c": "2018-07-07 23:22:42.800",
          "leg_time_i": "2018-07-07 04:57:45.900"
         },
         {
          "Bib": 762,
          "TeamName": "Are we there yet?",
          "leg": "TA6",
          "leg_time_c": "2018-07-07 23:53:08.900",
          "leg_time_i": "2018-07-07 06:23:07.200"
         },
         {
          "Bib": 886,
          "TeamName": "Peanut Butter Jelly Legs",
          "leg": "TA6",
          "leg_time_c": "2018-07-07 22:50:32.100",
          "leg_time_i": "2018-07-07 05:52:45.700"
         },
         {
          "Bib": 838,
          "TeamName": "Bear-ly Made It",
          "leg": "TA6",
          "leg_time_c": "2018-07-07 23:55:28.400",
          "leg_time_i": "2018-07-07 04:37:58.400"
         },
         {
          "Bib": 817,
          "TeamName": "Summit Slayers",
          "leg": "TA6",
          "leg_time_c": "2018-07-07 23:52:57.700",
          "leg_time_i": "2018-07-07 05:21:28.700"
         },
         {
          "Bib": 916,
          "TeamName": "Sassy Sinister Sexpots",
          "leg": "TA6",
          "leg_time_c": "2018-07-07 23:46:33.300",
          "leg_time_i": "2018-07-07 04:03:52.200"
         },
         {
          "Bib": 712,
          "TeamName": "S Club 7",
          "leg": "TA6",
          "leg_time_c": "2018-07-07 23:56:04.700",
          "leg_time_i": "2018-07-07 07:19:43.100"
         },
         {
          "Bib": 735,
          "TeamName": "Girls Gone Trail",
          "leg": "TA6",
          "leg_time_c": "2018-07-07 23:40:04.400",
          "leg_time_i": "2018-07-07 05:24:02.300"
         },
         {
          "Bib": 896,
          "TeamName": "Triple Terrain Trail Trekkers",
          "leg": "TA6",
          "leg_time_c": "2018-07-08 00:11:12.300",
          "leg_time_i": "2018-07-07 06:32:20.600"
         },
         {
          "Bib": 829,
          "TeamName": "Pace Jam",
          "leg": "TA6",
          "leg_time_c": "2018-07-08 00:09:33.100",
          "leg_time_i": "2018-07-07 04:37:02.500"
         },
         {
          "Bib": 884,
          "TeamName": "Easier said than run!",
          "leg": "TA6",
          "leg_time_c": "2018-07-07 23:39:22.100",
          "leg_time_i": "2018-07-07 05:24:23.500"
         },
         {
          "Bib": 911,
          "TeamName": "7 Ways to Lose A Runner",
          "leg": "TA6",
          "leg_time_c": "2018-07-08 00:04:48.800",
          "leg_time_i": "2018-07-07 06:04:20.300"
         },
         {
          "Bib": 749,
          "TeamName": "Lactic Acid Flashback",
          "leg": "TA6",
          "leg_time_c": "2018-07-07 23:53:52.000",
          "leg_time_i": "2018-07-07 04:56:37.400"
         },
         {
          "Bib": 702,
          "TeamName": "GFP",
          "leg": "TA6",
          "leg_time_c": "2018-07-07 23:22:40.400",
          "leg_time_i": "2018-07-07 04:37:17.400"
         },
         {
          "Bib": 885,
          "TeamName": "Cobra Kai",
          "leg": "TA6",
          "leg_time_c": "2018-07-07 23:55:36.900",
          "leg_time_i": "2018-07-07 05:47:43.300"
         },
         {
          "Bib": 721,
          "TeamName": "7 Ways to Lose a Runner",
          "leg": "TA6",
          "leg_time_c": "2018-07-07 23:16:38.200",
          "leg_time_i": "2018-07-07 04:08:39.200"
         },
         {
          "Bib": 759,
          "TeamName": "Cougar Bait",
          "leg": "TA6",
          "leg_time_c": "2018-07-07 23:45:24.700",
          "leg_time_i": "2018-07-07 06:38:08.500"
         },
         {
          "Bib": 773,
          "TeamName": "Estrogen Rush",
          "leg": "TA6",
          "leg_time_c": "2018-07-07 23:44:35.400",
          "leg_time_i": "2018-07-07 05:46:13.600"
         },
         {
          "Bib": 778,
          "TeamName": "City Fit Shop Rocks",
          "leg": "TA6",
          "leg_time_c": "2018-07-07 23:56:13.600",
          "leg_time_i": "2018-07-07 04:57:12.600"
         },
         {
          "Bib": 912,
          "TeamName": "Evil Murray and his Badass Bitches",
          "leg": "TA6",
          "leg_time_c": "2018-07-08 00:18:37.200",
          "leg_time_i": "2018-07-07 04:19:39.300"
         },
         {
          "Bib": 708,
          "TeamName": "Strongbow and Deep Fried Pickles",
          "leg": "TA6",
          "leg_time_c": "2018-07-07 23:59:51.800",
          "leg_time_i": "2018-07-07 06:49:03.900"
         },
         {
          "Bib": 706,
          "TeamName": "Just Don't Die FFS",
          "leg": "TA6",
          "leg_time_c": "2018-07-08 00:12:27.300",
          "leg_time_i": "2018-07-07 05:57:05.300"
         },
         {
          "Bib": 877,
          "TeamName": "THe Free Agents",
          "leg": "TA6",
          "leg_time_c": "2018-07-08 00:37:48.800",
          "leg_time_i": "2018-07-07 06:45:22.300"
         },
         {
          "Bib": 719,
          "TeamName": "Faster than Molasses",
          "leg": "TA6",
          "leg_time_c": "2018-07-08 00:43:50.800",
          "leg_time_i": "2018-07-07 06:11:23.600"
         },
         {
          "Bib": 863,
          "TeamName": "SPEED UP RACING",
          "leg": "TA6",
          "leg_time_c": "2018-07-07 23:49:17.100",
          "leg_time_i": "2018-07-07 05:53:47.500"
         },
         {
          "Bib": 725,
          "TeamName": "6 Sinners and a Saint",
          "leg": "TA6",
          "leg_time_c": "2018-07-08 00:27:53.500",
          "leg_time_i": "2018-07-07 05:54:49.000"
         },
         {
          "Bib": 868,
          "TeamName": "Thunder Cats",
          "leg": "TA6",
          "leg_time_c": "2018-07-08 00:38:51.800",
          "leg_time_i": "2018-07-07 05:58:17.900"
         },
         {
          "Bib": 769,
          "TeamName": "Midlife Runners",
          "leg": "TA6",
          "leg_time_c": "2018-07-08 00:40:43.800",
          "leg_time_i": "2018-07-07 05:02:58.800"
         },
         {
          "Bib": 874,
          "TeamName": "City Fit Shop Scissors",
          "leg": "TA6",
          "leg_time_c": "2018-07-08 01:13:12.100",
          "leg_time_i": "2018-07-07 06:14:10.400"
         },
         {
          "Bib": 861,
          "TeamName": "Fuster Clucks",
          "leg": "TA6",
          "leg_time_c": "2018-07-08 00:50:59.400",
          "leg_time_i": "2018-07-07 05:18:19.400"
         },
         {
          "Bib": 909,
          "TeamName": "Male Triple Terrain Trekkers",
          "leg": "TA6",
          "leg_time_c": "2018-07-08 00:53:29.800",
          "leg_time_i": "2018-07-07 06:38:31.100"
         },
         {
          "Bib": 704,
          "TeamName": "Buck Up",
          "leg": "TA6",
          "leg_time_c": "2018-07-08 01:21:37.100",
          "leg_time_i": "2018-07-07 07:10:47.500"
         },
         {
          "Bib": 832,
          "TeamName": "A View to a Hill",
          "leg": "TA6",
          "leg_time_c": "2018-07-08 00:08:37.500",
          "leg_time_i": "2018-07-07 05:54:27.900"
         },
         {
          "Bib": 799,
          "TeamName": "Running Back To Saskatoon",
          "leg": "TA6",
          "leg_time_c": "2018-07-08 01:06:42.600",
          "leg_time_i": "2018-07-07 07:18:19.300"
         },
         {
          "Bib": 731,
          "TeamName": "Never Again",
          "leg": "TA6",
          "leg_time_c": "2018-07-08 01:05:22.200",
          "leg_time_i": "2018-07-07 05:42:07.700"
         },
         {
          "Bib": 901,
          "TeamName": "12 feet 1 footz",
          "leg": "TA6",
          "leg_time_c": "2018-07-08 00:44:21.700",
          "leg_time_i": "2018-07-07 06:28:21.300"
         },
         {
          "Bib": 890,
          "TeamName": "More legs than a bucket of chicken",
          "leg": "TA6",
          "leg_time_c": "2018-07-08 00:44:26.600",
          "leg_time_i": "2018-07-07 06:53:44.000"
         },
         {
          "Bib": 774,
          "TeamName": "City Fit SHop PAPER",
          "leg": "TA6",
          "leg_time_c": "2018-07-08 01:13:11.700",
          "leg_time_i": "2018-07-07 06:14:10.600"
         },
         {
          "Bib": 703,
          "TeamName": "Tag, you're it",
          "leg": "TA6",
          "leg_time_c": "2018-07-08 01:33:33.100",
          "leg_time_i": "2018-07-07 07:25:40.900"
         },
         {
          "Bib": 742,
          "TeamName": "Ultra Relay-tionship Goals",
          "leg": "TA6",
          "leg_time_c": "2018-07-08 01:26:41.200",
          "leg_time_i": "2018-07-07 06:16:02.400"
         },
         {
          "Bib": 758,
          "TeamName": "Long distance Relay-tionships",
          "leg": "TA6",
          "leg_time_c": "2018-07-08 01:26:41.700",
          "leg_time_i": "2018-07-07 06:16:03.400"
         },
         {
          "Bib": 729,
          "TeamName": "Ruck Funning",
          "leg": "TA6",
          "leg_time_c": "2018-07-08 01:15:29.400",
          "leg_time_i": "2018-07-07 04:41:51.300"
         },
         {
          "Bib": 797,
          "TeamName": "The Young and the Breathless",
          "leg": "TA6",
          "leg_time_c": "2018-07-08 01:50:21.900",
          "leg_time_i": "2018-07-07 06:16:47.700"
         },
         {
          "Bib": 795,
          "TeamName": "Weary and Draggin",
          "leg": "TA6",
          "leg_time_c": "2018-07-08 02:03:56.500",
          "leg_time_i": "2018-07-07 05:03:56.500"
         },
         {
          "Bib": 915,
          "TeamName": "Running People",
          "leg": "TA6",
          "leg_time_c": "2018-07-08 01:30:35.600",
          "leg_time_i": "2018-07-07 06:25:59.100"
         },
         {
          "Bib": 835,
          "TeamName": "But did you die?",
          "leg": "TA6",
          "leg_time_c": "2018-07-08 02:34:48.800",
          "leg_time_i": "2018-07-07 06:27:08.800"
         },
         {
          "Bib": 716,
          "TeamName": "Battle Star Lacitic A",
          "leg": "TA6",
          "leg_time_c": "2018-07-08 02:16:19.500",
          "leg_time_i": "2018-07-07 06:04:07.600"
         },
         {
          "Bib": 790,
          "TeamName": "The Deadly Medley",
          "leg": "TA6",
          "leg_time_c": "2018-07-08 02:17:47.500",
          "leg_time_i": "2018-07-07 04:59:08.500"
         },
         {
          "Bib": 825,
          "TeamName": "Dirty Threesome In The Woods",
          "leg": "TA6",
          "leg_time_c": "2018-07-08 02:00:07.800",
          "leg_time_i": "2018-07-07 06:42:31.300"
         },
         {
          "Bib": 814,
          "TeamName": "Dark Horse",
          "leg": "TA6",
          "leg_time_c": "2018-07-08 01:26:37.900",
          "leg_time_i": "2018-07-07 05:58:19.600"
         },
         {
          "Bib": 844,
          "TeamName": "The Bear Necessities",
          "leg": "TA6",
          "leg_time_c": "2018-07-08 02:15:28.800",
          "leg_time_i": "2018-07-07 06:41:55.400"
         },
         {
          "Bib": 714,
          "TeamName": "The Kings and Queens of Sin",
          "leg": "TA6",
          "leg_time_c": "2018-07-08 02:14:47.200",
          "leg_time_i": "2018-07-07 04:31:28.800"
         },
         {
          "Bib": 898,
          "TeamName": "Dead Sexy",
          "leg": "TA6",
          "leg_time_c": "2018-07-08 02:30:22.400",
          "leg_time_i": "2018-07-07 05:56:41.500"
         },
         {
          "Bib": 892,
          "TeamName": "Swamp Donkeys",
          "leg": "TA6",
          "leg_time_c": "2018-07-08 02:44:25.900",
          "leg_time_i": "2018-07-07 07:40:02.900"
         },
         {
          "Bib": 888,
          "TeamName": "Running Because We Can",
          "leg": "TA6",
          "leg_time_c": "2018-07-08 00:58:37.500",
          "leg_time_i": "2018-07-07 08:03:41.300"
         },
         {
          "Bib": 754,
          "TeamName": "#OMC3",
          "leg": "TA6",
          "leg_time_c": "2018-07-08 02:54:43.000",
          "leg_time_i": "2018-07-07 08:02:28.900"
         },
         {
          "Bib": 818,
          "TeamName": "Hangry Beers",
          "leg": "TA6",
          "leg_time_c": "2018-07-08 03:05:41.400",
          "leg_time_i": "2018-07-07 05:40:30.200"
         },
         {
          "Bib": 791,
          "TeamName": "Saskatchewan Roughrunners",
          "leg": "TA6",
          "leg_time_c": "2018-07-08 04:40:37.200",
          "leg_time_i": "2018-07-07 11:58:05.000"
         },
         {
          "Bib": 710,
          "TeamName": "Original Joes",
          "leg": "TA7",
          "leg_time_c": "2018-07-07 13:53:07.900",
          "leg_time_i": "2018-07-07 00:51:48.900"
         },
         {
          "Bib": 803,
          "TeamName": "Attitude Over Altitude",
          "leg": "TA7",
          "leg_time_c": "2018-07-07 14:13:22.300",
          "leg_time_i": "2018-07-07 00:45:47.400"
         },
         {
          "Bib": 796,
          "TeamName": "runlAB",
          "leg": "TA7",
          "leg_time_c": "2018-07-07 14:41:58.400",
          "leg_time_i": "2018-07-07 00:42:34.200"
         },
         {
          "Bib": 905,
          "TeamName": "The Tragically Tight Hips",
          "leg": "TA7",
          "leg_time_c": "2018-07-07 15:51:03.700",
          "leg_time_i": "2018-07-07 00:54:32.800"
         },
         {
          "Bib": 711,
          "TeamName": "No Limits",
          "leg": "TA7",
          "leg_time_c": "2018-07-07 16:31:54.300",
          "leg_time_i": "2018-07-07 01:18:50.300"
         },
         {
          "Bib": 787,
          "TeamName": "TIGHT HIPS AND SORE NIPS",
          "leg": "TA7",
          "leg_time_c": "2018-07-07 16:41:06.200",
          "leg_time_i": "2018-07-07 01:08:32.700"
         },
         {
          "Bib": 894,
          "TeamName": "The Maddogs",
          "leg": "TA7",
          "leg_time_c": "2018-07-07 16:42:38.500",
          "leg_time_i": "2018-07-07 01:04:58.500"
         },
         {
          "Bib": 812,
          "TeamName": "Vintage Vixens",
          "leg": "TA7",
          "leg_time_c": "2018-07-07 16:45:08.800",
          "leg_time_i": "2018-07-07 01:12:55.600"
         },
         {
          "Bib": 865,
          "TeamName": "Montagne Papis",
          "leg": "TA7",
          "leg_time_c": "2018-07-07 16:58:50.200",
          "leg_time_i": "2018-07-07 01:12:05.500"
         },
         {
          "Bib": 908,
          "TeamName": "Fast Trax YEG Trail Team",
          "leg": "TA7",
          "leg_time_c": "2018-07-07 17:25:51.500",
          "leg_time_i": "2018-07-07 01:14:26.700"
         },
         {
          "Bib": 820,
          "TeamName": "Lactic Asses",
          "leg": "TA7",
          "leg_time_c": "2018-07-07 17:37:47.900",
          "leg_time_i": "2018-07-07 01:00:15.800"
         },
         {
          "Bib": 784,
          "TeamName": "Mantrackers",
          "leg": "TA7",
          "leg_time_c": "2018-07-07 17:43:01.300",
          "leg_time_i": "2018-07-07 01:15:35.300"
         },
         {
          "Bib": 806,
          "TeamName": "Robbie's Rejects",
          "leg": "TA7",
          "leg_time_c": "2018-07-07 17:43:38.200",
          "leg_time_i": "2018-07-07 01:12:49.200"
         },
         {
          "Bib": 809,
          "TeamName": "Child's Play",
          "leg": "TA7",
          "leg_time_c": "2018-07-07 17:58:27.400",
          "leg_time_i": "2018-07-07 01:07:22.000"
         },
         {
          "Bib": 750,
          "TeamName": "Chafing Tail",
          "leg": "TA7",
          "leg_time_c": "2018-07-07 18:21:37.000",
          "leg_time_i": "2018-07-07 01:08:32.200"
         },
         {
          "Bib": 907,
          "TeamName": "Sole Crushers",
          "leg": "TA7",
          "leg_time_c": "2018-07-07 18:22:20.100",
          "leg_time_i": "2018-07-07 00:58:42.700"
         },
         {
          "Bib": 707,
          "TeamName": "STARS Prez-otaur",
          "leg": "TA7",
          "leg_time_c": "2018-07-07 18:32:43.000",
          "leg_time_i": "2018-07-07 01:07:16.400"
         },
         {
          "Bib": 904,
          "TeamName": "Chicks and Sticks",
          "leg": "TA7",
          "leg_time_c": "2018-07-07 18:38:37.100",
          "leg_time_i": "2018-07-07 01:12:19.000"
         },
         {
          "Bib": 869,
          "TeamName": "Steal My Sin-Shine",
          "leg": "TA7",
          "leg_time_c": "2018-07-07 19:02:46.300",
          "leg_time_i": "2018-07-07 01:20:30.500"
         },
         {
          "Bib": 843,
          "TeamName": "Road Kill",
          "leg": "TA7",
          "leg_time_c": "2018-07-07 19:02:50.000",
          "leg_time_i": "2018-07-07 01:23:39.600"
         },
         {
          "Bib": 900,
          "TeamName": "Lil' Runner Cuties",
          "leg": "TA7",
          "leg_time_c": "2018-07-07 19:14:16.400",
          "leg_time_i": "2018-07-07 01:33:21.200"
         },
         {
          "Bib": 845,
          "TeamName": "Garmin Cochrane",
          "leg": "TA7",
          "leg_time_c": "2018-07-07 19:20:39.400",
          "leg_time_i": "2018-07-07 01:09:37.200"
         },
         {
          "Bib": 858,
          "TeamName": "Worst Pace Scenario",
          "leg": "TA7",
          "leg_time_c": "2018-07-07 19:24:21.000",
          "leg_time_i": "2018-07-07 01:07:37.400"
         },
         {
          "Bib": 815,
          "TeamName": "Rum Runners",
          "leg": "TA7",
          "leg_time_c": "2018-07-07 19:28:12.400",
          "leg_time_i": "2018-07-07 01:01:44.800"
         },
         {
          "Bib": 777,
          "TeamName": "Clash of Clans",
          "leg": "TA7",
          "leg_time_c": "2018-07-07 19:31:06.600",
          "leg_time_i": "2018-07-07 01:32:55.400"
         },
         {
          "Bib": 722,
          "TeamName": "Misters, Sisters, and Blisters",
          "leg": "TA7",
          "leg_time_c": "2018-07-07 19:52:22.300",
          "leg_time_i": "2018-07-07 01:16:03.200"
         },
         {
          "Bib": 846,
          "TeamName": "Penisters",
          "leg": "TA7",
          "leg_time_c": "2018-07-07 19:52:38.900",
          "leg_time_i": "2018-07-07 01:15:19.900"
         },
         {
          "Bib": 740,
          "TeamName": "Trail Nuts",
          "leg": "TA7",
          "leg_time_c": "2018-07-07 19:55:51.200",
          "leg_time_i": "2018-07-07 01:17:37.400"
         },
         {
          "Bib": 831,
          "TeamName": "Trans Mountain Plan B",
          "leg": "TA7",
          "leg_time_c": "2018-07-07 20:00:53.400",
          "leg_time_i": "2018-07-07 01:24:35.000"
         },
         {
          "Bib": 853,
          "TeamName": "Scrambled Legs",
          "leg": "TA7",
          "leg_time_c": "2018-07-07 20:07:24.000",
          "leg_time_i": "2018-07-07 01:41:51.000"
         },
         {
          "Bib": 744,
          "TeamName": "Undertrained and Overconfident",
          "leg": "TA7",
          "leg_time_c": "2018-07-07 20:07:26.800",
          "leg_time_i": "2018-07-07 01:41:53.900"
         },
         {
          "Bib": 763,
          "TeamName": "James Baxter",
          "leg": "TA7",
          "leg_time_c": "2018-07-07 20:07:28.700",
          "leg_time_i": "2018-07-07 01:16:10.700"
         },
         {
          "Bib": 755,
          "TeamName": "Run like the winded",
          "leg": "TA7",
          "leg_time_c": "2018-07-07 20:08:16.500",
          "leg_time_i": "2018-07-07 01:11:37.700"
         },
         {
          "Bib": 746,
          "TeamName": "Marmot Whisperers",
          "leg": "TA7",
          "leg_time_c": "2018-07-07 20:25:18.800",
          "leg_time_i": "2018-07-07 01:20:59.500"
         },
         {
          "Bib": 839,
          "TeamName": "The Cruisettes",
          "leg": "TA7",
          "leg_time_c": "2018-07-07 20:28:39.500",
          "leg_time_i": "2018-07-07 01:20:35.500"
         },
         {
          "Bib": 727,
          "TeamName": "Beavers Are Amazing",
          "leg": "TA7",
          "leg_time_c": "2018-07-07 20:29:57.300",
          "leg_time_i": "2018-07-07 02:08:21.400"
         },
         {
          "Bib": 872,
          "TeamName": "Don't Feel Awful, Eat a Waffle!",
          "leg": "TA7",
          "leg_time_c": "2018-07-07 20:35:19.300",
          "leg_time_i": "2018-07-07 01:04:23.000"
         },
         {
          "Bib": 860,
          "TeamName": "Happy Trails",
          "leg": "TA7",
          "leg_time_c": "2018-07-07 20:39:41.700",
          "leg_time_i": "2018-07-07 01:08:43.400"
         },
         {
          "Bib": 757,
          "TeamName": "Chernobyl",
          "leg": "TA7",
          "leg_time_c": "2018-07-07 20:43:31.300",
          "leg_time_i": "2018-07-07 01:43:02.100"
         },
         {
          "Bib": 734,
          "TeamName": "SCRAMBLED LEGS & HAM",
          "leg": "TA7",
          "leg_time_c": "2018-07-07 20:50:33.800",
          "leg_time_i": "2018-07-07 01:10:41.000"
         },
         {
          "Bib": 808,
          "TeamName": "#whatwerewethinking",
          "leg": "TA7",
          "leg_time_c": "2018-07-07 20:53:00.200",
          "leg_time_i": "2018-07-07 01:13:07.400"
         },
         {
          "Bib": 709,
          "TeamName": "Mixed Nuts",
          "leg": "TA7",
          "leg_time_c": "2018-07-07 20:53:26.400",
          "leg_time_i": "2018-07-07 01:44:07.800"
         },
         {
          "Bib": 891,
          "TeamName": "Jordan and the Vagisters",
          "leg": "TA7",
          "leg_time_c": "2018-07-07 20:54:04.100",
          "leg_time_i": "2018-07-07 01:33:17.800"
         },
         {
          "Bib": 867,
          "TeamName": "The Magnificent Seven",
          "leg": "TA7",
          "leg_time_c": "2018-07-07 20:56:46.800",
          "leg_time_i": "2018-07-07 01:36:55.600"
         },
         {
          "Bib": 788,
          "TeamName": "Blue Bayou",
          "leg": "TA7",
          "leg_time_c": "2018-07-07 20:58:46.200",
          "leg_time_i": "2018-07-07 01:32:46.400"
         },
         {
          "Bib": 745,
          "TeamName": "Fat Bastards",
          "leg": "TA7",
          "leg_time_c": "2018-07-07 21:00:52.200",
          "leg_time_i": "2018-07-07 01:33:34.600"
         },
         {
          "Bib": 850,
          "TeamName": "Chasing Trail",
          "leg": "TA7",
          "leg_time_c": "2018-07-07 21:03:52.100",
          "leg_time_i": "2018-07-07 01:49:09.400"
         },
         {
          "Bib": 724,
          "TeamName": "6 Estees & a Teste",
          "leg": "TA7",
          "leg_time_c": "2018-07-07 21:22:46.900",
          "leg_time_i": "2018-07-07 01:34:52.400"
         },
         {
          "Bib": 737,
          "TeamName": "Crow's Feet",
          "leg": "TA7",
          "leg_time_c": "2018-07-07 21:24:13.400",
          "leg_time_i": "2018-07-07 01:55:16.000"
         },
         {
          "Bib": 847,
          "TeamName": "Chasing Trail Volume 2",
          "leg": "TA7",
          "leg_time_c": "2018-07-07 21:24:53.500",
          "leg_time_i": "2018-07-07 01:59:09.600"
         },
         {
          "Bib": 798,
          "TeamName": "River City Front Runners",
          "leg": "TA7",
          "leg_time_c": "2018-07-07 21:27:52.800",
          "leg_time_i": "2018-07-07 01:17:50.200"
         },
         {
          "Bib": 779,
          "TeamName": "Running on a Dream",
          "leg": "TA7",
          "leg_time_c": "2018-07-07 21:27:59.400",
          "leg_time_i": "2018-07-07 01:09:54.000"
         },
         {
          "Bib": 902,
          "TeamName": "www.SLOW",
          "leg": "TA7",
          "leg_time_c": "2018-07-07 21:33:56.100",
          "leg_time_i": "2018-07-07 01:18:21.600"
         },
         {
          "Bib": 824,
          "TeamName": "Flatliners",
          "leg": "TA7",
          "leg_time_c": "2018-07-07 21:34:07.400",
          "leg_time_i": "2018-07-07 01:18:32.500"
         },
         {
          "Bib": 873,
          "TeamName": "Like fun, only different",
          "leg": "TA7",
          "leg_time_c": "2018-07-07 21:34:27.300",
          "leg_time_i": "2018-07-07 01:19:25.000"
         },
         {
          "Bib": 880,
          "TeamName": "Bear Naked",
          "leg": "TA7",
          "leg_time_c": "2018-07-07 21:38:08.600",
          "leg_time_i": "2018-07-07 01:16:33.900"
         },
         {
          "Bib": 840,
          "TeamName": "Another Drunk Idea Gone Wrong",
          "leg": "TA7",
          "leg_time_c": "2018-07-07 21:40:04.300",
          "leg_time_i": "2018-07-07 01:56:17.000"
         },
         {
          "Bib": 816,
          "TeamName": "Mission District Run Crew",
          "leg": "TA7",
          "leg_time_c": "2018-07-07 21:43:40.600",
          "leg_time_i": "2018-07-07 01:31:12.200"
         },
         {
          "Bib": 823,
          "TeamName": "Couple's Retreat",
          "leg": "TA7",
          "leg_time_c": "2018-07-07 21:48:00.100",
          "leg_time_i": "2018-07-07 01:51:01.200"
         },
         {
          "Bib": 897,
          "TeamName": "Bitchymen Plus Three",
          "leg": "TA7",
          "leg_time_c": "2018-07-07 21:48:36.200",
          "leg_time_i": "2018-07-07 01:50:02.100"
         },
         {
          "Bib": 864,
          "TeamName": "Magnificent 7",
          "leg": "TA7",
          "leg_time_c": "2018-07-07 21:50:28.200",
          "leg_time_i": "2018-07-07 01:26:06.700"
         },
         {
          "Bib": 889,
          "TeamName": "Epic Legs",
          "leg": "TA7",
          "leg_time_c": "2018-07-07 21:51:19.000",
          "leg_time_i": "2018-07-07 01:39:33.000"
         },
         {
          "Bib": 776,
          "TeamName": "No \"Olds\" Barred",
          "leg": "TA7",
          "leg_time_c": "2018-07-07 21:53:49.300",
          "leg_time_i": "2018-07-07 02:15:05.500"
         },
         {
          "Bib": 879,
          "TeamName": "TBD",
          "leg": "TA7",
          "leg_time_c": "2018-07-07 21:57:13.500",
          "leg_time_i": "2018-07-07 01:59:56.200"
         },
         {
          "Bib": 732,
          "TeamName": "Team Honey Badgers",
          "leg": "TA7",
          "leg_time_c": "2018-07-07 21:58:00.500",
          "leg_time_i": "2018-07-07 01:24:34.600"
         },
         {
          "Bib": 753,
          "TeamName": "#OMC2",
          "leg": "TA7",
          "leg_time_c": "2018-07-07 21:58:37.300",
          "leg_time_i": "2018-07-07 01:13:24.000"
         },
         {
          "Bib": 836,
          "TeamName": "Prairie dogs",
          "leg": "TA7",
          "leg_time_c": "2018-07-07 22:01:50.200",
          "leg_time_i": "2018-07-07 01:26:14.400"
         },
         {
          "Bib": 859,
          "TeamName": "The Twinkies",
          "leg": "TA7",
          "leg_time_c": "2018-07-07 22:01:59.700",
          "leg_time_i": "2018-07-07 01:25:17.700"
         },
         {
          "Bib": 855,
          "TeamName": "I though you said let's go for a rum!",
          "leg": "TA7",
          "leg_time_c": "2018-07-07 22:02:00.400",
          "leg_time_i": "2018-07-07 01:32:43.700"
         },
         {
          "Bib": 810,
          "TeamName": "Squirtin' Pepperoni",
          "leg": "TA7",
          "leg_time_c": "2018-07-07 22:02:28.100",
          "leg_time_i": "2018-07-07 01:33:55.700"
         },
         {
          "Bib": 701,
          "TeamName": "Sex Panthers",
          "leg": "TA7",
          "leg_time_c": "2018-07-07 22:08:51.900",
          "leg_time_i": "2018-07-07 01:39:14.300"
         },
         {
          "Bib": 893,
          "TeamName": "Sunday Mall Walkers",
          "leg": "TA7",
          "leg_time_c": "2018-07-07 22:09:15.400",
          "leg_time_i": "2018-07-07 01:41:41.100"
         },
         {
          "Bib": 723,
          "TeamName": "Leg Day",
          "leg": "TA7",
          "leg_time_c": "2018-07-07 22:09:18.300",
          "leg_time_i": "2018-07-07 01:47:51.500"
         },
         {
          "Bib": 770,
          "TeamName": "Jelly Bellies",
          "leg": "TA7",
          "leg_time_c": "2018-07-07 22:10:39.000",
          "leg_time_i": "2018-07-07 02:02:49.200"
         },
         {
          "Bib": 856,
          "TeamName": "Forged by Fire",
          "leg": "TA7",
          "leg_time_c": "2018-07-07 22:13:12.600",
          "leg_time_i": "2018-07-07 01:35:08.600"
         },
         {
          "Bib": 764,
          "TeamName": "Sin and Bear It",
          "leg": "TA7",
          "leg_time_c": "2018-07-07 22:14:09.400",
          "leg_time_i": "2018-07-07 01:46:51.400"
         },
         {
          "Bib": 857,
          "TeamName": "Trail Snails",
          "leg": "TA7",
          "leg_time_c": "2018-07-07 22:14:20.100",
          "leg_time_i": "2018-07-07 01:05:56.300"
         },
         {
          "Bib": 826,
          "TeamName": "Burpin' Pepperoni",
          "leg": "TA7",
          "leg_time_c": "2018-07-07 22:17:54.800",
          "leg_time_i": "2018-07-07 01:31:16.200"
         },
         {
          "Bib": 849,
          "TeamName": "6 Inches of Subway",
          "leg": "TA7",
          "leg_time_c": "2018-07-07 22:21:01.100",
          "leg_time_i": "2018-07-07 01:35:52.200"
         },
         {
          "Bib": 786,
          "TeamName": "Trail Droppings",
          "leg": "TA7",
          "leg_time_c": "2018-07-07 22:21:10.000",
          "leg_time_i": "2018-07-07 01:53:51.700"
         },
         {
          "Bib": 733,
          "TeamName": "Mother's Little Helpers",
          "leg": "TA7",
          "leg_time_c": "2018-07-07 22:23:23.400",
          "leg_time_i": "2018-07-07 01:58:56.300"
         },
         {
          "Bib": 717,
          "TeamName": "Rapid Thigh Movement",
          "leg": "TA7",
          "leg_time_c": "2018-07-07 22:25:27.300",
          "leg_time_i": "2018-07-07 02:07:01.800"
         },
         {
          "Bib": 766,
          "TeamName": "Runsofarians",
          "leg": "TA7",
          "leg_time_c": "2018-07-07 22:25:51.700",
          "leg_time_i": "2018-07-07 01:26:38.700"
         },
         {
          "Bib": 761,
          "TeamName": "twisted blisters",
          "leg": "TA7",
          "leg_time_c": "2018-07-07 22:27:56.500",
          "leg_time_i": "2018-07-07 01:51:56.800"
         },
         {
          "Bib": 715,
          "TeamName": "Wandering Souls",
          "leg": "TA7",
          "leg_time_c": "2018-07-07 22:39:07.300",
          "leg_time_i": "2018-07-07 01:22:59.500"
         },
         {
          "Bib": 833,
          "TeamName": "Rough Runners",
          "leg": "TA7",
          "leg_time_c": "2018-07-07 22:42:52.600",
          "leg_time_i": "2018-07-07 01:57:19.900"
         },
         {
          "Bib": 743,
          "TeamName": "All Mixed Up",
          "leg": "TA7",
          "leg_time_c": "2018-07-07 22:48:30.200",
          "leg_time_i": "2018-07-07 01:31:58.700"
         },
         {
          "Bib": 771,
          "TeamName": "Lets get Rocked!",
          "leg": "TA7",
          "leg_time_c": "2018-07-07 22:50:37.900",
          "leg_time_i": "2018-07-07 01:22:11.100"
         },
         {
          "Bib": 822,
          "TeamName": "RAF",
          "leg": "TA7",
          "leg_time_c": "2018-07-07 22:51:05.100",
          "leg_time_i": "2018-07-07 01:42:50.500"
         },
         {
          "Bib": 899,
          "TeamName": "The Young & The Breathless",
          "leg": "TA7",
          "leg_time_c": "2018-07-07 22:51:33.500",
          "leg_time_i": "2018-07-07 01:39:48.100"
         },
         {
          "Bib": 862,
          "TeamName": "Your Pace or Mine?",
          "leg": "TA7",
          "leg_time_c": "2018-07-07 22:51:40.600",
          "leg_time_i": "2018-07-07 01:39:46.200"
         },
         {
          "Bib": 780,
          "TeamName": "Running on the Edge",
          "leg": "TA7",
          "leg_time_c": "2018-07-07 22:51:57.900",
          "leg_time_i": "2018-07-07 01:27:10.000"
         },
         {
          "Bib": 876,
          "TeamName": "Rhabd'oh!",
          "leg": "TA7",
          "leg_time_c": "2018-07-07 22:55:15.400",
          "leg_time_i": "2018-07-07 01:45:04.900"
         },
         {
          "Bib": 878,
          "TeamName": "A Mixed Bag",
          "leg": "TA7",
          "leg_time_c": "2018-07-07 22:57:40.900",
          "leg_time_i": "2018-07-07 01:25:46.900"
         },
         {
          "Bib": 781,
          "TeamName": "Ponoka Path Pounders",
          "leg": "TA7",
          "leg_time_c": "2018-07-07 22:58:37.200",
          "leg_time_i": "2018-07-07 01:22:14.700"
         },
         {
          "Bib": 828,
          "TeamName": "Team Schwetty Balls",
          "leg": "TA7",
          "leg_time_c": "2018-07-07 22:59:31.100",
          "leg_time_i": "2018-07-07 01:20:59.100"
         },
         {
          "Bib": 830,
          "TeamName": "Scrambled Legs",
          "leg": "TA7",
          "leg_time_c": "2018-07-07 22:59:44.800",
          "leg_time_i": "2018-07-07 01:30:32.900"
         },
         {
          "Bib": 760,
          "TeamName": "Bear Bait",
          "leg": "TA7",
          "leg_time_c": "2018-07-07 23:01:45.500",
          "leg_time_i": "2018-07-07 01:39:40.600"
         },
         {
          "Bib": 765,
          "TeamName": "Something Wicked This Way Runs",
          "leg": "TA7",
          "leg_time_c": "2018-07-07 23:07:08.700",
          "leg_time_i": "2018-07-07 01:30:18.500"
         },
         {
          "Bib": 851,
          "TeamName": "ThunderCats",
          "leg": "TA7",
          "leg_time_c": "2018-07-07 23:07:52.800",
          "leg_time_i": "2018-07-07 01:53:56.900"
         },
         {
          "Bib": 756,
          "TeamName": "Dust Bunnies",
          "leg": "TA7",
          "leg_time_c": "2018-07-07 23:07:56.600",
          "leg_time_i": "2018-07-07 01:53:42.000"
         },
         {
          "Bib": 767,
          "TeamName": "It's Your Breath in Our Lungs",
          "leg": "TA7",
          "leg_time_c": "2018-07-07 23:08:59.100",
          "leg_time_i": "2018-07-07 01:45:18.900"
         },
         {
          "Bib": 718,
          "TeamName": "Hot Flashes",
          "leg": "TA7",
          "leg_time_c": "2018-07-07 23:09:56.800",
          "leg_time_i": "2018-07-07 01:53:26.000"
         },
         {
          "Bib": 804,
          "TeamName": "6 Goat Sheeps And A Kid",
          "leg": "TA7",
          "leg_time_c": "2018-07-07 23:12:20.400",
          "leg_time_i": "2018-07-07 01:43:02.800"
         },
         {
          "Bib": 783,
          "TeamName": "Fine Winers",
          "leg": "TA7",
          "leg_time_c": "2018-07-07 23:13:13.900",
          "leg_time_i": "2018-07-07 01:13:36.400"
         },
         {
          "Bib": 866,
          "TeamName": "A-Town Animals",
          "leg": "TA7",
          "leg_time_c": "2018-07-07 23:14:15.200",
          "leg_time_i": "2018-07-07 02:14:14.100"
         },
         {
          "Bib": 913,
          "TeamName": "Hedging on the Kiwi",
          "leg": "TA7",
          "leg_time_c": "2018-07-07 23:14:28.200",
          "leg_time_i": "2018-07-07 01:43:07.500"
         },
         {
          "Bib": 883,
          "TeamName": "I'd HIIT That",
          "leg": "TA7",
          "leg_time_c": "2018-07-07 23:18:44.800",
          "leg_time_i": "2018-07-07 01:40:14.100"
         },
         {
          "Bib": 837,
          "TeamName": "Cougar-BearSnake",
          "leg": "TA7",
          "leg_time_c": "2018-07-07 23:22:34.700",
          "leg_time_i": "2018-07-07 01:35:42.800"
         },
         {
          "Bib": 713,
          "TeamName": "Dangerous Divas",
          "leg": "TA7",
          "leg_time_c": "2018-07-07 23:25:48.700",
          "leg_time_i": "2018-07-07 01:27:01.500"
         },
         {
          "Bib": 726,
          "TeamName": "No One Told Me There'd Be Chafing!",
          "leg": "TA7",
          "leg_time_c": "2018-07-07 23:27:25.700",
          "leg_time_i": "2018-07-07 02:08:22.500"
         },
         {
          "Bib": 747,
          "TeamName": "Hill Humpers",
          "leg": "TA7",
          "leg_time_c": "2018-07-07 23:28:01.400",
          "leg_time_i": "2018-07-07 01:29:14.200"
         },
         {
          "Bib": 871,
          "TeamName": "Recovering Accountaholics",
          "leg": "TA7",
          "leg_time_c": "2018-07-07 23:28:25.800",
          "leg_time_i": "2018-07-07 01:17:09.100"
         },
         {
          "Bib": 854,
          "TeamName": "WarriorPacks",
          "leg": "TA7",
          "leg_time_c": "2018-07-07 23:30:14.100",
          "leg_time_i": "2018-07-07 01:22:20.100"
         },
         {
          "Bib": 730,
          "TeamName": "SWATT",
          "leg": "TA7",
          "leg_time_c": "2018-07-07 23:32:51.600",
          "leg_time_i": "2018-07-07 02:17:56.500"
         },
         {
          "Bib": 738,
          "TeamName": "#OMC1",
          "leg": "TA7",
          "leg_time_c": "2018-07-07 23:34:04.400",
          "leg_time_i": "2018-07-07 01:28:00.500"
         },
         {
          "Bib": 895,
          "TeamName": "Prairie Dogs",
          "leg": "TA7",
          "leg_time_c": "2018-07-07 23:37:11.000",
          "leg_time_i": "2018-07-07 01:33:44.400"
         },
         {
          "Bib": 782,
          "TeamName": "The Brandy Bunch",
          "leg": "TA7",
          "leg_time_c": "2018-07-07 23:39:30.200",
          "leg_time_i": "2018-07-07 02:13:07.000"
         },
         {
          "Bib": 736,
          "TeamName": "Run, Sweat, and Beers",
          "leg": "TA7",
          "leg_time_c": "2018-07-07 23:39:49.300",
          "leg_time_i": "2018-07-07 01:42:08.200"
         },
         {
          "Bib": 903,
          "TeamName": "Clear Lake Crusaders",
          "leg": "TA7",
          "leg_time_c": "2018-07-07 23:41:30.900",
          "leg_time_i": "2018-07-07 01:50:11.000"
         },
         {
          "Bib": 906,
          "TeamName": "Dauntless",
          "leg": "TA7",
          "leg_time_c": "2018-07-07 23:45:10.000",
          "leg_time_i": "2018-07-07 01:39:06.700"
         },
         {
          "Bib": 785,
          "TeamName": "United Cycle Team Lost and Confused",
          "leg": "TA7",
          "leg_time_c": "2018-07-07 23:48:59.200",
          "leg_time_i": "2018-07-07 01:22:33.000"
         },
         {
          "Bib": 882,
          "TeamName": "What The Hill Are We Doing??",
          "leg": "TA7",
          "leg_time_c": "2018-07-07 23:53:11.800",
          "leg_time_i": "2018-07-07 01:37:32.000"
         },
         {
          "Bib": 827,
          "TeamName": "It was all feathers",
          "leg": "TA7",
          "leg_time_c": "2018-07-07 23:54:12.500",
          "leg_time_i": "2018-07-07 01:28:57.900"
         },
         {
          "Bib": 807,
          "TeamName": "Messy Seven",
          "leg": "TA7",
          "leg_time_c": "2018-07-07 23:55:45.500",
          "leg_time_i": "2018-07-07 03:48:10.800"
         },
         {
          "Bib": 741,
          "TeamName": "Blackbird",
          "leg": "TA7",
          "leg_time_c": "2018-07-07 23:57:43.100",
          "leg_time_i": "2018-07-07 01:28:04.100"
         },
         {
          "Bib": 848,
          "TeamName": "Run.Rehab.Run.Repeat.",
          "leg": "TA7",
          "leg_time_c": "2018-07-07 23:59:05.000",
          "leg_time_i": "2018-07-07 01:42:34.000"
         },
         {
          "Bib": 805,
          "TeamName": "Jogander",
          "leg": "TA7",
          "leg_time_c": "2018-07-08 00:02:18.500",
          "leg_time_i": "2018-07-07 01:53:49.500"
         },
         {
          "Bib": 748,
          "TeamName": "Sister Wives",
          "leg": "TA7",
          "leg_time_c": "2018-07-08 00:03:46.000",
          "leg_time_i": "2018-07-07 01:31:23.700"
         },
         {
          "Bib": 794,
          "TeamName": "RIOT - Running is our Therapy",
          "leg": "TA7",
          "leg_time_c": "2018-07-08 00:06:02.800",
          "leg_time_i": "2018-07-07 01:47:31.800"
         },
         {
          "Bib": 739,
          "TeamName": "Toe Nails Are For Sissies.",
          "leg": "TA7",
          "leg_time_c": "2018-07-08 00:08:41.700",
          "leg_time_i": "2018-07-07 01:46:08.900"
         },
         {
          "Bib": 705,
          "TeamName": "JBF Revival",
          "leg": "TA7",
          "leg_time_c": "2018-07-08 00:14:32.700",
          "leg_time_i": "2018-07-07 01:20:07.400"
         },
         {
          "Bib": 793,
          "TeamName": "Ignorance is Blisters",
          "leg": "TA7",
          "leg_time_c": "2018-07-08 00:16:01.100",
          "leg_time_i": "2018-07-07 02:01:29.900"
         },
         {
          "Bib": 852,
          "TeamName": "Minimum Champions",
          "leg": "TA7",
          "leg_time_c": "2018-07-08 00:18:54.200",
          "leg_time_i": "2018-07-07 01:48:37.900"
         },
         {
          "Bib": 819,
          "TeamName": "Team Side Group",
          "leg": "TA7",
          "leg_time_c": "2018-07-08 00:20:36.900",
          "leg_time_i": "2018-07-07 01:04:30.800"
         },
         {
          "Bib": 914,
          "TeamName": "Tears then Beers",
          "leg": "TA7",
          "leg_time_c": "2018-07-08 00:25:05.800",
          "leg_time_i": "2018-07-07 01:12:08.000"
         },
         {
          "Bib": 720,
          "TeamName": "#rundefined",
          "leg": "TA7",
          "leg_time_c": "2018-07-08 00:25:24.900",
          "leg_time_i": "2018-07-07 01:34:57.100"
         },
         {
          "Bib": 870,
          "TeamName": "The Virgins",
          "leg": "TA7",
          "leg_time_c": "2018-07-08 00:29:36.600",
          "leg_time_i": "2018-07-07 01:43:35.800"
         },
         {
          "Bib": 752,
          "TeamName": "All Downhill From Here!",
          "leg": "TA7",
          "leg_time_c": "2018-07-08 00:30:28.100",
          "leg_time_i": "2018-07-07 02:26:17.600"
         },
         {
          "Bib": 802,
          "TeamName": "#runswithwill",
          "leg": "TA7",
          "leg_time_c": "2018-07-08 00:32:15.500",
          "leg_time_i": "2018-07-07 01:35:28.500"
         },
         {
          "Bib": 811,
          "TeamName": "RavenMad",
          "leg": "TA7",
          "leg_time_c": "2018-07-08 00:32:37.500",
          "leg_time_i": "2018-07-07 02:07:55.700"
         },
         {
          "Bib": 800,
          "TeamName": "Run Forest Run!",
          "leg": "TA7",
          "leg_time_c": "2018-07-08 00:33:08.900",
          "leg_time_i": "2018-07-07 01:39:48.500"
         },
         {
          "Bib": 789,
          "TeamName": "Bush Pounders",
          "leg": "TA7",
          "leg_time_c": "2018-07-08 00:37:50.000",
          "leg_time_i": "2018-07-07 02:18:45.300"
         },
         {
          "Bib": 772,
          "TeamName": "Don't suck",
          "leg": "TA7",
          "leg_time_c": "2018-07-08 00:37:53.100",
          "leg_time_i": "2018-07-07 01:44:32.800"
         },
         {
          "Bib": 887,
          "TeamName": "Team Pain",
          "leg": "TA7",
          "leg_time_c": "2018-07-08 00:40:05.000",
          "leg_time_i": "2018-07-07 01:20:57.300"
         },
         {
          "Bib": 881,
          "TeamName": "In Over of Heads",
          "leg": "TA7",
          "leg_time_c": "2018-07-08 00:42:32.700",
          "leg_time_i": "2018-07-07 01:42:36.800"
         },
         {
          "Bib": 813,
          "TeamName": "Team Yellow",
          "leg": "TA7",
          "leg_time_c": "2018-07-08 00:44:30.100",
          "leg_time_i": "2018-07-07 01:21:01.700"
         },
         {
          "Bib": 768,
          "TeamName": "Set Fire to the Wicked Pain",
          "leg": "TA7",
          "leg_time_c": "2018-07-08 00:44:30.800",
          "leg_time_i": "2018-07-07 01:20:29.700"
         },
         {
          "Bib": 801,
          "TeamName": "SWAT - So What About Training",
          "leg": "TA7",
          "leg_time_c": "2018-07-08 00:55:08.800",
          "leg_time_i": "2018-07-07 02:15:50.900"
         },
         {
          "Bib": 792,
          "TeamName": "A Murder of Runners",
          "leg": "TA7",
          "leg_time_c": "2018-07-08 01:01:48.900",
          "leg_time_i": "2018-07-07 01:41:36.300"
         },
         {
          "Bib": 875,
          "TeamName": "Team Wu",
          "leg": "TA7",
          "leg_time_c": "2018-07-08 01:04:17.100",
          "leg_time_i": "2018-07-07 01:01:04.800"
         },
         {
          "Bib": 841,
          "TeamName": "Forced, bribed, or willing?",
          "leg": "TA7",
          "leg_time_c": "2018-07-08 01:04:23.100",
          "leg_time_i": "2018-07-07 01:41:40.300"
         },
         {
          "Bib": 762,
          "TeamName": "Are we there yet?",
          "leg": "TA7",
          "leg_time_c": "2018-07-08 01:04:37.600",
          "leg_time_i": "2018-07-07 01:11:28.700"
         },
         {
          "Bib": 886,
          "TeamName": "Peanut Butter Jelly Legs",
          "leg": "TA7",
          "leg_time_c": "2018-07-08 01:05:59.900",
          "leg_time_i": "2018-07-07 02:15:27.800"
         },
         {
          "Bib": 838,
          "TeamName": "Bear-ly Made It",
          "leg": "TA7",
          "leg_time_c": "2018-07-08 01:06:22.800",
          "leg_time_i": "2018-07-07 01:10:54.400"
         },
         {
          "Bib": 817,
          "TeamName": "Summit Slayers",
          "leg": "TA7",
          "leg_time_c": "2018-07-08 01:11:14.400",
          "leg_time_i": "2018-07-07 01:18:16.700"
         },
         {
          "Bib": 916,
          "TeamName": "Sassy Sinister Sexpots",
          "leg": "TA7",
          "leg_time_c": "2018-07-08 01:14:35.900",
          "leg_time_i": "2018-07-07 01:28:02.600"
         },
         {
          "Bib": 712,
          "TeamName": "S Club 7",
          "leg": "TA7",
          "leg_time_c": "2018-07-08 01:17:40.000",
          "leg_time_i": "2018-07-07 01:21:35.300"
         },
         {
          "Bib": 735,
          "TeamName": "Girls Gone Trail",
          "leg": "TA7",
          "leg_time_c": "2018-07-08 01:17:45.300",
          "leg_time_i": "2018-07-07 01:37:40.900"
         },
         {
          "Bib": 896,
          "TeamName": "Triple Terrain Trail Trekkers",
          "leg": "TA7",
          "leg_time_c": "2018-07-08 01:17:57.600",
          "leg_time_i": "2018-07-07 01:06:45.300"
         },
         {
          "Bib": 829,
          "TeamName": "Pace Jam",
          "leg": "TA7",
          "leg_time_c": "2018-07-08 01:19:31.000",
          "leg_time_i": "2018-07-07 01:09:57.900"
         },
         {
          "Bib": 884,
          "TeamName": "Easier said than run!",
          "leg": "TA7",
          "leg_time_c": "2018-07-08 01:20:57.700",
          "leg_time_i": "2018-07-07 01:41:35.600"
         },
         {
          "Bib": 911,
          "TeamName": "7 Ways to Lose A Runner",
          "leg": "TA7",
          "leg_time_c": "2018-07-08 01:21:06.700",
          "leg_time_i": "2018-07-07 01:16:17.900"
         },
         {
          "Bib": 749,
          "TeamName": "Lactic Acid Flashback",
          "leg": "TA7",
          "leg_time_c": "2018-07-08 01:21:10.900",
          "leg_time_i": "2018-07-07 01:27:18.900"
         },
         {
          "Bib": 702,
          "TeamName": "GFP",
          "leg": "TA7",
          "leg_time_c": "2018-07-08 01:21:24.000",
          "leg_time_i": "2018-07-07 01:58:43.600"
         },
         {
          "Bib": 885,
          "TeamName": "Cobra Kai",
          "leg": "TA7",
          "leg_time_c": "2018-07-08 01:21:56.900",
          "leg_time_i": "2018-07-07 01:26:20.000"
         },
         {
          "Bib": 721,
          "TeamName": "7 Ways to Lose a Runner",
          "leg": "TA7",
          "leg_time_c": "2018-07-08 01:24:34.300",
          "leg_time_i": "2018-07-07 02:07:56.100"
         },
         {
          "Bib": 759,
          "TeamName": "Cougar Bait",
          "leg": "TA7",
          "leg_time_c": "2018-07-08 01:24:38.700",
          "leg_time_i": "2018-07-07 01:39:14.000"
         },
         {
          "Bib": 773,
          "TeamName": "Estrogen Rush",
          "leg": "TA7",
          "leg_time_c": "2018-07-08 01:29:26.800",
          "leg_time_i": "2018-07-07 01:44:51.400"
         },
         {
          "Bib": 778,
          "TeamName": "City Fit Shop Rocks",
          "leg": "TA7",
          "leg_time_c": "2018-07-08 01:44:58.900",
          "leg_time_i": "2018-07-07 01:48:45.300"
         },
         {
          "Bib": 912,
          "TeamName": "Evil Murray and his Badass Bitches",
          "leg": "TA7",
          "leg_time_c": "2018-07-08 01:49:20.900",
          "leg_time_i": "2018-07-07 01:30:43.700"
         },
         {
          "Bib": 708,
          "TeamName": "Strongbow and Deep Fried Pickles",
          "leg": "TA7",
          "leg_time_c": "2018-07-08 01:52:06.100",
          "leg_time_i": "2018-07-07 01:52:14.300"
         },
         {
          "Bib": 706,
          "TeamName": "Just Don't Die FFS",
          "leg": "TA7",
          "leg_time_c": "2018-07-08 01:53:48.200",
          "leg_time_i": "2018-07-07 01:41:20.900"
         },
         {
          "Bib": 877,
          "TeamName": "THe Free Agents",
          "leg": "TA7",
          "leg_time_c": "2018-07-08 01:57:40.200",
          "leg_time_i": "2018-07-07 01:19:51.400"
         },
         {
          "Bib": 719,
          "TeamName": "Faster than Molasses",
          "leg": "TA7",
          "leg_time_c": "2018-07-08 02:03:40.300",
          "leg_time_i": "2018-07-07 01:19:49.500"
         },
         {
          "Bib": 863,
          "TeamName": "SPEED UP RACING",
          "leg": "TA7",
          "leg_time_c": "2018-07-08 02:06:38.200",
          "leg_time_i": "2018-07-07 02:17:21.100"
         },
         {
          "Bib": 725,
          "TeamName": "6 Sinners and a Saint",
          "leg": "TA7",
          "leg_time_c": "2018-07-08 02:08:40.300",
          "leg_time_i": "2018-07-07 01:40:46.800"
         },
         {
          "Bib": 868,
          "TeamName": "Thunder Cats",
          "leg": "TA7",
          "leg_time_c": "2018-07-08 02:09:44.600",
          "leg_time_i": "2018-07-07 01:30:52.800"
         },
         {
          "Bib": 769,
          "TeamName": "Midlife Runners",
          "leg": "TA7",
          "leg_time_c": "2018-07-08 02:13:13.200",
          "leg_time_i": "2018-07-07 01:32:29.400"
         },
         {
          "Bib": 874,
          "TeamName": "City Fit Shop Scissors",
          "leg": "TA7",
          "leg_time_c": "2018-07-08 02:20:15.200",
          "leg_time_i": "2018-07-07 01:07:03.100"
         },
         {
          "Bib": 861,
          "TeamName": "Fuster Clucks",
          "leg": "TA7",
          "leg_time_c": "2018-07-08 02:22:40.600",
          "leg_time_i": "2018-07-07 01:31:41.200"
         },
         {
          "Bib": 909,
          "TeamName": "Male Triple Terrain Trekkers",
          "leg": "TA7",
          "leg_time_c": "2018-07-08 02:23:56.300",
          "leg_time_i": "2018-07-07 01:30:26.500"
         },
         {
          "Bib": 704,
          "TeamName": "Buck Up",
          "leg": "TA7",
          "leg_time_c": "2018-07-08 02:32:46.900",
          "leg_time_i": "2018-07-07 01:11:09.800"
         },
         {
          "Bib": 832,
          "TeamName": "A View to a Hill",
          "leg": "TA7",
          "leg_time_c": "2018-07-08 02:37:23.900",
          "leg_time_i": "2018-07-07 02:28:46.400"
         },
         {
          "Bib": 799,
          "TeamName": "Running Back To Saskatoon",
          "leg": "TA7",
          "leg_time_c": "2018-07-08 02:38:54.100",
          "leg_time_i": "2018-07-07 01:32:11.500"
         },
         {
          "Bib": 731,
          "TeamName": "Never Again",
          "leg": "TA7",
          "leg_time_c": "2018-07-08 02:49:33.600",
          "leg_time_i": "2018-07-07 01:44:11.400"
         },
         {
          "Bib": 901,
          "TeamName": "12 feet 1 footz",
          "leg": "TA7",
          "leg_time_c": "2018-07-08 02:57:18.600",
          "leg_time_i": "2018-07-07 02:12:56.900"
         },
         {
          "Bib": 890,
          "TeamName": "More legs than a bucket of chicken",
          "leg": "TA7",
          "leg_time_c": "2018-07-08 02:57:44.500",
          "leg_time_i": "2018-07-07 02:13:17.900"
         },
         {
          "Bib": 774,
          "TeamName": "City Fit SHop PAPER",
          "leg": "TA7",
          "leg_time_c": "2018-07-08 03:07:06.500",
          "leg_time_i": "2018-07-07 01:53:54.800"
         },
         {
          "Bib": 703,
          "TeamName": "Tag, you're it",
          "leg": "TA7",
          "leg_time_c": "2018-07-08 03:08:41.200",
          "leg_time_i": "2018-07-07 01:35:08.100"
         },
         {
          "Bib": 742,
          "TeamName": "Ultra Relay-tionship Goals",
          "leg": "TA7",
          "leg_time_c": "2018-07-08 03:12:52.500",
          "leg_time_i": "2018-07-07 01:46:11.300"
         },
         {
          "Bib": 758,
          "TeamName": "Long distance Relay-tionships",
          "leg": "TA7",
          "leg_time_c": "2018-07-08 03:12:52.700",
          "leg_time_i": "2018-07-07 01:46:11.000"
         },
         {
          "Bib": 729,
          "TeamName": "Ruck Funning",
          "leg": "TA7",
          "leg_time_c": "2018-07-08 03:20:14.100",
          "leg_time_i": "2018-07-07 02:04:44.700"
         },
         {
          "Bib": 797,
          "TeamName": "The Young and the Breathless",
          "leg": "TA7",
          "leg_time_c": "2018-07-08 03:26:58.100",
          "leg_time_i": "2018-07-07 01:36:36.200"
         },
         {
          "Bib": 795,
          "TeamName": "Weary and Draggin",
          "leg": "TA7",
          "leg_time_c": "2018-07-08 03:32:14.300",
          "leg_time_i": "2018-07-07 01:28:17.800"
         },
         {
          "Bib": 915,
          "TeamName": "Running People",
          "leg": "TA7",
          "leg_time_c": "2018-07-08 03:41:26.600",
          "leg_time_i": "2018-07-07 02:10:51.000"
         },
         {
          "Bib": 835,
          "TeamName": "But did you die?",
          "leg": "TA7",
          "leg_time_c": "2018-07-08 03:45:47.100",
          "leg_time_i": "2018-07-07 01:10:58.300"
         },
         {
          "Bib": 716,
          "TeamName": "Battle Star Lacitic A",
          "leg": "TA7",
          "leg_time_c": "2018-07-08 03:51:26.400",
          "leg_time_i": "2018-07-07 01:35:06.900"
         },
         {
          "Bib": 790,
          "TeamName": "The Deadly Medley",
          "leg": "TA7",
          "leg_time_c": "2018-07-08 03:53:17.500",
          "leg_time_i": "2018-07-07 01:35:30.000"
         },
         {
          "Bib": 825,
          "TeamName": "Dirty Threesome In The Woods",
          "leg": "TA7",
          "leg_time_c": "2018-07-08 03:54:11.900",
          "leg_time_i": "2018-07-07 01:54:04.100"
         },
         {
          "Bib": 814,
          "TeamName": "Dark Horse",
          "leg": "TA7",
          "leg_time_c": "2018-07-08 03:54:28.000",
          "leg_time_i": "2018-07-07 02:27:50.100"
         },
         {
          "Bib": 844,
          "TeamName": "The Bear Necessities",
          "leg": "TA7",
          "leg_time_c": "2018-07-08 03:56:21.800",
          "leg_time_i": "2018-07-07 01:40:53.000"
         },
         {
          "Bib": 714,
          "TeamName": "The Kings and Queens of Sin",
          "leg": "TA7",
          "leg_time_c": "2018-07-08 04:06:04.400",
          "leg_time_i": "2018-07-07 01:51:17.200"
         },
         {
          "Bib": 898,
          "TeamName": "Dead Sexy",
          "leg": "TA7",
          "leg_time_c": "2018-07-08 04:14:28.700",
          "leg_time_i": "2018-07-07 01:44:06.300"
         },
         {
          "Bib": 892,
          "TeamName": "Swamp Donkeys",
          "leg": "TA7",
          "leg_time_c": "2018-07-08 04:17:42.300",
          "leg_time_i": "2018-07-07 01:33:16.400"
         },
         {
          "Bib": 888,
          "TeamName": "Running Because We Can",
          "leg": "TA7",
          "leg_time_c": "2018-07-08 04:36:07.100",
          "leg_time_i": "2018-07-07 03:37:29.600"
         },
         {
          "Bib": 754,
          "TeamName": "#OMC3",
          "leg": "TA7",
          "leg_time_c": "2018-07-08 04:52:36.500",
          "leg_time_i": "2018-07-07 01:57:53.500"
         },
         {
          "Bib": 818,
          "TeamName": "Hangry Beers",
          "leg": "TA7",
          "leg_time_c": "2018-07-08 05:10:03.900",
          "leg_time_i": "2018-07-07 02:04:22.500"
         }
        ]
       },
       "vconcat": [
        {
         "encoding": {
          "color": {
           "condition": {
            "field": "TeamName",
            "legend": null,
            "selection": "selector002",
            "type": "nominal"
           },
           "value": "lightblue"
          },
          "opacity": {
           "condition": {
            "selection": "selector002",
            "value": 1
           },
           "value": 0.5
          },
          "size": {
           "condition": {
            "selection": "selector002",
            "value": 50
           },
           "value": 30
          },
          "tooltip": [
           {
            "field": "leg_time_i",
            "format": "%H:%M:%S",
            "title": "Ind Leg Time",
            "type": "temporal"
           },
           {
            "field": "leg_time_c",
            "format": "%H:%M:%S",
            "title": "Team Leg Time",
            "type": "temporal"
           },
           {
            "field": "Bib",
            "type": "nominal"
           },
           {
            "field": "TeamName",
            "type": "nominal"
           },
           {
            "field": "leg_rank_i",
            "title": "Individual Leg Rank",
            "type": "ordinal"
           },
           {
            "field": "leg_rank_c",
            "title": "Team Leg Rank",
            "type": "ordinal"
           }
          ],
          "x": {
           "axis": {
            "format": "%H:%M",
            "title": "Leg Time"
           },
           "field": "leg_time_c",
           "timeUnit": "yearmonthdatehoursminutesseconds",
           "type": "temporal"
          },
          "y": {
           "field": "leg",
           "title": "Leg",
           "type": "ordinal"
          }
         },
         "height": 300,
         "mark": {
          "opacity": 0.9,
          "orient": "vertical",
          "type": "tick"
         },
         "selection": {
          "selector002": {
           "empty": "none",
           "fields": [
            "Bib"
           ],
           "on": "click",
           "resolve": "global",
           "toggle": "event.shiftKey",
           "type": "multi"
          },
          "selector003": {
           "bind": "scales",
           "encodings": [
            "x"
           ],
           "mark": {
            "fill": "#333",
            "fillOpacity": 0.125,
            "stroke": "white"
           },
           "on": "[mousedown, window:mouseup] > window:mousemove!",
           "resolve": "global",
           "translate": "[mousedown, window:mouseup] > window:mousemove!",
           "type": "interval",
           "zoom": "wheel!"
          }
         },
         "title": "Sinister 7 Team Leg Times - 2018",
         "transform": [
          {
           "filter": "datum.leg_time_c > toDate('2018-07-07 00:00:00.000') |  datum.leg_time_i > toDate('2018-07-07 00:00:00.000')"
          },
          {
           "frame": [
            null,
            null
           ],
           "groupby": [
            "leg"
           ],
           "sort": [
            {
             "field": "leg_time_i",
             "order": "ascending"
            }
           ],
           "window": [
            {
             "as": "leg_rank_i",
             "field": "leg_time_i",
             "op": "rank"
            }
           ]
          },
          {
           "frame": [
            null,
            null
           ],
           "groupby": [
            "leg"
           ],
           "sort": [
            {
             "field": "leg_time_c",
             "order": "ascending"
            }
           ],
           "window": [
            {
             "as": "leg_rank_c",
             "field": "leg_time_c",
             "op": "rank"
            }
           ]
          }
         ],
         "width": 1000
        },
        {
         "encoding": {
          "color": {
           "condition": {
            "field": "TeamName",
            "legend": null,
            "selection": "selector002",
            "type": "nominal"
           },
           "value": "lightblue"
          },
          "opacity": {
           "condition": {
            "selection": "selector002",
            "value": 1
           },
           "value": 0.5
          },
          "size": {
           "condition": {
            "selection": "selector002",
            "value": 50
           },
           "value": 30
          },
          "tooltip": [
           {
            "field": "leg_time_i",
            "format": "%H:%M:%S",
            "title": "Ind Leg Time",
            "type": "temporal"
           },
           {
            "field": "leg_time_c",
            "format": "%H:%M:%S",
            "title": "Team Leg Time",
            "type": "temporal"
           },
           {
            "field": "Bib",
            "type": "nominal"
           },
           {
            "field": "TeamName",
            "type": "nominal"
           },
           {
            "field": "leg_rank_i",
            "title": "Individual Leg Rank",
            "type": "ordinal"
           },
           {
            "field": "leg_rank_c",
            "title": "Team Leg Rank",
            "type": "ordinal"
           }
          ],
          "x": {
           "axis": {
            "format": "%H:%M",
            "title": "Leg Time"
           },
           "field": "leg_time_i",
           "timeUnit": "hoursminutesseconds",
           "type": "temporal"
          },
          "y": {
           "field": "leg",
           "title": "Leg",
           "type": "ordinal"
          }
         },
         "height": 300,
         "mark": {
          "opacity": 0.9,
          "orient": "vertical",
          "type": "tick"
         },
         "selection": {
          "selector002": {
           "empty": "none",
           "fields": [
            "Bib"
           ],
           "on": "click",
           "resolve": "global",
           "toggle": "event.shiftKey",
           "type": "multi"
          },
          "selector004": {
           "bind": "scales",
           "encodings": [
            "x"
           ],
           "mark": {
            "fill": "#333",
            "fillOpacity": 0.125,
            "stroke": "white"
           },
           "on": "[mousedown, window:mouseup] > window:mousemove!",
           "resolve": "global",
           "translate": "[mousedown, window:mouseup] > window:mousemove!",
           "type": "interval",
           "zoom": "wheel!"
          }
         },
         "title": "Sinister 7 Individual Leg Times - 2018",
         "transform": [
          {
           "filter": "datum.leg_time_c > toDate('2018-07-07 00:00:00.000') |  datum.leg_time_i > toDate('2018-07-07 00:00:00.000')"
          },
          {
           "frame": [
            null,
            null
           ],
           "groupby": [
            "leg"
           ],
           "sort": [
            {
             "field": "leg_time_i",
             "order": "ascending"
            }
           ],
           "window": [
            {
             "as": "leg_rank_i",
             "field": "leg_time_i",
             "op": "rank"
            }
           ]
          },
          {
           "frame": [
            null,
            null
           ],
           "groupby": [
            "leg"
           ],
           "sort": [
            {
             "field": "leg_time_c",
             "order": "ascending"
            }
           ],
           "window": [
            {
             "as": "leg_rank_c",
             "field": "leg_time_c",
             "op": "rank"
            }
           ]
          }
         ],
         "width": 1000
        }
       ]
      },
      "image/png": "[encoded data removed]",
      "text/plain": [
       "<VegaLite 2 object>\n",
       "\n",
       "If you see this message, it means the renderer has not been properly enabled\n",
       "for the frontend that you are using. For more information, see\n",
       "https://altair-viz.github.io/user_guide/troubleshooting.html\n"
      ]
     },
     "execution_count": 14,
     "metadata": {},
     "output_type": "execute_result"
    }
   ],
   "source": [
    "comb_c"
   ]
  },
  {
   "cell_type": "code",
   "execution_count": null,
   "metadata": {},
   "outputs": [],
   "source": []
  }
 ],
 "metadata": {
  "kernelspec": {
   "display_name": "Python [default]",
   "language": "python",
   "name": "python3"
  },
  "language_info": {
   "codemirror_mode": {
    "name": "ipython",
    "version": 3
   },
   "file_extension": ".py",
   "mimetype": "text/x-python",
   "name": "python",
   "nbconvert_exporter": "python",
   "pygments_lexer": "ipython3",
   "version": "3.6.5"
  }
 },
 "nbformat": 4,
 "nbformat_minor": 2
}
